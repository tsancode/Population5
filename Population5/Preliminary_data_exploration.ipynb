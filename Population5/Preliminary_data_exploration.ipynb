{
  "nbformat": 4,
  "nbformat_minor": 0,
  "metadata": {
    "colab": {
      "name": "Salinan dari project.ipynb",
      "provenance": [],
      "authorship_tag": "ABX9TyPR8GrL7Ox0zzFUTpzeuvYX",
      "include_colab_link": true
    },
    "kernelspec": {
      "name": "python3",
      "display_name": "Python 3"
    },
    "language_info": {
      "name": "python"
    }
  },
  "cells": [
    {
      "cell_type": "markdown",
      "metadata": {
        "id": "view-in-github",
        "colab_type": "text"
      },
      "source": [
        "<a href=\"https://colab.research.google.com/github/tsancode/Population5/blob/miftarj-klastering/Population5/Preliminary_data_exploration.ipynb\" target=\"_parent\"><img src=\"https://colab.research.google.com/assets/colab-badge.svg\" alt=\"Open In Colab\"/></a>"
      ]
    },
    {
      "cell_type": "code",
      "execution_count": 1,
      "metadata": {
        "id": "jn5TBYBrHkZh"
      },
      "outputs": [],
      "source": [
        "import tensorflow as tf\n",
        "import numpy as np\n",
        "import pandas as pd\n",
        "import requests\n",
        "from io import StringIO\n",
        "import matplotlib.pyplot as plt\n"
      ]
    },
    {
      "cell_type": "code",
      "source": [
        "orig_url2013='https://drive.google.com/file/d/11ZcRnzJOY17iu3NnHEtlRZE3MQvonDnu/view?usp=sharing'\n",
        "\n",
        "file_id2013 = orig_url2013.split('/')[-2]\n",
        "dwn_url2013='https://drive.google.com/uc?export=download&id=' + file_id2013\n",
        "url2013 = requests.get(dwn_url2013).text\n",
        "csv_raw2013 = StringIO(url2013)\n",
        "df2013 = pd.read_csv(csv_raw2013)"
      ],
      "metadata": {
        "id": "KStQ4EhXU-sl"
      },
      "execution_count": 2,
      "outputs": []
    },
    {
      "cell_type": "code",
      "source": [
        "orig_url2021='https://drive.google.com/file/d/1LasQV6oHhyVpSikPVi0Q1lJIE_nVJQMU/view?usp=sharing'\n",
        "\n",
        "file_id2021 = orig_url2021.split('/')[-2]\n",
        "dwn_url2021='https://drive.google.com/uc?export=download&id=' + file_id2021\n",
        "url2021 = requests.get(dwn_url2021).text\n",
        "csv_raw2021 = StringIO(url2021)\n",
        "df2021 = pd.read_csv(csv_raw2021)"
      ],
      "metadata": {
        "id": "l8Y7rZeLTDuv"
      },
      "execution_count": 3,
      "outputs": []
    },
    {
      "cell_type": "markdown",
      "source": [
        "Exploratory"
      ],
      "metadata": {
        "id": "LixPSXbNL93-"
      }
    },
    {
      "cell_type": "code",
      "source": [
        "df2013.head()"
      ],
      "metadata": {
        "colab": {
          "base_uri": "https://localhost:8080/",
          "height": 206
        },
        "id": "KyLR4K1VBtko",
        "outputId": "2c1f8c39-7aeb-428f-cd44-edfb422b1ae7"
      },
      "execution_count": 4,
      "outputs": [
        {
          "output_type": "execute_result",
          "data": {
            "text/plain": [
              "   tahun                                    wilayah  15-19  20-24  25-29  \\\n",
              "0   2013    JAKARTA BARATCENGKARENGCENGKARENG BARAT   6080   8751   7457   \n",
              "1   2013    JAKARTA BARATCENGKARENGCENGKARENG TIMUR   7266  10558   9572   \n",
              "2   2013        JAKARTA BARATCENGKARENGDURI KOSAMBI   6966  10207   9497   \n",
              "3   2013               JAKARTA BARATCENGKARENGKAPUK  13214  19164  17392   \n",
              "4   2013  JAKARTA BARATCENGKARENGKEDAUNG KALI ANGKE   3246   4736   4178   \n",
              "\n",
              "   30-34  35-39  40-44  45-49  50-54  55-59  60-64  \n",
              "0   5316   8537   9495   7443  10874  10291   5856  \n",
              "1   7146  11293  12407   9962  14307  12267   7164  \n",
              "2   6922  10686  11256   8455  12153  10594   6210  \n",
              "3  13011  20499  21974  17174  24654  21172  11809  \n",
              "4   2951   4707   5122   4099   6055   5546   3272  "
            ],
            "text/html": [
              "\n",
              "  <div id=\"df-1b7d3e33-947a-4e3a-8786-d4960751bce3\">\n",
              "    <div class=\"colab-df-container\">\n",
              "      <div>\n",
              "<style scoped>\n",
              "    .dataframe tbody tr th:only-of-type {\n",
              "        vertical-align: middle;\n",
              "    }\n",
              "\n",
              "    .dataframe tbody tr th {\n",
              "        vertical-align: top;\n",
              "    }\n",
              "\n",
              "    .dataframe thead th {\n",
              "        text-align: right;\n",
              "    }\n",
              "</style>\n",
              "<table border=\"1\" class=\"dataframe\">\n",
              "  <thead>\n",
              "    <tr style=\"text-align: right;\">\n",
              "      <th></th>\n",
              "      <th>tahun</th>\n",
              "      <th>wilayah</th>\n",
              "      <th>15-19</th>\n",
              "      <th>20-24</th>\n",
              "      <th>25-29</th>\n",
              "      <th>30-34</th>\n",
              "      <th>35-39</th>\n",
              "      <th>40-44</th>\n",
              "      <th>45-49</th>\n",
              "      <th>50-54</th>\n",
              "      <th>55-59</th>\n",
              "      <th>60-64</th>\n",
              "    </tr>\n",
              "  </thead>\n",
              "  <tbody>\n",
              "    <tr>\n",
              "      <th>0</th>\n",
              "      <td>2013</td>\n",
              "      <td>JAKARTA BARATCENGKARENGCENGKARENG BARAT</td>\n",
              "      <td>6080</td>\n",
              "      <td>8751</td>\n",
              "      <td>7457</td>\n",
              "      <td>5316</td>\n",
              "      <td>8537</td>\n",
              "      <td>9495</td>\n",
              "      <td>7443</td>\n",
              "      <td>10874</td>\n",
              "      <td>10291</td>\n",
              "      <td>5856</td>\n",
              "    </tr>\n",
              "    <tr>\n",
              "      <th>1</th>\n",
              "      <td>2013</td>\n",
              "      <td>JAKARTA BARATCENGKARENGCENGKARENG TIMUR</td>\n",
              "      <td>7266</td>\n",
              "      <td>10558</td>\n",
              "      <td>9572</td>\n",
              "      <td>7146</td>\n",
              "      <td>11293</td>\n",
              "      <td>12407</td>\n",
              "      <td>9962</td>\n",
              "      <td>14307</td>\n",
              "      <td>12267</td>\n",
              "      <td>7164</td>\n",
              "    </tr>\n",
              "    <tr>\n",
              "      <th>2</th>\n",
              "      <td>2013</td>\n",
              "      <td>JAKARTA BARATCENGKARENGDURI KOSAMBI</td>\n",
              "      <td>6966</td>\n",
              "      <td>10207</td>\n",
              "      <td>9497</td>\n",
              "      <td>6922</td>\n",
              "      <td>10686</td>\n",
              "      <td>11256</td>\n",
              "      <td>8455</td>\n",
              "      <td>12153</td>\n",
              "      <td>10594</td>\n",
              "      <td>6210</td>\n",
              "    </tr>\n",
              "    <tr>\n",
              "      <th>3</th>\n",
              "      <td>2013</td>\n",
              "      <td>JAKARTA BARATCENGKARENGKAPUK</td>\n",
              "      <td>13214</td>\n",
              "      <td>19164</td>\n",
              "      <td>17392</td>\n",
              "      <td>13011</td>\n",
              "      <td>20499</td>\n",
              "      <td>21974</td>\n",
              "      <td>17174</td>\n",
              "      <td>24654</td>\n",
              "      <td>21172</td>\n",
              "      <td>11809</td>\n",
              "    </tr>\n",
              "    <tr>\n",
              "      <th>4</th>\n",
              "      <td>2013</td>\n",
              "      <td>JAKARTA BARATCENGKARENGKEDAUNG KALI ANGKE</td>\n",
              "      <td>3246</td>\n",
              "      <td>4736</td>\n",
              "      <td>4178</td>\n",
              "      <td>2951</td>\n",
              "      <td>4707</td>\n",
              "      <td>5122</td>\n",
              "      <td>4099</td>\n",
              "      <td>6055</td>\n",
              "      <td>5546</td>\n",
              "      <td>3272</td>\n",
              "    </tr>\n",
              "  </tbody>\n",
              "</table>\n",
              "</div>\n",
              "      <button class=\"colab-df-convert\" onclick=\"convertToInteractive('df-1b7d3e33-947a-4e3a-8786-d4960751bce3')\"\n",
              "              title=\"Convert this dataframe to an interactive table.\"\n",
              "              style=\"display:none;\">\n",
              "        \n",
              "  <svg xmlns=\"http://www.w3.org/2000/svg\" height=\"24px\"viewBox=\"0 0 24 24\"\n",
              "       width=\"24px\">\n",
              "    <path d=\"M0 0h24v24H0V0z\" fill=\"none\"/>\n",
              "    <path d=\"M18.56 5.44l.94 2.06.94-2.06 2.06-.94-2.06-.94-.94-2.06-.94 2.06-2.06.94zm-11 1L8.5 8.5l.94-2.06 2.06-.94-2.06-.94L8.5 2.5l-.94 2.06-2.06.94zm10 10l.94 2.06.94-2.06 2.06-.94-2.06-.94-.94-2.06-.94 2.06-2.06.94z\"/><path d=\"M17.41 7.96l-1.37-1.37c-.4-.4-.92-.59-1.43-.59-.52 0-1.04.2-1.43.59L10.3 9.45l-7.72 7.72c-.78.78-.78 2.05 0 2.83L4 21.41c.39.39.9.59 1.41.59.51 0 1.02-.2 1.41-.59l7.78-7.78 2.81-2.81c.8-.78.8-2.07 0-2.86zM5.41 20L4 18.59l7.72-7.72 1.47 1.35L5.41 20z\"/>\n",
              "  </svg>\n",
              "      </button>\n",
              "      \n",
              "  <style>\n",
              "    .colab-df-container {\n",
              "      display:flex;\n",
              "      flex-wrap:wrap;\n",
              "      gap: 12px;\n",
              "    }\n",
              "\n",
              "    .colab-df-convert {\n",
              "      background-color: #E8F0FE;\n",
              "      border: none;\n",
              "      border-radius: 50%;\n",
              "      cursor: pointer;\n",
              "      display: none;\n",
              "      fill: #1967D2;\n",
              "      height: 32px;\n",
              "      padding: 0 0 0 0;\n",
              "      width: 32px;\n",
              "    }\n",
              "\n",
              "    .colab-df-convert:hover {\n",
              "      background-color: #E2EBFA;\n",
              "      box-shadow: 0px 1px 2px rgba(60, 64, 67, 0.3), 0px 1px 3px 1px rgba(60, 64, 67, 0.15);\n",
              "      fill: #174EA6;\n",
              "    }\n",
              "\n",
              "    [theme=dark] .colab-df-convert {\n",
              "      background-color: #3B4455;\n",
              "      fill: #D2E3FC;\n",
              "    }\n",
              "\n",
              "    [theme=dark] .colab-df-convert:hover {\n",
              "      background-color: #434B5C;\n",
              "      box-shadow: 0px 1px 3px 1px rgba(0, 0, 0, 0.15);\n",
              "      filter: drop-shadow(0px 1px 2px rgba(0, 0, 0, 0.3));\n",
              "      fill: #FFFFFF;\n",
              "    }\n",
              "  </style>\n",
              "\n",
              "      <script>\n",
              "        const buttonEl =\n",
              "          document.querySelector('#df-1b7d3e33-947a-4e3a-8786-d4960751bce3 button.colab-df-convert');\n",
              "        buttonEl.style.display =\n",
              "          google.colab.kernel.accessAllowed ? 'block' : 'none';\n",
              "\n",
              "        async function convertToInteractive(key) {\n",
              "          const element = document.querySelector('#df-1b7d3e33-947a-4e3a-8786-d4960751bce3');\n",
              "          const dataTable =\n",
              "            await google.colab.kernel.invokeFunction('convertToInteractive',\n",
              "                                                     [key], {});\n",
              "          if (!dataTable) return;\n",
              "\n",
              "          const docLinkHtml = 'Like what you see? Visit the ' +\n",
              "            '<a target=\"_blank\" href=https://colab.research.google.com/notebooks/data_table.ipynb>data table notebook</a>'\n",
              "            + ' to learn more about interactive tables.';\n",
              "          element.innerHTML = '';\n",
              "          dataTable['output_type'] = 'display_data';\n",
              "          await google.colab.output.renderOutput(dataTable, element);\n",
              "          const docLink = document.createElement('div');\n",
              "          docLink.innerHTML = docLinkHtml;\n",
              "          element.appendChild(docLink);\n",
              "        }\n",
              "      </script>\n",
              "    </div>\n",
              "  </div>\n",
              "  "
            ]
          },
          "metadata": {},
          "execution_count": 4
        }
      ]
    },
    {
      "cell_type": "code",
      "source": [
        "df2013.info()"
      ],
      "metadata": {
        "colab": {
          "base_uri": "https://localhost:8080/"
        },
        "id": "NdF5rklbVj9Y",
        "outputId": "edd1417d-ffb8-4806-9c21-540f22eda2aa"
      },
      "execution_count": 5,
      "outputs": [
        {
          "output_type": "stream",
          "name": "stdout",
          "text": [
            "<class 'pandas.core.frame.DataFrame'>\n",
            "RangeIndex: 267 entries, 0 to 266\n",
            "Data columns (total 12 columns):\n",
            " #   Column   Non-Null Count  Dtype \n",
            "---  ------   --------------  ----- \n",
            " 0   tahun    267 non-null    int64 \n",
            " 1   wilayah  267 non-null    object\n",
            " 2   15-19    267 non-null    int64 \n",
            " 3   20-24    267 non-null    int64 \n",
            " 4   25-29    267 non-null    int64 \n",
            " 5   30-34    267 non-null    int64 \n",
            " 6   35-39    267 non-null    int64 \n",
            " 7   40-44    267 non-null    int64 \n",
            " 8   45-49    267 non-null    int64 \n",
            " 9   50-54    267 non-null    int64 \n",
            " 10  55-59    267 non-null    int64 \n",
            " 11  60-64    267 non-null    int64 \n",
            "dtypes: int64(11), object(1)\n",
            "memory usage: 25.2+ KB\n"
          ]
        }
      ]
    },
    {
      "cell_type": "code",
      "source": [
        "df2021.head()"
      ],
      "metadata": {
        "id": "Gu2a3i39VlQk",
        "colab": {
          "base_uri": "https://localhost:8080/",
          "height": 206
        },
        "outputId": "dcf3f736-f972-43d2-d1e9-b8ea9bee2a19"
      },
      "execution_count": 6,
      "outputs": [
        {
          "output_type": "execute_result",
          "data": {
            "text/plain": [
              "   tahun                                            wilayah  15-19  20-24  \\\n",
              "0   2021  ADM. KEPULAUAN SERIBUKEPULAUAN SERIBU SELATANP...    310    313   \n",
              "1   2021  ADM. KEPULAUAN SERIBUKEPULAUAN SERIBU SELATANP...    534    514   \n",
              "2   2021  ADM. KEPULAUAN SERIBUKEPULAUAN SERIBU SELATANP...    205    207   \n",
              "3   2021  ADM. KEPULAUAN SERIBUKEPULAUAN SERIBU UTARAPUL...    237    243   \n",
              "4   2021  ADM. KEPULAUAN SERIBUKEPULAUAN SERIBU UTARAPUL...    662    625   \n",
              "\n",
              "   25-29  30-34  35-39  40-44  45-49  50-54  55-59  60-64  \n",
              "0    329    340    344    280    208    161    118     99  \n",
              "1    513    503    519    451    384    323    245    163  \n",
              "2    230    196    203    217    169    175     80     54  \n",
              "3    219    244    245    192    171    146    117     74  \n",
              "4    623    560    662    504    470    371    321    252  "
            ],
            "text/html": [
              "\n",
              "  <div id=\"df-2b9891da-3ea8-419e-9d58-46721f423e6c\">\n",
              "    <div class=\"colab-df-container\">\n",
              "      <div>\n",
              "<style scoped>\n",
              "    .dataframe tbody tr th:only-of-type {\n",
              "        vertical-align: middle;\n",
              "    }\n",
              "\n",
              "    .dataframe tbody tr th {\n",
              "        vertical-align: top;\n",
              "    }\n",
              "\n",
              "    .dataframe thead th {\n",
              "        text-align: right;\n",
              "    }\n",
              "</style>\n",
              "<table border=\"1\" class=\"dataframe\">\n",
              "  <thead>\n",
              "    <tr style=\"text-align: right;\">\n",
              "      <th></th>\n",
              "      <th>tahun</th>\n",
              "      <th>wilayah</th>\n",
              "      <th>15-19</th>\n",
              "      <th>20-24</th>\n",
              "      <th>25-29</th>\n",
              "      <th>30-34</th>\n",
              "      <th>35-39</th>\n",
              "      <th>40-44</th>\n",
              "      <th>45-49</th>\n",
              "      <th>50-54</th>\n",
              "      <th>55-59</th>\n",
              "      <th>60-64</th>\n",
              "    </tr>\n",
              "  </thead>\n",
              "  <tbody>\n",
              "    <tr>\n",
              "      <th>0</th>\n",
              "      <td>2021</td>\n",
              "      <td>ADM. KEPULAUAN SERIBUKEPULAUAN SERIBU SELATANP...</td>\n",
              "      <td>310</td>\n",
              "      <td>313</td>\n",
              "      <td>329</td>\n",
              "      <td>340</td>\n",
              "      <td>344</td>\n",
              "      <td>280</td>\n",
              "      <td>208</td>\n",
              "      <td>161</td>\n",
              "      <td>118</td>\n",
              "      <td>99</td>\n",
              "    </tr>\n",
              "    <tr>\n",
              "      <th>1</th>\n",
              "      <td>2021</td>\n",
              "      <td>ADM. KEPULAUAN SERIBUKEPULAUAN SERIBU SELATANP...</td>\n",
              "      <td>534</td>\n",
              "      <td>514</td>\n",
              "      <td>513</td>\n",
              "      <td>503</td>\n",
              "      <td>519</td>\n",
              "      <td>451</td>\n",
              "      <td>384</td>\n",
              "      <td>323</td>\n",
              "      <td>245</td>\n",
              "      <td>163</td>\n",
              "    </tr>\n",
              "    <tr>\n",
              "      <th>2</th>\n",
              "      <td>2021</td>\n",
              "      <td>ADM. KEPULAUAN SERIBUKEPULAUAN SERIBU SELATANP...</td>\n",
              "      <td>205</td>\n",
              "      <td>207</td>\n",
              "      <td>230</td>\n",
              "      <td>196</td>\n",
              "      <td>203</td>\n",
              "      <td>217</td>\n",
              "      <td>169</td>\n",
              "      <td>175</td>\n",
              "      <td>80</td>\n",
              "      <td>54</td>\n",
              "    </tr>\n",
              "    <tr>\n",
              "      <th>3</th>\n",
              "      <td>2021</td>\n",
              "      <td>ADM. KEPULAUAN SERIBUKEPULAUAN SERIBU UTARAPUL...</td>\n",
              "      <td>237</td>\n",
              "      <td>243</td>\n",
              "      <td>219</td>\n",
              "      <td>244</td>\n",
              "      <td>245</td>\n",
              "      <td>192</td>\n",
              "      <td>171</td>\n",
              "      <td>146</td>\n",
              "      <td>117</td>\n",
              "      <td>74</td>\n",
              "    </tr>\n",
              "    <tr>\n",
              "      <th>4</th>\n",
              "      <td>2021</td>\n",
              "      <td>ADM. KEPULAUAN SERIBUKEPULAUAN SERIBU UTARAPUL...</td>\n",
              "      <td>662</td>\n",
              "      <td>625</td>\n",
              "      <td>623</td>\n",
              "      <td>560</td>\n",
              "      <td>662</td>\n",
              "      <td>504</td>\n",
              "      <td>470</td>\n",
              "      <td>371</td>\n",
              "      <td>321</td>\n",
              "      <td>252</td>\n",
              "    </tr>\n",
              "  </tbody>\n",
              "</table>\n",
              "</div>\n",
              "      <button class=\"colab-df-convert\" onclick=\"convertToInteractive('df-2b9891da-3ea8-419e-9d58-46721f423e6c')\"\n",
              "              title=\"Convert this dataframe to an interactive table.\"\n",
              "              style=\"display:none;\">\n",
              "        \n",
              "  <svg xmlns=\"http://www.w3.org/2000/svg\" height=\"24px\"viewBox=\"0 0 24 24\"\n",
              "       width=\"24px\">\n",
              "    <path d=\"M0 0h24v24H0V0z\" fill=\"none\"/>\n",
              "    <path d=\"M18.56 5.44l.94 2.06.94-2.06 2.06-.94-2.06-.94-.94-2.06-.94 2.06-2.06.94zm-11 1L8.5 8.5l.94-2.06 2.06-.94-2.06-.94L8.5 2.5l-.94 2.06-2.06.94zm10 10l.94 2.06.94-2.06 2.06-.94-2.06-.94-.94-2.06-.94 2.06-2.06.94z\"/><path d=\"M17.41 7.96l-1.37-1.37c-.4-.4-.92-.59-1.43-.59-.52 0-1.04.2-1.43.59L10.3 9.45l-7.72 7.72c-.78.78-.78 2.05 0 2.83L4 21.41c.39.39.9.59 1.41.59.51 0 1.02-.2 1.41-.59l7.78-7.78 2.81-2.81c.8-.78.8-2.07 0-2.86zM5.41 20L4 18.59l7.72-7.72 1.47 1.35L5.41 20z\"/>\n",
              "  </svg>\n",
              "      </button>\n",
              "      \n",
              "  <style>\n",
              "    .colab-df-container {\n",
              "      display:flex;\n",
              "      flex-wrap:wrap;\n",
              "      gap: 12px;\n",
              "    }\n",
              "\n",
              "    .colab-df-convert {\n",
              "      background-color: #E8F0FE;\n",
              "      border: none;\n",
              "      border-radius: 50%;\n",
              "      cursor: pointer;\n",
              "      display: none;\n",
              "      fill: #1967D2;\n",
              "      height: 32px;\n",
              "      padding: 0 0 0 0;\n",
              "      width: 32px;\n",
              "    }\n",
              "\n",
              "    .colab-df-convert:hover {\n",
              "      background-color: #E2EBFA;\n",
              "      box-shadow: 0px 1px 2px rgba(60, 64, 67, 0.3), 0px 1px 3px 1px rgba(60, 64, 67, 0.15);\n",
              "      fill: #174EA6;\n",
              "    }\n",
              "\n",
              "    [theme=dark] .colab-df-convert {\n",
              "      background-color: #3B4455;\n",
              "      fill: #D2E3FC;\n",
              "    }\n",
              "\n",
              "    [theme=dark] .colab-df-convert:hover {\n",
              "      background-color: #434B5C;\n",
              "      box-shadow: 0px 1px 3px 1px rgba(0, 0, 0, 0.15);\n",
              "      filter: drop-shadow(0px 1px 2px rgba(0, 0, 0, 0.3));\n",
              "      fill: #FFFFFF;\n",
              "    }\n",
              "  </style>\n",
              "\n",
              "      <script>\n",
              "        const buttonEl =\n",
              "          document.querySelector('#df-2b9891da-3ea8-419e-9d58-46721f423e6c button.colab-df-convert');\n",
              "        buttonEl.style.display =\n",
              "          google.colab.kernel.accessAllowed ? 'block' : 'none';\n",
              "\n",
              "        async function convertToInteractive(key) {\n",
              "          const element = document.querySelector('#df-2b9891da-3ea8-419e-9d58-46721f423e6c');\n",
              "          const dataTable =\n",
              "            await google.colab.kernel.invokeFunction('convertToInteractive',\n",
              "                                                     [key], {});\n",
              "          if (!dataTable) return;\n",
              "\n",
              "          const docLinkHtml = 'Like what you see? Visit the ' +\n",
              "            '<a target=\"_blank\" href=https://colab.research.google.com/notebooks/data_table.ipynb>data table notebook</a>'\n",
              "            + ' to learn more about interactive tables.';\n",
              "          element.innerHTML = '';\n",
              "          dataTable['output_type'] = 'display_data';\n",
              "          await google.colab.output.renderOutput(dataTable, element);\n",
              "          const docLink = document.createElement('div');\n",
              "          docLink.innerHTML = docLinkHtml;\n",
              "          element.appendChild(docLink);\n",
              "        }\n",
              "      </script>\n",
              "    </div>\n",
              "  </div>\n",
              "  "
            ]
          },
          "metadata": {},
          "execution_count": 6
        }
      ]
    },
    {
      "cell_type": "code",
      "source": [
        "df2021.info()"
      ],
      "metadata": {
        "colab": {
          "base_uri": "https://localhost:8080/"
        },
        "id": "V73y4x5NTw__",
        "outputId": "5341d1ad-cfc0-4b9d-cafa-7be569531c41"
      },
      "execution_count": 7,
      "outputs": [
        {
          "output_type": "stream",
          "name": "stdout",
          "text": [
            "<class 'pandas.core.frame.DataFrame'>\n",
            "RangeIndex: 267 entries, 0 to 266\n",
            "Data columns (total 12 columns):\n",
            " #   Column   Non-Null Count  Dtype \n",
            "---  ------   --------------  ----- \n",
            " 0   tahun    267 non-null    int64 \n",
            " 1   wilayah  267 non-null    object\n",
            " 2   15-19    267 non-null    int64 \n",
            " 3   20-24    267 non-null    int64 \n",
            " 4   25-29    267 non-null    int64 \n",
            " 5   30-34    267 non-null    int64 \n",
            " 6   35-39    267 non-null    int64 \n",
            " 7   40-44    267 non-null    int64 \n",
            " 8   45-49    267 non-null    int64 \n",
            " 9   50-54    267 non-null    int64 \n",
            " 10  55-59    267 non-null    int64 \n",
            " 11  60-64    267 non-null    int64 \n",
            "dtypes: int64(11), object(1)\n",
            "memory usage: 25.2+ KB\n"
          ]
        }
      ]
    },
    {
      "cell_type": "markdown",
      "source": [
        "K-Means clustering.\n",
        "Source: https://www.kaggle.com/code/sunixliu/mall-customer-data-analysis-and-segmentation"
      ],
      "metadata": {
        "id": "hXFy136jBuOy"
      }
    },
    {
      "cell_type": "code",
      "source": [
        "from sklearn.cluster import KMeans"
      ],
      "metadata": {
        "id": "XV1s46z-MB_W"
      },
      "execution_count": 8,
      "outputs": []
    },
    {
      "cell_type": "markdown",
      "source": [
        "K Means Data 2013"
      ],
      "metadata": {
        "id": "FilUm7l4T3oH"
      }
    },
    {
      "cell_type": "code",
      "source": [
        "ds2013 = df2013.drop(df2013.columns[[0]], axis=1)"
      ],
      "metadata": {
        "id": "L3bGylTkZ3n-"
      },
      "execution_count": 9,
      "outputs": []
    },
    {
      "cell_type": "code",
      "source": [
        "ds2013.info()"
      ],
      "metadata": {
        "colab": {
          "base_uri": "https://localhost:8080/"
        },
        "id": "JudiPvpWYskj",
        "outputId": "df578867-b6bf-4582-ced4-8ac5a00c3b24"
      },
      "execution_count": 10,
      "outputs": [
        {
          "output_type": "stream",
          "name": "stdout",
          "text": [
            "<class 'pandas.core.frame.DataFrame'>\n",
            "RangeIndex: 267 entries, 0 to 266\n",
            "Data columns (total 11 columns):\n",
            " #   Column   Non-Null Count  Dtype \n",
            "---  ------   --------------  ----- \n",
            " 0   wilayah  267 non-null    object\n",
            " 1   15-19    267 non-null    int64 \n",
            " 2   20-24    267 non-null    int64 \n",
            " 3   25-29    267 non-null    int64 \n",
            " 4   30-34    267 non-null    int64 \n",
            " 5   35-39    267 non-null    int64 \n",
            " 6   40-44    267 non-null    int64 \n",
            " 7   45-49    267 non-null    int64 \n",
            " 8   50-54    267 non-null    int64 \n",
            " 9   55-59    267 non-null    int64 \n",
            " 10  60-64    267 non-null    int64 \n",
            "dtypes: int64(10), object(1)\n",
            "memory usage: 23.1+ KB\n"
          ]
        }
      ]
    },
    {
      "cell_type": "code",
      "source": [
        "ds2013.set_index(\"wilayah\",inplace=True)"
      ],
      "metadata": {
        "id": "pHNZeWidbjOU"
      },
      "execution_count": 12,
      "outputs": []
    },
    {
      "cell_type": "code",
      "source": [
        "#Percobaan 4 klaster \n",
        "kmeans2013_4 = KMeans(n_clusters=4)\n",
        "kmeans2013_4.fit(ds2013)"
      ],
      "metadata": {
        "colab": {
          "base_uri": "https://localhost:8080/"
        },
        "id": "xE0zAjlyB3IP",
        "outputId": "32487e2e-e9a6-4e7a-ec24-49d254347db9"
      },
      "execution_count": 14,
      "outputs": [
        {
          "output_type": "execute_result",
          "data": {
            "text/plain": [
              "KMeans(n_clusters=4)"
            ]
          },
          "metadata": {},
          "execution_count": 14
        }
      ]
    },
    {
      "cell_type": "code",
      "source": [
        "pred2013_4 = kmeans2013_4.fit_predict(ds2013)"
      ],
      "metadata": {
        "id": "pk9-GdO0ExCP"
      },
      "execution_count": 15,
      "outputs": []
    },
    {
      "cell_type": "code",
      "source": [
        "ds2013_pred4 = ds2013.copy()\n",
        "ds2013_pred4['Class']=pred2013_4"
      ],
      "metadata": {
        "id": "a_mAioNLEzZo"
      },
      "execution_count": 17,
      "outputs": []
    },
    {
      "cell_type": "code",
      "source": [
        "ds2013_pred4"
      ],
      "metadata": {
        "colab": {
          "base_uri": "https://localhost:8080/",
          "height": 455
        },
        "id": "5GtAhL2rE1HA",
        "outputId": "0c33ab11-44ce-4fe3-db91-cdf27370355a"
      },
      "execution_count": 18,
      "outputs": [
        {
          "output_type": "execute_result",
          "data": {
            "text/plain": [
              "                                                 15-19  20-24  25-29  30-34  \\\n",
              "wilayah                                                                       \n",
              "JAKARTA BARATCENGKARENGCENGKARENG BARAT           6080   8751   7457   5316   \n",
              "JAKARTA BARATCENGKARENGCENGKARENG TIMUR           7266  10558   9572   7146   \n",
              "JAKARTA BARATCENGKARENGDURI KOSAMBI               6966  10207   9497   6922   \n",
              "JAKARTA BARATCENGKARENGKAPUK                     13214  19164  17392  13011   \n",
              "JAKARTA BARATCENGKARENGKEDAUNG KALI ANGKE         3246   4736   4178   2951   \n",
              "...                                                ...    ...    ...    ...   \n",
              "KAB.ADM.KEP.SERIBUKEP. SERIBU SLTP. TIDUNG         183    213    218    226   \n",
              "KAB.ADM.KEP.SERIBUKEP. SERIBU SLTP. UNTUNG JAWA    438    469    424    453   \n",
              "KAB.ADM.KEP.SERIBUKEP. SERIBU UTRP. HARAPAN        620    576    603    553   \n",
              "KAB.ADM.KEP.SERIBUKEP. SERIBU UTRP. KELAPA         174    182    189    222   \n",
              "KAB.ADM.KEP.SERIBUKEP. SERIBU UTRP. PANGGANG       583    608    546    591   \n",
              "\n",
              "                                                 35-39  40-44  45-49  50-54  \\\n",
              "wilayah                                                                       \n",
              "JAKARTA BARATCENGKARENGCENGKARENG BARAT           8537   9495   7443  10874   \n",
              "JAKARTA BARATCENGKARENGCENGKARENG TIMUR          11293  12407   9962  14307   \n",
              "JAKARTA BARATCENGKARENGDURI KOSAMBI              10686  11256   8455  12153   \n",
              "JAKARTA BARATCENGKARENGKAPUK                     20499  21974  17174  24654   \n",
              "JAKARTA BARATCENGKARENGKEDAUNG KALI ANGKE         4707   5122   4099   6055   \n",
              "...                                                ...    ...    ...    ...   \n",
              "KAB.ADM.KEP.SERIBUKEP. SERIBU SLTP. TIDUNG         173    167    136    100   \n",
              "KAB.ADM.KEP.SERIBUKEP. SERIBU SLTP. UNTUNG JAWA    384    354    301    219   \n",
              "KAB.ADM.KEP.SERIBUKEP. SERIBU UTRP. HARAPAN        493    466    405    311   \n",
              "KAB.ADM.KEP.SERIBUKEP. SERIBU UTRP. KELAPA         172    187    135     63   \n",
              "KAB.ADM.KEP.SERIBUKEP. SERIBU UTRP. PANGGANG       466    443    329    263   \n",
              "\n",
              "                                                 55-59  60-64  Class  \n",
              "wilayah                                                               \n",
              "JAKARTA BARATCENGKARENGCENGKARENG BARAT          10291   5856      1  \n",
              "JAKARTA BARATCENGKARENGCENGKARENG TIMUR          12267   7164      1  \n",
              "JAKARTA BARATCENGKARENGDURI KOSAMBI              10594   6210      1  \n",
              "JAKARTA BARATCENGKARENGKAPUK                     21172  11809      1  \n",
              "JAKARTA BARATCENGKARENGKEDAUNG KALI ANGKE         5546   3272      3  \n",
              "...                                                ...    ...    ...  \n",
              "KAB.ADM.KEP.SERIBUKEP. SERIBU SLTP. TIDUNG          69     35      2  \n",
              "KAB.ADM.KEP.SERIBUKEP. SERIBU SLTP. UNTUNG JAWA    180    114      2  \n",
              "KAB.ADM.KEP.SERIBUKEP. SERIBU UTRP. HARAPAN        240    129      2  \n",
              "KAB.ADM.KEP.SERIBUKEP. SERIBU UTRP. KELAPA          69     53      2  \n",
              "KAB.ADM.KEP.SERIBUKEP. SERIBU UTRP. PANGGANG       204    137      2  \n",
              "\n",
              "[267 rows x 11 columns]"
            ],
            "text/html": [
              "\n",
              "  <div id=\"df-8a1edd45-977d-437b-aefb-23c33ce9b67c\">\n",
              "    <div class=\"colab-df-container\">\n",
              "      <div>\n",
              "<style scoped>\n",
              "    .dataframe tbody tr th:only-of-type {\n",
              "        vertical-align: middle;\n",
              "    }\n",
              "\n",
              "    .dataframe tbody tr th {\n",
              "        vertical-align: top;\n",
              "    }\n",
              "\n",
              "    .dataframe thead th {\n",
              "        text-align: right;\n",
              "    }\n",
              "</style>\n",
              "<table border=\"1\" class=\"dataframe\">\n",
              "  <thead>\n",
              "    <tr style=\"text-align: right;\">\n",
              "      <th></th>\n",
              "      <th>15-19</th>\n",
              "      <th>20-24</th>\n",
              "      <th>25-29</th>\n",
              "      <th>30-34</th>\n",
              "      <th>35-39</th>\n",
              "      <th>40-44</th>\n",
              "      <th>45-49</th>\n",
              "      <th>50-54</th>\n",
              "      <th>55-59</th>\n",
              "      <th>60-64</th>\n",
              "      <th>Class</th>\n",
              "    </tr>\n",
              "    <tr>\n",
              "      <th>wilayah</th>\n",
              "      <th></th>\n",
              "      <th></th>\n",
              "      <th></th>\n",
              "      <th></th>\n",
              "      <th></th>\n",
              "      <th></th>\n",
              "      <th></th>\n",
              "      <th></th>\n",
              "      <th></th>\n",
              "      <th></th>\n",
              "      <th></th>\n",
              "    </tr>\n",
              "  </thead>\n",
              "  <tbody>\n",
              "    <tr>\n",
              "      <th>JAKARTA BARATCENGKARENGCENGKARENG BARAT</th>\n",
              "      <td>6080</td>\n",
              "      <td>8751</td>\n",
              "      <td>7457</td>\n",
              "      <td>5316</td>\n",
              "      <td>8537</td>\n",
              "      <td>9495</td>\n",
              "      <td>7443</td>\n",
              "      <td>10874</td>\n",
              "      <td>10291</td>\n",
              "      <td>5856</td>\n",
              "      <td>1</td>\n",
              "    </tr>\n",
              "    <tr>\n",
              "      <th>JAKARTA BARATCENGKARENGCENGKARENG TIMUR</th>\n",
              "      <td>7266</td>\n",
              "      <td>10558</td>\n",
              "      <td>9572</td>\n",
              "      <td>7146</td>\n",
              "      <td>11293</td>\n",
              "      <td>12407</td>\n",
              "      <td>9962</td>\n",
              "      <td>14307</td>\n",
              "      <td>12267</td>\n",
              "      <td>7164</td>\n",
              "      <td>1</td>\n",
              "    </tr>\n",
              "    <tr>\n",
              "      <th>JAKARTA BARATCENGKARENGDURI KOSAMBI</th>\n",
              "      <td>6966</td>\n",
              "      <td>10207</td>\n",
              "      <td>9497</td>\n",
              "      <td>6922</td>\n",
              "      <td>10686</td>\n",
              "      <td>11256</td>\n",
              "      <td>8455</td>\n",
              "      <td>12153</td>\n",
              "      <td>10594</td>\n",
              "      <td>6210</td>\n",
              "      <td>1</td>\n",
              "    </tr>\n",
              "    <tr>\n",
              "      <th>JAKARTA BARATCENGKARENGKAPUK</th>\n",
              "      <td>13214</td>\n",
              "      <td>19164</td>\n",
              "      <td>17392</td>\n",
              "      <td>13011</td>\n",
              "      <td>20499</td>\n",
              "      <td>21974</td>\n",
              "      <td>17174</td>\n",
              "      <td>24654</td>\n",
              "      <td>21172</td>\n",
              "      <td>11809</td>\n",
              "      <td>1</td>\n",
              "    </tr>\n",
              "    <tr>\n",
              "      <th>JAKARTA BARATCENGKARENGKEDAUNG KALI ANGKE</th>\n",
              "      <td>3246</td>\n",
              "      <td>4736</td>\n",
              "      <td>4178</td>\n",
              "      <td>2951</td>\n",
              "      <td>4707</td>\n",
              "      <td>5122</td>\n",
              "      <td>4099</td>\n",
              "      <td>6055</td>\n",
              "      <td>5546</td>\n",
              "      <td>3272</td>\n",
              "      <td>3</td>\n",
              "    </tr>\n",
              "    <tr>\n",
              "      <th>...</th>\n",
              "      <td>...</td>\n",
              "      <td>...</td>\n",
              "      <td>...</td>\n",
              "      <td>...</td>\n",
              "      <td>...</td>\n",
              "      <td>...</td>\n",
              "      <td>...</td>\n",
              "      <td>...</td>\n",
              "      <td>...</td>\n",
              "      <td>...</td>\n",
              "      <td>...</td>\n",
              "    </tr>\n",
              "    <tr>\n",
              "      <th>KAB.ADM.KEP.SERIBUKEP. SERIBU SLTP. TIDUNG</th>\n",
              "      <td>183</td>\n",
              "      <td>213</td>\n",
              "      <td>218</td>\n",
              "      <td>226</td>\n",
              "      <td>173</td>\n",
              "      <td>167</td>\n",
              "      <td>136</td>\n",
              "      <td>100</td>\n",
              "      <td>69</td>\n",
              "      <td>35</td>\n",
              "      <td>2</td>\n",
              "    </tr>\n",
              "    <tr>\n",
              "      <th>KAB.ADM.KEP.SERIBUKEP. SERIBU SLTP. UNTUNG JAWA</th>\n",
              "      <td>438</td>\n",
              "      <td>469</td>\n",
              "      <td>424</td>\n",
              "      <td>453</td>\n",
              "      <td>384</td>\n",
              "      <td>354</td>\n",
              "      <td>301</td>\n",
              "      <td>219</td>\n",
              "      <td>180</td>\n",
              "      <td>114</td>\n",
              "      <td>2</td>\n",
              "    </tr>\n",
              "    <tr>\n",
              "      <th>KAB.ADM.KEP.SERIBUKEP. SERIBU UTRP. HARAPAN</th>\n",
              "      <td>620</td>\n",
              "      <td>576</td>\n",
              "      <td>603</td>\n",
              "      <td>553</td>\n",
              "      <td>493</td>\n",
              "      <td>466</td>\n",
              "      <td>405</td>\n",
              "      <td>311</td>\n",
              "      <td>240</td>\n",
              "      <td>129</td>\n",
              "      <td>2</td>\n",
              "    </tr>\n",
              "    <tr>\n",
              "      <th>KAB.ADM.KEP.SERIBUKEP. SERIBU UTRP. KELAPA</th>\n",
              "      <td>174</td>\n",
              "      <td>182</td>\n",
              "      <td>189</td>\n",
              "      <td>222</td>\n",
              "      <td>172</td>\n",
              "      <td>187</td>\n",
              "      <td>135</td>\n",
              "      <td>63</td>\n",
              "      <td>69</td>\n",
              "      <td>53</td>\n",
              "      <td>2</td>\n",
              "    </tr>\n",
              "    <tr>\n",
              "      <th>KAB.ADM.KEP.SERIBUKEP. SERIBU UTRP. PANGGANG</th>\n",
              "      <td>583</td>\n",
              "      <td>608</td>\n",
              "      <td>546</td>\n",
              "      <td>591</td>\n",
              "      <td>466</td>\n",
              "      <td>443</td>\n",
              "      <td>329</td>\n",
              "      <td>263</td>\n",
              "      <td>204</td>\n",
              "      <td>137</td>\n",
              "      <td>2</td>\n",
              "    </tr>\n",
              "  </tbody>\n",
              "</table>\n",
              "<p>267 rows × 11 columns</p>\n",
              "</div>\n",
              "      <button class=\"colab-df-convert\" onclick=\"convertToInteractive('df-8a1edd45-977d-437b-aefb-23c33ce9b67c')\"\n",
              "              title=\"Convert this dataframe to an interactive table.\"\n",
              "              style=\"display:none;\">\n",
              "        \n",
              "  <svg xmlns=\"http://www.w3.org/2000/svg\" height=\"24px\"viewBox=\"0 0 24 24\"\n",
              "       width=\"24px\">\n",
              "    <path d=\"M0 0h24v24H0V0z\" fill=\"none\"/>\n",
              "    <path d=\"M18.56 5.44l.94 2.06.94-2.06 2.06-.94-2.06-.94-.94-2.06-.94 2.06-2.06.94zm-11 1L8.5 8.5l.94-2.06 2.06-.94-2.06-.94L8.5 2.5l-.94 2.06-2.06.94zm10 10l.94 2.06.94-2.06 2.06-.94-2.06-.94-.94-2.06-.94 2.06-2.06.94z\"/><path d=\"M17.41 7.96l-1.37-1.37c-.4-.4-.92-.59-1.43-.59-.52 0-1.04.2-1.43.59L10.3 9.45l-7.72 7.72c-.78.78-.78 2.05 0 2.83L4 21.41c.39.39.9.59 1.41.59.51 0 1.02-.2 1.41-.59l7.78-7.78 2.81-2.81c.8-.78.8-2.07 0-2.86zM5.41 20L4 18.59l7.72-7.72 1.47 1.35L5.41 20z\"/>\n",
              "  </svg>\n",
              "      </button>\n",
              "      \n",
              "  <style>\n",
              "    .colab-df-container {\n",
              "      display:flex;\n",
              "      flex-wrap:wrap;\n",
              "      gap: 12px;\n",
              "    }\n",
              "\n",
              "    .colab-df-convert {\n",
              "      background-color: #E8F0FE;\n",
              "      border: none;\n",
              "      border-radius: 50%;\n",
              "      cursor: pointer;\n",
              "      display: none;\n",
              "      fill: #1967D2;\n",
              "      height: 32px;\n",
              "      padding: 0 0 0 0;\n",
              "      width: 32px;\n",
              "    }\n",
              "\n",
              "    .colab-df-convert:hover {\n",
              "      background-color: #E2EBFA;\n",
              "      box-shadow: 0px 1px 2px rgba(60, 64, 67, 0.3), 0px 1px 3px 1px rgba(60, 64, 67, 0.15);\n",
              "      fill: #174EA6;\n",
              "    }\n",
              "\n",
              "    [theme=dark] .colab-df-convert {\n",
              "      background-color: #3B4455;\n",
              "      fill: #D2E3FC;\n",
              "    }\n",
              "\n",
              "    [theme=dark] .colab-df-convert:hover {\n",
              "      background-color: #434B5C;\n",
              "      box-shadow: 0px 1px 3px 1px rgba(0, 0, 0, 0.15);\n",
              "      filter: drop-shadow(0px 1px 2px rgba(0, 0, 0, 0.3));\n",
              "      fill: #FFFFFF;\n",
              "    }\n",
              "  </style>\n",
              "\n",
              "      <script>\n",
              "        const buttonEl =\n",
              "          document.querySelector('#df-8a1edd45-977d-437b-aefb-23c33ce9b67c button.colab-df-convert');\n",
              "        buttonEl.style.display =\n",
              "          google.colab.kernel.accessAllowed ? 'block' : 'none';\n",
              "\n",
              "        async function convertToInteractive(key) {\n",
              "          const element = document.querySelector('#df-8a1edd45-977d-437b-aefb-23c33ce9b67c');\n",
              "          const dataTable =\n",
              "            await google.colab.kernel.invokeFunction('convertToInteractive',\n",
              "                                                     [key], {});\n",
              "          if (!dataTable) return;\n",
              "\n",
              "          const docLinkHtml = 'Like what you see? Visit the ' +\n",
              "            '<a target=\"_blank\" href=https://colab.research.google.com/notebooks/data_table.ipynb>data table notebook</a>'\n",
              "            + ' to learn more about interactive tables.';\n",
              "          element.innerHTML = '';\n",
              "          dataTable['output_type'] = 'display_data';\n",
              "          await google.colab.output.renderOutput(dataTable, element);\n",
              "          const docLink = document.createElement('div');\n",
              "          docLink.innerHTML = docLinkHtml;\n",
              "          element.appendChild(docLink);\n",
              "        }\n",
              "      </script>\n",
              "    </div>\n",
              "  </div>\n",
              "  "
            ]
          },
          "metadata": {},
          "execution_count": 18
        }
      ]
    },
    {
      "cell_type": "markdown",
      "source": [
        "Comparing performance for diff clusters\n",
        "Let's use Silhouette Coefficient to evaluate the model"
      ],
      "metadata": {
        "id": "4iTSKljWE6v5"
      }
    },
    {
      "cell_type": "code",
      "source": [
        "from yellowbrick.cluster import silhouette_visualizer "
      ],
      "metadata": {
        "id": "tybN45tfE7g2"
      },
      "execution_count": 19,
      "outputs": []
    },
    {
      "cell_type": "code",
      "source": [
        "silhouette_visualizer(kmeans2013_4, ds2013, k=(2,10)) "
      ],
      "metadata": {
        "colab": {
          "base_uri": "https://localhost:8080/",
          "height": 450
        },
        "id": "sh-QuERQFF55",
        "outputId": "2619da89-e489-40f3-feeb-66ceb3d11160"
      },
      "execution_count": 20,
      "outputs": [
        {
          "output_type": "stream",
          "name": "stderr",
          "text": [
            "/usr/local/lib/python3.7/dist-packages/sklearn/base.py:451: UserWarning: X does not have valid feature names, but KMeans was fitted with feature names\n",
            "  \"X does not have valid feature names, but\"\n"
          ]
        },
        {
          "output_type": "display_data",
          "data": {
            "text/plain": [
              "<Figure size 576x396 with 1 Axes>"
            ],
            "image/png": "[encoded data removed]"
          },
          "metadata": {}
        },
        {
          "output_type": "execute_result",
          "data": {
            "text/plain": [
              "SilhouetteVisualizer(ax=<matplotlib.axes._subplots.AxesSubplot object at 0x7f9f0a70fb50>,\n",
              "                     estimator=KMeans(n_clusters=4))"
            ]
          },
          "metadata": {},
          "execution_count": 20
        }
      ]
    },
    {
      "cell_type": "markdown",
      "source": [
        "Elbow chart"
      ],
      "metadata": {
        "id": "EHr1FtQSFKHE"
      }
    },
    {
      "cell_type": "code",
      "source": [
        "from yellowbrick.cluster.elbow import kelbow_visualizer"
      ],
      "metadata": {
        "id": "Y5QfcNUjFLI4"
      },
      "execution_count": 21,
      "outputs": []
    },
    {
      "cell_type": "code",
      "source": [
        "kv = kelbow_visualizer(kmeans2013_4, ds2013, k=(2,10))  "
      ],
      "metadata": {
        "colab": {
          "base_uri": "https://localhost:8080/",
          "height": 376
        },
        "id": "reZotpmDFOCG",
        "outputId": "77cc88f2-ebec-4626-bf5f-e386f05905c2"
      },
      "execution_count": 22,
      "outputs": [
        {
          "output_type": "display_data",
          "data": {
            "text/plain": [
              "<Figure size 576x396 with 2 Axes>"
            ],
            "image/png": "[encoded data removed]"
          },
          "metadata": {}
        }
      ]
    },
    {
      "cell_type": "markdown",
      "source": [
        "Berdasarkan Elbow chart, n_cluster=4 adalah yg terbaik"
      ],
      "metadata": {
        "id": "P8D37rTlFRVe"
      }
    },
    {
      "cell_type": "code",
      "source": [
        "from sklearn.metrics import silhouette_score"
      ],
      "metadata": {
        "id": "UMtTorFTFbNB"
      },
      "execution_count": 23,
      "outputs": []
    },
    {
      "cell_type": "code",
      "source": [
        "silhouette_avg4 = silhouette_score(ds2013, pred2013_4)"
      ],
      "metadata": {
        "id": "6r1jN3OcFcv5"
      },
      "execution_count": 24,
      "outputs": []
    },
    {
      "cell_type": "code",
      "source": [
        "print(silhouette_avg4)"
      ],
      "metadata": {
        "colab": {
          "base_uri": "https://localhost:8080/"
        },
        "id": "hRBx7bOtFfAv",
        "outputId": "5a89fafc-7869-4197-e18d-294f7f3b8699"
      },
      "execution_count": 25,
      "outputs": [
        {
          "output_type": "stream",
          "name": "stdout",
          "text": [
            "0.438717794781964\n"
          ]
        }
      ]
    },
    {
      "cell_type": "code",
      "source": [
        "ds2013_pred4.groupby(\"Class\").agg([np.median,np.mean])"
      ],
      "metadata": {
        "colab": {
          "base_uri": "https://localhost:8080/",
          "height": 301
        },
        "id": "wDvcbQ43eIg5",
        "outputId": "6a26177e-cf17-49d7-e005-75e3987eb5ff"
      },
      "execution_count": 26,
      "outputs": [
        {
          "output_type": "execute_result",
          "data": {
            "text/plain": [
              "        15-19                 20-24                 25-29               \\\n",
              "       median         mean   median          mean  median         mean   \n",
              "Class                                                                    \n",
              "0      2943.0  2976.633663   3058.0   3125.861386  3345.0  3403.356436   \n",
              "1      6966.0  7105.952381  10105.0  10314.142857  9218.0  9319.619048   \n",
              "2      1463.0  1327.905263   1543.0   1377.747368  1657.0  1468.431579   \n",
              "3      3880.0  4187.380000   5182.5   5412.500000  5082.5  5346.880000   \n",
              "\n",
              "        30-34                 35-39                  40-44                \\\n",
              "       median         mean   median          mean   median          mean   \n",
              "Class                                                                      \n",
              "0      3842.0  3827.881188   3742.0   3858.227723   3536.0   3637.594059   \n",
              "1      6508.0  6786.142857  10195.0  10741.904762  10985.0  11765.285714   \n",
              "2      1555.0  1599.736842   1937.0   1656.757895   1840.0   1594.336842   \n",
              "3      3752.5  4753.360000   5938.5   5931.960000   5817.0   6080.060000   \n",
              "\n",
              "        45-49                 50-54                  55-59                \\\n",
              "       median         mean   median          mean   median          mean   \n",
              "Class                                                                      \n",
              "0      2910.0  2953.940594   2421.0   2641.980198   1849.0   2105.534653   \n",
              "1      8670.0  9205.761905  12562.0  13244.000000  11237.0  11612.714286   \n",
              "2      1598.0  1376.968421   1320.0   1240.200000    977.0   1002.642105   \n",
              "3      4629.5  4751.020000   6046.0   5943.820000   5495.0   5229.360000   \n",
              "\n",
              "        60-64               \n",
              "       median         mean  \n",
              "Class                       \n",
              "0      1257.0  1375.871287  \n",
              "1      6396.0  6583.333333  \n",
              "2       648.0   677.778947  \n",
              "3      3245.5  3091.860000  "
            ],
            "text/html": [
              "\n",
              "  <div id=\"df-0e0086b8-ac97-46ee-94b7-a6294ddacf4b\">\n",
              "    <div class=\"colab-df-container\">\n",
              "      <div>\n",
              "<style scoped>\n",
              "    .dataframe tbody tr th:only-of-type {\n",
              "        vertical-align: middle;\n",
              "    }\n",
              "\n",
              "    .dataframe tbody tr th {\n",
              "        vertical-align: top;\n",
              "    }\n",
              "\n",
              "    .dataframe thead tr th {\n",
              "        text-align: left;\n",
              "    }\n",
              "\n",
              "    .dataframe thead tr:last-of-type th {\n",
              "        text-align: right;\n",
              "    }\n",
              "</style>\n",
              "<table border=\"1\" class=\"dataframe\">\n",
              "  <thead>\n",
              "    <tr>\n",
              "      <th></th>\n",
              "      <th colspan=\"2\" halign=\"left\">15-19</th>\n",
              "      <th colspan=\"2\" halign=\"left\">20-24</th>\n",
              "      <th colspan=\"2\" halign=\"left\">25-29</th>\n",
              "      <th colspan=\"2\" halign=\"left\">30-34</th>\n",
              "      <th colspan=\"2\" halign=\"left\">35-39</th>\n",
              "      <th colspan=\"2\" halign=\"left\">40-44</th>\n",
              "      <th colspan=\"2\" halign=\"left\">45-49</th>\n",
              "      <th colspan=\"2\" halign=\"left\">50-54</th>\n",
              "      <th colspan=\"2\" halign=\"left\">55-59</th>\n",
              "      <th colspan=\"2\" halign=\"left\">60-64</th>\n",
              "    </tr>\n",
              "    <tr>\n",
              "      <th></th>\n",
              "      <th>median</th>\n",
              "      <th>mean</th>\n",
              "      <th>median</th>\n",
              "      <th>mean</th>\n",
              "      <th>median</th>\n",
              "      <th>mean</th>\n",
              "      <th>median</th>\n",
              "      <th>mean</th>\n",
              "      <th>median</th>\n",
              "      <th>mean</th>\n",
              "      <th>median</th>\n",
              "      <th>mean</th>\n",
              "      <th>median</th>\n",
              "      <th>mean</th>\n",
              "      <th>median</th>\n",
              "      <th>mean</th>\n",
              "      <th>median</th>\n",
              "      <th>mean</th>\n",
              "      <th>median</th>\n",
              "      <th>mean</th>\n",
              "    </tr>\n",
              "    <tr>\n",
              "      <th>Class</th>\n",
              "      <th></th>\n",
              "      <th></th>\n",
              "      <th></th>\n",
              "      <th></th>\n",
              "      <th></th>\n",
              "      <th></th>\n",
              "      <th></th>\n",
              "      <th></th>\n",
              "      <th></th>\n",
              "      <th></th>\n",
              "      <th></th>\n",
              "      <th></th>\n",
              "      <th></th>\n",
              "      <th></th>\n",
              "      <th></th>\n",
              "      <th></th>\n",
              "      <th></th>\n",
              "      <th></th>\n",
              "      <th></th>\n",
              "      <th></th>\n",
              "    </tr>\n",
              "  </thead>\n",
              "  <tbody>\n",
              "    <tr>\n",
              "      <th>0</th>\n",
              "      <td>2943.0</td>\n",
              "      <td>2976.633663</td>\n",
              "      <td>3058.0</td>\n",
              "      <td>3125.861386</td>\n",
              "      <td>3345.0</td>\n",
              "      <td>3403.356436</td>\n",
              "      <td>3842.0</td>\n",
              "      <td>3827.881188</td>\n",
              "      <td>3742.0</td>\n",
              "      <td>3858.227723</td>\n",
              "      <td>3536.0</td>\n",
              "      <td>3637.594059</td>\n",
              "      <td>2910.0</td>\n",
              "      <td>2953.940594</td>\n",
              "      <td>2421.0</td>\n",
              "      <td>2641.980198</td>\n",
              "      <td>1849.0</td>\n",
              "      <td>2105.534653</td>\n",
              "      <td>1257.0</td>\n",
              "      <td>1375.871287</td>\n",
              "    </tr>\n",
              "    <tr>\n",
              "      <th>1</th>\n",
              "      <td>6966.0</td>\n",
              "      <td>7105.952381</td>\n",
              "      <td>10105.0</td>\n",
              "      <td>10314.142857</td>\n",
              "      <td>9218.0</td>\n",
              "      <td>9319.619048</td>\n",
              "      <td>6508.0</td>\n",
              "      <td>6786.142857</td>\n",
              "      <td>10195.0</td>\n",
              "      <td>10741.904762</td>\n",
              "      <td>10985.0</td>\n",
              "      <td>11765.285714</td>\n",
              "      <td>8670.0</td>\n",
              "      <td>9205.761905</td>\n",
              "      <td>12562.0</td>\n",
              "      <td>13244.000000</td>\n",
              "      <td>11237.0</td>\n",
              "      <td>11612.714286</td>\n",
              "      <td>6396.0</td>\n",
              "      <td>6583.333333</td>\n",
              "    </tr>\n",
              "    <tr>\n",
              "      <th>2</th>\n",
              "      <td>1463.0</td>\n",
              "      <td>1327.905263</td>\n",
              "      <td>1543.0</td>\n",
              "      <td>1377.747368</td>\n",
              "      <td>1657.0</td>\n",
              "      <td>1468.431579</td>\n",
              "      <td>1555.0</td>\n",
              "      <td>1599.736842</td>\n",
              "      <td>1937.0</td>\n",
              "      <td>1656.757895</td>\n",
              "      <td>1840.0</td>\n",
              "      <td>1594.336842</td>\n",
              "      <td>1598.0</td>\n",
              "      <td>1376.968421</td>\n",
              "      <td>1320.0</td>\n",
              "      <td>1240.200000</td>\n",
              "      <td>977.0</td>\n",
              "      <td>1002.642105</td>\n",
              "      <td>648.0</td>\n",
              "      <td>677.778947</td>\n",
              "    </tr>\n",
              "    <tr>\n",
              "      <th>3</th>\n",
              "      <td>3880.0</td>\n",
              "      <td>4187.380000</td>\n",
              "      <td>5182.5</td>\n",
              "      <td>5412.500000</td>\n",
              "      <td>5082.5</td>\n",
              "      <td>5346.880000</td>\n",
              "      <td>3752.5</td>\n",
              "      <td>4753.360000</td>\n",
              "      <td>5938.5</td>\n",
              "      <td>5931.960000</td>\n",
              "      <td>5817.0</td>\n",
              "      <td>6080.060000</td>\n",
              "      <td>4629.5</td>\n",
              "      <td>4751.020000</td>\n",
              "      <td>6046.0</td>\n",
              "      <td>5943.820000</td>\n",
              "      <td>5495.0</td>\n",
              "      <td>5229.360000</td>\n",
              "      <td>3245.5</td>\n",
              "      <td>3091.860000</td>\n",
              "    </tr>\n",
              "  </tbody>\n",
              "</table>\n",
              "</div>\n",
              "      <button class=\"colab-df-convert\" onclick=\"convertToInteractive('df-0e0086b8-ac97-46ee-94b7-a6294ddacf4b')\"\n",
              "              title=\"Convert this dataframe to an interactive table.\"\n",
              "              style=\"display:none;\">\n",
              "        \n",
              "  <svg xmlns=\"http://www.w3.org/2000/svg\" height=\"24px\"viewBox=\"0 0 24 24\"\n",
              "       width=\"24px\">\n",
              "    <path d=\"M0 0h24v24H0V0z\" fill=\"none\"/>\n",
              "    <path d=\"M18.56 5.44l.94 2.06.94-2.06 2.06-.94-2.06-.94-.94-2.06-.94 2.06-2.06.94zm-11 1L8.5 8.5l.94-2.06 2.06-.94-2.06-.94L8.5 2.5l-.94 2.06-2.06.94zm10 10l.94 2.06.94-2.06 2.06-.94-2.06-.94-.94-2.06-.94 2.06-2.06.94z\"/><path d=\"M17.41 7.96l-1.37-1.37c-.4-.4-.92-.59-1.43-.59-.52 0-1.04.2-1.43.59L10.3 9.45l-7.72 7.72c-.78.78-.78 2.05 0 2.83L4 21.41c.39.39.9.59 1.41.59.51 0 1.02-.2 1.41-.59l7.78-7.78 2.81-2.81c.8-.78.8-2.07 0-2.86zM5.41 20L4 18.59l7.72-7.72 1.47 1.35L5.41 20z\"/>\n",
              "  </svg>\n",
              "      </button>\n",
              "      \n",
              "  <style>\n",
              "    .colab-df-container {\n",
              "      display:flex;\n",
              "      flex-wrap:wrap;\n",
              "      gap: 12px;\n",
              "    }\n",
              "\n",
              "    .colab-df-convert {\n",
              "      background-color: #E8F0FE;\n",
              "      border: none;\n",
              "      border-radius: 50%;\n",
              "      cursor: pointer;\n",
              "      display: none;\n",
              "      fill: #1967D2;\n",
              "      height: 32px;\n",
              "      padding: 0 0 0 0;\n",
              "      width: 32px;\n",
              "    }\n",
              "\n",
              "    .colab-df-convert:hover {\n",
              "      background-color: #E2EBFA;\n",
              "      box-shadow: 0px 1px 2px rgba(60, 64, 67, 0.3), 0px 1px 3px 1px rgba(60, 64, 67, 0.15);\n",
              "      fill: #174EA6;\n",
              "    }\n",
              "\n",
              "    [theme=dark] .colab-df-convert {\n",
              "      background-color: #3B4455;\n",
              "      fill: #D2E3FC;\n",
              "    }\n",
              "\n",
              "    [theme=dark] .colab-df-convert:hover {\n",
              "      background-color: #434B5C;\n",
              "      box-shadow: 0px 1px 3px 1px rgba(0, 0, 0, 0.15);\n",
              "      filter: drop-shadow(0px 1px 2px rgba(0, 0, 0, 0.3));\n",
              "      fill: #FFFFFF;\n",
              "    }\n",
              "  </style>\n",
              "\n",
              "      <script>\n",
              "        const buttonEl =\n",
              "          document.querySelector('#df-0e0086b8-ac97-46ee-94b7-a6294ddacf4b button.colab-df-convert');\n",
              "        buttonEl.style.display =\n",
              "          google.colab.kernel.accessAllowed ? 'block' : 'none';\n",
              "\n",
              "        async function convertToInteractive(key) {\n",
              "          const element = document.querySelector('#df-0e0086b8-ac97-46ee-94b7-a6294ddacf4b');\n",
              "          const dataTable =\n",
              "            await google.colab.kernel.invokeFunction('convertToInteractive',\n",
              "                                                     [key], {});\n",
              "          if (!dataTable) return;\n",
              "\n",
              "          const docLinkHtml = 'Like what you see? Visit the ' +\n",
              "            '<a target=\"_blank\" href=https://colab.research.google.com/notebooks/data_table.ipynb>data table notebook</a>'\n",
              "            + ' to learn more about interactive tables.';\n",
              "          element.innerHTML = '';\n",
              "          dataTable['output_type'] = 'display_data';\n",
              "          await google.colab.output.renderOutput(dataTable, element);\n",
              "          const docLink = document.createElement('div');\n",
              "          docLink.innerHTML = docLinkHtml;\n",
              "          element.appendChild(docLink);\n",
              "        }\n",
              "      </script>\n",
              "    </div>\n",
              "  </div>\n",
              "  "
            ]
          },
          "metadata": {},
          "execution_count": 26
        }
      ]
    },
    {
      "cell_type": "code",
      "source": [
        "ds2013_pred4['wilayah']=ds2013_pred4.index"
      ],
      "metadata": {
        "id": "JAqdRE2MevRg"
      },
      "execution_count": 27,
      "outputs": []
    },
    {
      "cell_type": "code",
      "source": [
        "hasil2013 = ds2013_pred4.groupby(\"Class\")['wilayah'].count().reset_index()\n",
        "print(hasil2013)"
      ],
      "metadata": {
        "colab": {
          "base_uri": "https://localhost:8080/"
        },
        "id": "O-7j7AR1iBBR",
        "outputId": "7bb058da-b37b-4c85-948b-ecd4714db39b"
      },
      "execution_count": 29,
      "outputs": [
        {
          "output_type": "stream",
          "name": "stdout",
          "text": [
            "   Class  wilayah\n",
            "0      0      101\n",
            "1      1       21\n",
            "2      2       95\n",
            "3      3       50\n"
          ]
        }
      ]
    },
    {
      "cell_type": "code",
      "source": [
        "hasil2013['persentase'] = 100 * hasil2013['wilayah']  / hasil2013['wilayah'].sum()\n",
        "print(hasil2013)"
      ],
      "metadata": {
        "colab": {
          "base_uri": "https://localhost:8080/"
        },
        "id": "3ZiYKBDVivQ4",
        "outputId": "eadb8f01-f462-4ac7-f856-6deac5bca108"
      },
      "execution_count": 30,
      "outputs": [
        {
          "output_type": "stream",
          "name": "stdout",
          "text": [
            "   Class  wilayah  persentase\n",
            "0      0      101   37.827715\n",
            "1      1       21    7.865169\n",
            "2      2       95   35.580524\n",
            "3      3       50   18.726592\n"
          ]
        }
      ]
    },
    {
      "cell_type": "code",
      "source": [
        "\"\"\"\n",
        "daftar = ds2013_pred4.groupby(\"Class\")['wilayah'].apply(list)\n",
        "print(daftar[0])\n",
        "print(daftar[1])\n",
        "print(daftar[2])\n",
        "print(daftar[3])\"\"\""
      ],
      "metadata": {
        "colab": {
          "base_uri": "https://localhost:8080/"
        },
        "id": "wcb9gd-0f_KR",
        "outputId": "cd5754f8-372e-41f4-8b18-c4527c310016"
      },
      "execution_count": 31,
      "outputs": [
        {
          "output_type": "stream",
          "name": "stdout",
          "text": [
            "['JAKARTA BARATGROGOL PETAMBURANTANJUNG DUREN SELATAN', 'JAKARTA BARATGROGOL PETAMBURANTOMANG', 'JAKARTA BARATKEBON JERUKKELAPA DUA', 'JAKARTA BARATKEMBANGANKEMBANGAN SELATAN', 'JAKARTA BARATKEMBANGANMERUYA SELATAN', 'JAKARTA BARATPALMERAHJATI PULO', 'JAKARTA BARATPALMERAHKOTA BAMBU SELATAN', 'JAKARTA BARATPALMERAHKOTA BAMBU UTARA', 'JAKARTA BARATTAMAN SARIKEAGUNGAN', 'JAKARTA BARATTAMAN SARIKRUKUT', 'JAKARTA BARATTAMBORADURI UTARA', 'JAKARTA BARATTAMBORAJEMBATAN LIMA', 'JAKARTA BARATTAMBORAKALI ANYAR', 'JAKARTA BARATTAMBORAKERENDANG', 'JAKARTA BARATTAMBORAPEKOJAN', 'JAKARTA BARATTAMBORATANAH SEREAL', 'JAKARTA PUSATCEMPAKA PUTIHCEMPAKA PUTIH BARAT', 'JAKARTA PUSATJOHAR BARUJOHAR BARU', 'JAKARTA PUSATJOHAR BARUTANAH TINGGI', 'JAKARTA PUSATKEMAYORANCEMPAKA BARU', 'JAKARTA PUSATKEMAYORANKEBON KOSONG', 'JAKARTA PUSATKEMAYORANSERDANG', 'JAKARTA PUSATKEMAYORANUTAN PANJANG', 'JAKARTA PUSATSAWAH BESARKARANG ANYAR', 'JAKARTA PUSATSAWAH BESARMANGGA DUA SELATAN', 'JAKARTA PUSATSENENKRAMAT', 'JAKARTA PUSATTANAH ABANGKEBON MELATI', 'JAKARTA PUSATTANAH ABANGPETAMBURAN', 'JAKARTA SELATANCILANDAKCILANDAK BARAT', 'JAKARTA SELATANCILANDAKCIPETE SELATAN', 'JAKARTA SELATANCILANDAKLEBAK BULUS', 'JAKARTA SELATANCILANDAKPONDOK LABU', 'JAKARTA SELATANJAGAKARSACIGANJUR', 'JAKARTA SELATANJAGAKARSACIPEDAK', 'JAKARTA SELATANJAGAKARSALENTENG AGUNG', 'JAKARTA SELATANJAGAKARSASRENGSENG SAWAH', 'JAKARTA SELATANJAGAKARSATANJUNG BARAT', 'JAKARTA SELATANKEBAYORAN BARUCIPETE UTARA', 'JAKARTA SELATANKEBAYORAN BARUGANDARIA UTARA', 'JAKARTA SELATANKEBAYORAN LAMACIPULIR', 'JAKARTA SELATANKEBAYORAN LAMAGROGOL SELATAN', 'JAKARTA SELATANKEBAYORAN LAMAGROGOL UTARA', 'JAKARTA SELATANKEBAYORAN LAMAKEBAYORAN LAMA SELATAN', 'JAKARTA SELATANKEBAYORAN LAMAKEBAYORAN LAMA UTARA', 'JAKARTA SELATANMAMPANG PRAPATANPELA MAMPANG', 'JAKARTA SELATANMAMPANG PRAPATANTEGAL PARANG', 'JAKARTA SELATANPANCORANDUREN TIGA', 'JAKARTA SELATANPANCORANKALIBATA', 'JAKARTA SELATANPASAR MINGGUJATI PADANG', 'JAKARTA SELATANPASAR MINGGUKEBAGUSAN', 'JAKARTA SELATANPASAR MINGGUPEJATEN BARAT', 'JAKARTA SELATANPASAR MINGGURAGUNAN', 'JAKARTA SELATANPESANGGRAHANBINTARO', 'JAKARTA SELATANPESANGGRAHANPETUKANGAN SELATAN', 'JAKARTA SELATANPESANGGRAHANPETUKANGAN UTARA', 'JAKARTA SELATANPESANGGRAHANULUJAMI', 'JAKARTA SELATANSETIA BUDIMENTENG ATAS', 'JAKARTA SELATANSETIA BUDIPASAR MANGGIS', 'JAKARTA SELATANTEBETBUKIT DURI', 'JAKARTA SELATANTEBETKEBON BARU', 'JAKARTA SELATANTEBETMANGGARAI', 'JAKARTA SELATANTEBETMENTENG DALAM', 'JAKARTA TIMURCAKUNGCAKUNG BARAT', 'JAKARTA TIMURCAKUNGRAWA TERATE', 'JAKARTA TIMURCAKUNGUJUNG MENTENG', 'JAKARTA TIMURCIRACASKELAPA DUA WETAN', 'JAKARTA TIMURCIRACASRAMBUTAN', 'JAKARTA TIMURCIRACASSUSUKAN', 'JAKARTA TIMURDUREN SAWITMALAKA JAYA', 'JAKARTA TIMURDUREN SAWITMALAKA SARI', 'JAKARTA TIMURDUREN SAWITPONDOK KOPI', 'JAKARTA TIMURJATINEGARABIDARA CINA', 'JAKARTA TIMURJATINEGARACIPINANG BESAR SELATAN', 'JAKARTA TIMURJATINEGARACIPINANG BESAR UTARA', 'JAKARTA TIMURJATINEGARACIPINANG CEMPEDAK', 'JAKARTA TIMURJATINEGARAKAMPUNG MELAYU', 'JAKARTA TIMURKRAMAT JATIBALE KAMBANG', 'JAKARTA TIMURKRAMAT JATIBATU AMPAR', 'JAKARTA TIMURKRAMAT JATICAWANG', 'JAKARTA TIMURKRAMAT JATICILILITAN', 'JAKARTA TIMURKRAMAT JATIKAMPUNG TENGAH', 'JAKARTA TIMURKRAMAT JATIKRAMAT JATI', 'JAKARTA TIMURMAKASARCIPINANG MELAYU', 'JAKARTA TIMURMAKASARHALIM PERDANA KUSUMAH', 'JAKARTA TIMURMAKASARKEBON PALA', 'JAKARTA TIMURMAKASARMAKASAR', 'JAKARTA TIMURMATRAMANPISANGAN BARU', 'JAKARTA TIMURMATRAMANUTAN KAYU SELATAN', 'JAKARTA TIMURMATRAMANUTAN KAYU UTARA', 'JAKARTA TIMURPASAR REBOCIJANTUNG', 'JAKARTA TIMURPASAR REBOGEDONG', 'JAKARTA TIMURPASAR REBOKALISARI', 'JAKARTA TIMURPASAR REBOPEKAYON', 'JAKARTA TIMURPULO GADUNGCIPINANG', 'JAKARTA TIMURPULO GADUNGJATI', 'JAKARTA TIMURPULO GADUNGKAYU PUTIH', 'JAKARTA TIMURPULO GADUNGPISANGAN TIMUR', 'JAKARTA TIMURPULO GADUNGPULO GADUNG', 'JAKARTA TIMURPULO GADUNGRAWAMANGUN', 'JAKARTA UTARACILINCINGMARUNDA', 'JAKARTA UTARAPADEMANGANANCOL']\n",
            "['JAKARTA BARATCENGKARENGCENGKARENG BARAT', 'JAKARTA BARATCENGKARENGCENGKARENG TIMUR', 'JAKARTA BARATCENGKARENGDURI KOSAMBI', 'JAKARTA BARATCENGKARENGKAPUK', 'JAKARTA BARATCENGKARENGRAWA BUAYA', 'JAKARTA BARATKALI DERESKALIDERES', 'JAKARTA BARATKALI DERESPEGADUNGAN', 'JAKARTA BARATKALI DERESSEMANAN', 'JAKARTA BARATKALI DERESTEGAL ALUR', 'JAKARTA BARATKEBON JERUKDURI KEPA', 'JAKARTA BARATPALMERAHPALMERAH', 'JAKARTA UTARACILINCINGKALI BARU', 'JAKARTA UTARACILINCINGSEMPER BARAT', 'JAKARTA UTARACILINCINGSUKAPURA', 'JAKARTA UTARAKOJALAGOA', 'JAKARTA UTARAKOJATUGU UTARA', 'JAKARTA UTARAPADEMANGANPADEMANGAN BARAT', 'JAKARTA UTARAPENJARINGANPEJAGALAN', 'JAKARTA UTARAPENJARINGANPENJARINGAN', 'JAKARTA UTARATANJUNG PRIOKSUNTER AGUNG', 'JAKARTA UTARATANJUNG PRIOKSUNTER JAYA']\n",
            "['JAKARTA BARATGROGOL PETAMBURANGROGOL', 'JAKARTA BARATGROGOL PETAMBURANTANJUNG DUREN UTARA', 'JAKARTA BARATPALMERAHSLIPI', 'JAKARTA BARATTAMAN SARIGLODOK', 'JAKARTA BARATTAMAN SARIMANGGA BESAR', 'JAKARTA BARATTAMAN SARIMAPHAR', 'JAKARTA BARATTAMAN SARIPINANGSIA', 'JAKARTA BARATTAMAN SARITAMAN SARI', 'JAKARTA BARATTAMAN SARITANGKI', 'JAKARTA BARATTAMBORADURI SELATAN', 'JAKARTA BARATTAMBORAROA MALAKA', 'JAKARTA BARATTAMBORATAMBORA', 'JAKARTA PUSATCEMPAKA PUTIHCEMPAKA PUTIH TIMUR', 'JAKARTA PUSATCEMPAKA PUTIHRAWASARI', 'JAKARTA PUSATGAMBIRCIDENG', 'JAKARTA PUSATGAMBIRDURI PULO', 'JAKARTA PUSATGAMBIRGAMBIR', 'JAKARTA PUSATGAMBIRKEBON KELAPA', 'JAKARTA PUSATGAMBIRPETOJO SELATAN', 'JAKARTA PUSATGAMBIRPETOJO UTARA', 'JAKARTA PUSATJOHAR BARUGALUR', 'JAKARTA PUSATJOHAR BARUKAMPUNG RAWA', 'JAKARTA PUSATKEMAYORANGUNUNG SAHARI SELATAN', 'JAKARTA PUSATKEMAYORANHARAPAN MULIA', 'JAKARTA PUSATKEMAYORANKEMAYORAN', 'JAKARTA PUSATKEMAYORANSUMUR BATU', 'JAKARTA PUSATMENTENGCIKINI', 'JAKARTA PUSATMENTENGGONDANGDIA', 'JAKARTA PUSATMENTENGKEBON SIRIH', 'JAKARTA PUSATMENTENGMENTENG', 'JAKARTA PUSATMENTENGPEGANGSAAN', 'JAKARTA PUSATSAWAH BESARGUNUNG SAHARI UTARA', 'JAKARTA PUSATSAWAH BESARKARTINI', 'JAKARTA PUSATSAWAH BESARPASAR BARU', 'JAKARTA PUSATSENENBUNGUR', 'JAKARTA PUSATSENENKENARI', 'JAKARTA PUSATSENENKWITANG', 'JAKARTA PUSATSENENPASEBAN', 'JAKARTA PUSATSENENSENEN', 'JAKARTA PUSATTANAH ABANGBENDUNGAN HILIR', 'JAKARTA PUSATTANAH ABANGGELORA', 'JAKARTA PUSATTANAH ABANGKAMPUNG BALI', 'JAKARTA PUSATTANAH ABANGKARET TENGSIN', 'JAKARTA PUSATTANAH ABANGKEBON KACANG', 'JAKARTA SELATANCILANDAKGANDARIA SELATAN', 'JAKARTA SELATANKEBAYORAN BARUGUNUNG', 'JAKARTA SELATANKEBAYORAN BARUKRAMAT PELA', 'JAKARTA SELATANKEBAYORAN BARUMELAWAI', 'JAKARTA SELATANKEBAYORAN BARUPETOGOGAN', 'JAKARTA SELATANKEBAYORAN BARUPULO', 'JAKARTA SELATANKEBAYORAN BARURAWA BARAT', 'JAKARTA SELATANKEBAYORAN BARUSELONG', 'JAKARTA SELATANKEBAYORAN BARUSENAYAN', 'JAKARTA SELATANMAMPANG PRAPATANBANGKA', 'JAKARTA SELATANMAMPANG PRAPATANKUNINGAN BARAT', 'JAKARTA SELATANMAMPANG PRAPATANMAMPANG PRAPATAN', 'JAKARTA SELATANPANCORANCIKOKO', 'JAKARTA SELATANPANCORANPANCORAN', 'JAKARTA SELATANPANCORANPENGADEGAN', 'JAKARTA SELATANPANCORANRAWA JATI', 'JAKARTA SELATANPASAR MINGGUCILANDAK TIMUR', 'JAKARTA SELATANPASAR MINGGUPASAR MINGGU', 'JAKARTA SELATANPESANGGRAHANPESANGGRAHAN', 'JAKARTA SELATANSETIA BUDIGUNTUR', 'JAKARTA SELATANSETIA BUDIKARET', 'JAKARTA SELATANSETIA BUDIKARET KUNINGAN', 'JAKARTA SELATANSETIA BUDIKARET SEMANGGI', 'JAKARTA SELATANSETIA BUDIKUNINGAN TIMUR', 'JAKARTA SELATANSETIA BUDISETIA BUDI', 'JAKARTA SELATANTEBETMANGGARAI SELATAN', 'JAKARTA SELATANTEBETTEBET BARAT', 'JAKARTA SELATANTEBETTEBET TIMUR', 'JAKARTA TIMURCIPAYUNGBAMBU APUS', 'JAKARTA TIMURCIPAYUNGCEGER', 'JAKARTA TIMURCIPAYUNGCILANGKAP', 'JAKARTA TIMURCIPAYUNGCIPAYUNG', 'JAKARTA TIMURCIPAYUNGMUNJUL', 'JAKARTA TIMURCIPAYUNGPONDOK RANGGON', 'JAKARTA TIMURCIPAYUNGSETU', 'JAKARTA TIMURJATINEGARABALI MESTER', 'JAKARTA TIMURJATINEGARARAWA BUNGA', 'JAKARTA TIMURKRAMAT JATIDUKUH', 'JAKARTA TIMURMAKASARPINANG RANTI', 'JAKARTA TIMURMATRAMANKAYU MANIS', 'JAKARTA TIMURMATRAMANKEBON MANGGIS', 'JAKARTA TIMURMATRAMANPAL MERIAM', 'JAKARTA TIMURPASAR REBOBARU', 'JAKARTA TIMURPULO GADUNGJATINEGARA KAUM', 'JAKARTA UTARAPENJARINGANKAMAL MUARA', 'KAB.ADM.KEP.SERIBUKEP. SERIBU SLTP. PARI', 'KAB.ADM.KEP.SERIBUKEP. SERIBU SLTP. TIDUNG', 'KAB.ADM.KEP.SERIBUKEP. SERIBU SLTP. UNTUNG JAWA', 'KAB.ADM.KEP.SERIBUKEP. SERIBU UTRP. HARAPAN', 'KAB.ADM.KEP.SERIBUKEP. SERIBU UTRP. KELAPA', 'KAB.ADM.KEP.SERIBUKEP. SERIBU UTRP. PANGGANG']\n",
            "['JAKARTA BARATCENGKARENGKEDAUNG KALI ANGKE', 'JAKARTA BARATGROGOL PETAMBURANJELAMBAR', 'JAKARTA BARATGROGOL PETAMBURANJELAMBAR BARU', 'JAKARTA BARATGROGOL PETAMBURANWIJAYA KUSUMA', 'JAKARTA BARATKALI DERESKAMAL', 'JAKARTA BARATKEBON JERUKKEBON JERUK', 'JAKARTA BARATKEBON JERUKKEDOYA SELATAN', 'JAKARTA BARATKEBON JERUKKEDOYA UTARA', 'JAKARTA BARATKEBON JERUKSUKABUMI SELATAN', 'JAKARTA BARATKEBON JERUKSUKABUMI UTARA', 'JAKARTA BARATKEMBANGANJOGLO', 'JAKARTA BARATKEMBANGANKEMBANGAN UTARA', 'JAKARTA BARATKEMBANGANMERUYA UTARA', 'JAKARTA BARATKEMBANGANSRENGSENG', 'JAKARTA BARATPALMERAHKEMANGGISAN', 'JAKARTA BARATTAMBORAANGKE', 'JAKARTA BARATTAMBORAJEMBATAN BESI', 'JAKARTA SELATANJAGAKARSAJAGAKARSA', 'JAKARTA SELATANKEBAYORAN LAMAPONDOK PINANG', 'JAKARTA SELATANPASAR MINGGUPEJATEN TIMUR', 'JAKARTA TIMURCAKUNGCAKUNG TIMUR', 'JAKARTA TIMURCAKUNGJATINEGARA', 'JAKARTA TIMURCAKUNGPENGGILINGAN', 'JAKARTA TIMURCAKUNGPULO GEBANG', 'JAKARTA TIMURCIPAYUNGLUBANG BUAYA', 'JAKARTA TIMURCIRACASCIBUBUR', 'JAKARTA TIMURCIRACASCIRACAS', 'JAKARTA TIMURDUREN SAWITDUREN SAWIT', 'JAKARTA TIMURDUREN SAWITKLENDER', 'JAKARTA TIMURDUREN SAWITPONDOK BAMBU', 'JAKARTA TIMURDUREN SAWITPONDOK KELAPA', 'JAKARTA TIMURJATINEGARACIPINANG MUARA', 'JAKARTA UTARACILINCINGCILINCING', 'JAKARTA UTARACILINCINGROROTAN', 'JAKARTA UTARACILINCINGSEMPER TIMUR', 'JAKARTA UTARAKELAPA GADINGKELAPA GADING BARAT', 'JAKARTA UTARAKELAPA GADINGKELAPA GADING TIMUR', 'JAKARTA UTARAKELAPA GADINGPEGANGSAAN DUA', 'JAKARTA UTARAKOJAKOJA', 'JAKARTA UTARAKOJARAWA BADAK SELATAN', 'JAKARTA UTARAKOJARAWA BADAK UTARA', 'JAKARTA UTARAKOJATUGU SELATAN', 'JAKARTA UTARAPADEMANGANPADEMANGAN TIMUR', 'JAKARTA UTARAPENJARINGANKAPUK MUARA', 'JAKARTA UTARAPENJARINGANPLUIT', 'JAKARTA UTARATANJUNG PRIOKKEBON BAWANG', 'JAKARTA UTARATANJUNG PRIOKPAPANGGO', 'JAKARTA UTARATANJUNG PRIOKSUNGAI BAMBU', 'JAKARTA UTARATANJUNG PRIOKTANJUNG PRIOK', 'JAKARTA UTARATANJUNG PRIOKWARAKAS']\n"
          ]
        }
      ]
    },
    {
      "cell_type": "markdown",
      "source": [
        "Dari hasil clustering, terbentuk 4 klaster, dengan rincian  38 persen kelurahan masuk ke klaster 0; 8 persen kelurahan masuk ke klaster 1; 35 persen kelurahan masuk klaster 2; 19 persen keluarahan masuk klaster 3."
      ],
      "metadata": {
        "id": "cUFk_SYQiURr"
      }
    },
    {
      "cell_type": "code",
      "source": [
        ""
      ],
      "metadata": {
        "id": "aLY9laFKVZAC"
      },
      "execution_count": null,
      "outputs": []
    },
    {
      "cell_type": "markdown",
      "source": [
        "K Means Data 2021"
      ],
      "metadata": {
        "id": "xJ-DmyQAVZpk"
      }
    },
    {
      "cell_type": "markdown",
      "source": [
        ""
      ],
      "metadata": {
        "id": "e5JEB6svVgzi"
      }
    },
    {
      "cell_type": "code",
      "source": [
        "ds2021 = df2021.drop(df2021.columns[[0]], axis=1)"
      ],
      "metadata": {
        "id": "pOOSGSI1VhG3"
      },
      "execution_count": 32,
      "outputs": []
    },
    {
      "cell_type": "code",
      "source": [
        "ds2021.info()"
      ],
      "metadata": {
        "colab": {
          "base_uri": "https://localhost:8080/"
        },
        "id": "IIS7IZX2VtKD",
        "outputId": "b2a49457-be7f-41b1-caec-6a6025817dec"
      },
      "execution_count": 33,
      "outputs": [
        {
          "output_type": "stream",
          "name": "stdout",
          "text": [
            "<class 'pandas.core.frame.DataFrame'>\n",
            "RangeIndex: 267 entries, 0 to 266\n",
            "Data columns (total 11 columns):\n",
            " #   Column   Non-Null Count  Dtype \n",
            "---  ------   --------------  ----- \n",
            " 0   wilayah  267 non-null    object\n",
            " 1   15-19    267 non-null    int64 \n",
            " 2   20-24    267 non-null    int64 \n",
            " 3   25-29    267 non-null    int64 \n",
            " 4   30-34    267 non-null    int64 \n",
            " 5   35-39    267 non-null    int64 \n",
            " 6   40-44    267 non-null    int64 \n",
            " 7   45-49    267 non-null    int64 \n",
            " 8   50-54    267 non-null    int64 \n",
            " 9   55-59    267 non-null    int64 \n",
            " 10  60-64    267 non-null    int64 \n",
            "dtypes: int64(10), object(1)\n",
            "memory usage: 23.1+ KB\n"
          ]
        }
      ]
    },
    {
      "cell_type": "code",
      "source": [
        "ds2021.set_index(\"wilayah\",inplace=True)"
      ],
      "metadata": {
        "id": "HAYgfTdiVxXZ"
      },
      "execution_count": 34,
      "outputs": []
    },
    {
      "cell_type": "code",
      "source": [
        "\n",
        "#Percobaan 4 klaster \n",
        "kmeans2021_4 = KMeans(n_clusters=4)\n",
        "kmeans2021_4.fit(ds2021)"
      ],
      "metadata": {
        "colab": {
          "base_uri": "https://localhost:8080/"
        },
        "id": "pEoBL7i-Vzgd",
        "outputId": "2acd62a3-0325-4716-997f-10e0e6da017b"
      },
      "execution_count": 35,
      "outputs": [
        {
          "output_type": "execute_result",
          "data": {
            "text/plain": [
              "KMeans(n_clusters=4)"
            ]
          },
          "metadata": {},
          "execution_count": 35
        }
      ]
    },
    {
      "cell_type": "code",
      "source": [
        "pred2021_4 = kmeans2021_4.fit_predict(ds2021)"
      ],
      "metadata": {
        "id": "xeBA75NJV1hT"
      },
      "execution_count": 36,
      "outputs": []
    },
    {
      "cell_type": "code",
      "source": [
        "ds2021_pred4 = ds2021.copy()\n",
        "ds2021_pred4['Class']=pred2021_4"
      ],
      "metadata": {
        "id": "u0DaengnV3BE"
      },
      "execution_count": 37,
      "outputs": []
    },
    {
      "cell_type": "code",
      "source": [
        "ds2021_pred4"
      ],
      "metadata": {
        "colab": {
          "base_uri": "https://localhost:8080/",
          "height": 455
        },
        "id": "o3RdfvNqV4fO",
        "outputId": "41483666-08eb-430d-f9a7-fc41cca9e144"
      },
      "execution_count": 38,
      "outputs": [
        {
          "output_type": "execute_result",
          "data": {
            "text/plain": [
              "                                                    15-19  20-24  25-29  \\\n",
              "wilayah                                                                   \n",
              "ADM. KEPULAUAN SERIBUKEPULAUAN SERIBU SELATANPU...    310    313    329   \n",
              "ADM. KEPULAUAN SERIBUKEPULAUAN SERIBU SELATANPU...    534    514    513   \n",
              "ADM. KEPULAUAN SERIBUKEPULAUAN SERIBU SELATANPU...    205    207    230   \n",
              "ADM. KEPULAUAN SERIBUKEPULAUAN SERIBU UTARAPULA...    237    243    219   \n",
              "ADM. KEPULAUAN SERIBUKEPULAUAN SERIBU UTARAPULA...    662    625    623   \n",
              "...                                                   ...    ...    ...   \n",
              "JAKARTA UTARATANJUNG PRIOKSUNGAI BAMBU               3114   2976   2916   \n",
              "JAKARTA UTARATANJUNG PRIOKSUNTER AGUNG               6789   6171   6466   \n",
              "JAKARTA UTARATANJUNG PRIOKSUNTER JAYA                5976   5719   5938   \n",
              "JAKARTA UTARATANJUNG PRIOKTANJUNG PRIOK              3655   3546   3379   \n",
              "JAKARTA UTARATANJUNG PRIOKWARAKAS                    4535   4367   4315   \n",
              "\n",
              "                                                    30-34  35-39  40-44  \\\n",
              "wilayah                                                                   \n",
              "ADM. KEPULAUAN SERIBUKEPULAUAN SERIBU SELATANPU...    340    344    280   \n",
              "ADM. KEPULAUAN SERIBUKEPULAUAN SERIBU SELATANPU...    503    519    451   \n",
              "ADM. KEPULAUAN SERIBUKEPULAUAN SERIBU SELATANPU...    196    203    217   \n",
              "ADM. KEPULAUAN SERIBUKEPULAUAN SERIBU UTARAPULA...    244    245    192   \n",
              "ADM. KEPULAUAN SERIBUKEPULAUAN SERIBU UTARAPULA...    560    662    504   \n",
              "...                                                   ...    ...    ...   \n",
              "JAKARTA UTARATANJUNG PRIOKSUNGAI BAMBU               3000   3254   3169   \n",
              "JAKARTA UTARATANJUNG PRIOKSUNTER AGUNG               6956   8095   7799   \n",
              "JAKARTA UTARATANJUNG PRIOKSUNTER JAYA                6540   7816   7068   \n",
              "JAKARTA UTARATANJUNG PRIOKTANJUNG PRIOK              3269   3767   3822   \n",
              "JAKARTA UTARATANJUNG PRIOKWARAKAS                    4436   4906   4970   \n",
              "\n",
              "                                                    45-49  50-54  55-59  \\\n",
              "wilayah                                                                   \n",
              "ADM. KEPULAUAN SERIBUKEPULAUAN SERIBU SELATANPU...    208    161    118   \n",
              "ADM. KEPULAUAN SERIBUKEPULAUAN SERIBU SELATANPU...    384    323    245   \n",
              "ADM. KEPULAUAN SERIBUKEPULAUAN SERIBU SELATANPU...    169    175     80   \n",
              "ADM. KEPULAUAN SERIBUKEPULAUAN SERIBU UTARAPULA...    171    146    117   \n",
              "ADM. KEPULAUAN SERIBUKEPULAUAN SERIBU UTARAPULA...    470    371    321   \n",
              "...                                                   ...    ...    ...   \n",
              "JAKARTA UTARATANJUNG PRIOKSUNGAI BAMBU               2792   2381   1887   \n",
              "JAKARTA UTARATANJUNG PRIOKSUNTER AGUNG               6679   5430   4586   \n",
              "JAKARTA UTARATANJUNG PRIOKSUNTER JAYA                5584   4394   3712   \n",
              "JAKARTA UTARATANJUNG PRIOKTANJUNG PRIOK              3559   2854   2108   \n",
              "JAKARTA UTARATANJUNG PRIOKWARAKAS                    4524   3668   2618   \n",
              "\n",
              "                                                    60-64  Class  \n",
              "wilayah                                                           \n",
              "ADM. KEPULAUAN SERIBUKEPULAUAN SERIBU SELATANPU...     99      3  \n",
              "ADM. KEPULAUAN SERIBUKEPULAUAN SERIBU SELATANPU...    163      3  \n",
              "ADM. KEPULAUAN SERIBUKEPULAUAN SERIBU SELATANPU...     54      3  \n",
              "ADM. KEPULAUAN SERIBUKEPULAUAN SERIBU UTARAPULA...     74      3  \n",
              "ADM. KEPULAUAN SERIBUKEPULAUAN SERIBU UTARAPULA...    252      3  \n",
              "...                                                   ...    ...  \n",
              "JAKARTA UTARATANJUNG PRIOKSUNGAI BAMBU               1323      0  \n",
              "JAKARTA UTARATANJUNG PRIOKSUNTER AGUNG               3899      1  \n",
              "JAKARTA UTARATANJUNG PRIOKSUNTER JAYA                3149      1  \n",
              "JAKARTA UTARATANJUNG PRIOKTANJUNG PRIOK              1343      0  \n",
              "JAKARTA UTARATANJUNG PRIOKWARAKAS                    1740      0  \n",
              "\n",
              "[267 rows x 11 columns]"
            ],
            "text/html": [
              "\n",
              "  <div id=\"df-8174e20e-dc21-4b2e-98d7-ba5b8ae6bcb3\">\n",
              "    <div class=\"colab-df-container\">\n",
              "      <div>\n",
              "<style scoped>\n",
              "    .dataframe tbody tr th:only-of-type {\n",
              "        vertical-align: middle;\n",
              "    }\n",
              "\n",
              "    .dataframe tbody tr th {\n",
              "        vertical-align: top;\n",
              "    }\n",
              "\n",
              "    .dataframe thead th {\n",
              "        text-align: right;\n",
              "    }\n",
              "</style>\n",
              "<table border=\"1\" class=\"dataframe\">\n",
              "  <thead>\n",
              "    <tr style=\"text-align: right;\">\n",
              "      <th></th>\n",
              "      <th>15-19</th>\n",
              "      <th>20-24</th>\n",
              "      <th>25-29</th>\n",
              "      <th>30-34</th>\n",
              "      <th>35-39</th>\n",
              "      <th>40-44</th>\n",
              "      <th>45-49</th>\n",
              "      <th>50-54</th>\n",
              "      <th>55-59</th>\n",
              "      <th>60-64</th>\n",
              "      <th>Class</th>\n",
              "    </tr>\n",
              "    <tr>\n",
              "      <th>wilayah</th>\n",
              "      <th></th>\n",
              "      <th></th>\n",
              "      <th></th>\n",
              "      <th></th>\n",
              "      <th></th>\n",
              "      <th></th>\n",
              "      <th></th>\n",
              "      <th></th>\n",
              "      <th></th>\n",
              "      <th></th>\n",
              "      <th></th>\n",
              "    </tr>\n",
              "  </thead>\n",
              "  <tbody>\n",
              "    <tr>\n",
              "      <th>ADM. KEPULAUAN SERIBUKEPULAUAN SERIBU SELATANPULAU PARI</th>\n",
              "      <td>310</td>\n",
              "      <td>313</td>\n",
              "      <td>329</td>\n",
              "      <td>340</td>\n",
              "      <td>344</td>\n",
              "      <td>280</td>\n",
              "      <td>208</td>\n",
              "      <td>161</td>\n",
              "      <td>118</td>\n",
              "      <td>99</td>\n",
              "      <td>3</td>\n",
              "    </tr>\n",
              "    <tr>\n",
              "      <th>ADM. KEPULAUAN SERIBUKEPULAUAN SERIBU SELATANPULAU TIDUNG</th>\n",
              "      <td>534</td>\n",
              "      <td>514</td>\n",
              "      <td>513</td>\n",
              "      <td>503</td>\n",
              "      <td>519</td>\n",
              "      <td>451</td>\n",
              "      <td>384</td>\n",
              "      <td>323</td>\n",
              "      <td>245</td>\n",
              "      <td>163</td>\n",
              "      <td>3</td>\n",
              "    </tr>\n",
              "    <tr>\n",
              "      <th>ADM. KEPULAUAN SERIBUKEPULAUAN SERIBU SELATANPULAU UNTUNG JAWA</th>\n",
              "      <td>205</td>\n",
              "      <td>207</td>\n",
              "      <td>230</td>\n",
              "      <td>196</td>\n",
              "      <td>203</td>\n",
              "      <td>217</td>\n",
              "      <td>169</td>\n",
              "      <td>175</td>\n",
              "      <td>80</td>\n",
              "      <td>54</td>\n",
              "      <td>3</td>\n",
              "    </tr>\n",
              "    <tr>\n",
              "      <th>ADM. KEPULAUAN SERIBUKEPULAUAN SERIBU UTARAPULAU HARAPAN</th>\n",
              "      <td>237</td>\n",
              "      <td>243</td>\n",
              "      <td>219</td>\n",
              "      <td>244</td>\n",
              "      <td>245</td>\n",
              "      <td>192</td>\n",
              "      <td>171</td>\n",
              "      <td>146</td>\n",
              "      <td>117</td>\n",
              "      <td>74</td>\n",
              "      <td>3</td>\n",
              "    </tr>\n",
              "    <tr>\n",
              "      <th>ADM. KEPULAUAN SERIBUKEPULAUAN SERIBU UTARAPULAU KELAPA</th>\n",
              "      <td>662</td>\n",
              "      <td>625</td>\n",
              "      <td>623</td>\n",
              "      <td>560</td>\n",
              "      <td>662</td>\n",
              "      <td>504</td>\n",
              "      <td>470</td>\n",
              "      <td>371</td>\n",
              "      <td>321</td>\n",
              "      <td>252</td>\n",
              "      <td>3</td>\n",
              "    </tr>\n",
              "    <tr>\n",
              "      <th>...</th>\n",
              "      <td>...</td>\n",
              "      <td>...</td>\n",
              "      <td>...</td>\n",
              "      <td>...</td>\n",
              "      <td>...</td>\n",
              "      <td>...</td>\n",
              "      <td>...</td>\n",
              "      <td>...</td>\n",
              "      <td>...</td>\n",
              "      <td>...</td>\n",
              "      <td>...</td>\n",
              "    </tr>\n",
              "    <tr>\n",
              "      <th>JAKARTA UTARATANJUNG PRIOKSUNGAI BAMBU</th>\n",
              "      <td>3114</td>\n",
              "      <td>2976</td>\n",
              "      <td>2916</td>\n",
              "      <td>3000</td>\n",
              "      <td>3254</td>\n",
              "      <td>3169</td>\n",
              "      <td>2792</td>\n",
              "      <td>2381</td>\n",
              "      <td>1887</td>\n",
              "      <td>1323</td>\n",
              "      <td>0</td>\n",
              "    </tr>\n",
              "    <tr>\n",
              "      <th>JAKARTA UTARATANJUNG PRIOKSUNTER AGUNG</th>\n",
              "      <td>6789</td>\n",
              "      <td>6171</td>\n",
              "      <td>6466</td>\n",
              "      <td>6956</td>\n",
              "      <td>8095</td>\n",
              "      <td>7799</td>\n",
              "      <td>6679</td>\n",
              "      <td>5430</td>\n",
              "      <td>4586</td>\n",
              "      <td>3899</td>\n",
              "      <td>1</td>\n",
              "    </tr>\n",
              "    <tr>\n",
              "      <th>JAKARTA UTARATANJUNG PRIOKSUNTER JAYA</th>\n",
              "      <td>5976</td>\n",
              "      <td>5719</td>\n",
              "      <td>5938</td>\n",
              "      <td>6540</td>\n",
              "      <td>7816</td>\n",
              "      <td>7068</td>\n",
              "      <td>5584</td>\n",
              "      <td>4394</td>\n",
              "      <td>3712</td>\n",
              "      <td>3149</td>\n",
              "      <td>1</td>\n",
              "    </tr>\n",
              "    <tr>\n",
              "      <th>JAKARTA UTARATANJUNG PRIOKTANJUNG PRIOK</th>\n",
              "      <td>3655</td>\n",
              "      <td>3546</td>\n",
              "      <td>3379</td>\n",
              "      <td>3269</td>\n",
              "      <td>3767</td>\n",
              "      <td>3822</td>\n",
              "      <td>3559</td>\n",
              "      <td>2854</td>\n",
              "      <td>2108</td>\n",
              "      <td>1343</td>\n",
              "      <td>0</td>\n",
              "    </tr>\n",
              "    <tr>\n",
              "      <th>JAKARTA UTARATANJUNG PRIOKWARAKAS</th>\n",
              "      <td>4535</td>\n",
              "      <td>4367</td>\n",
              "      <td>4315</td>\n",
              "      <td>4436</td>\n",
              "      <td>4906</td>\n",
              "      <td>4970</td>\n",
              "      <td>4524</td>\n",
              "      <td>3668</td>\n",
              "      <td>2618</td>\n",
              "      <td>1740</td>\n",
              "      <td>0</td>\n",
              "    </tr>\n",
              "  </tbody>\n",
              "</table>\n",
              "<p>267 rows × 11 columns</p>\n",
              "</div>\n",
              "      <button class=\"colab-df-convert\" onclick=\"convertToInteractive('df-8174e20e-dc21-4b2e-98d7-ba5b8ae6bcb3')\"\n",
              "              title=\"Convert this dataframe to an interactive table.\"\n",
              "              style=\"display:none;\">\n",
              "        \n",
              "  <svg xmlns=\"http://www.w3.org/2000/svg\" height=\"24px\"viewBox=\"0 0 24 24\"\n",
              "       width=\"24px\">\n",
              "    <path d=\"M0 0h24v24H0V0z\" fill=\"none\"/>\n",
              "    <path d=\"M18.56 5.44l.94 2.06.94-2.06 2.06-.94-2.06-.94-.94-2.06-.94 2.06-2.06.94zm-11 1L8.5 8.5l.94-2.06 2.06-.94-2.06-.94L8.5 2.5l-.94 2.06-2.06.94zm10 10l.94 2.06.94-2.06 2.06-.94-2.06-.94-.94-2.06-.94 2.06-2.06.94z\"/><path d=\"M17.41 7.96l-1.37-1.37c-.4-.4-.92-.59-1.43-.59-.52 0-1.04.2-1.43.59L10.3 9.45l-7.72 7.72c-.78.78-.78 2.05 0 2.83L4 21.41c.39.39.9.59 1.41.59.51 0 1.02-.2 1.41-.59l7.78-7.78 2.81-2.81c.8-.78.8-2.07 0-2.86zM5.41 20L4 18.59l7.72-7.72 1.47 1.35L5.41 20z\"/>\n",
              "  </svg>\n",
              "      </button>\n",
              "      \n",
              "  <style>\n",
              "    .colab-df-container {\n",
              "      display:flex;\n",
              "      flex-wrap:wrap;\n",
              "      gap: 12px;\n",
              "    }\n",
              "\n",
              "    .colab-df-convert {\n",
              "      background-color: #E8F0FE;\n",
              "      border: none;\n",
              "      border-radius: 50%;\n",
              "      cursor: pointer;\n",
              "      display: none;\n",
              "      fill: #1967D2;\n",
              "      height: 32px;\n",
              "      padding: 0 0 0 0;\n",
              "      width: 32px;\n",
              "    }\n",
              "\n",
              "    .colab-df-convert:hover {\n",
              "      background-color: #E2EBFA;\n",
              "      box-shadow: 0px 1px 2px rgba(60, 64, 67, 0.3), 0px 1px 3px 1px rgba(60, 64, 67, 0.15);\n",
              "      fill: #174EA6;\n",
              "    }\n",
              "\n",
              "    [theme=dark] .colab-df-convert {\n",
              "      background-color: #3B4455;\n",
              "      fill: #D2E3FC;\n",
              "    }\n",
              "\n",
              "    [theme=dark] .colab-df-convert:hover {\n",
              "      background-color: #434B5C;\n",
              "      box-shadow: 0px 1px 3px 1px rgba(0, 0, 0, 0.15);\n",
              "      filter: drop-shadow(0px 1px 2px rgba(0, 0, 0, 0.3));\n",
              "      fill: #FFFFFF;\n",
              "    }\n",
              "  </style>\n",
              "\n",
              "      <script>\n",
              "        const buttonEl =\n",
              "          document.querySelector('#df-8174e20e-dc21-4b2e-98d7-ba5b8ae6bcb3 button.colab-df-convert');\n",
              "        buttonEl.style.display =\n",
              "          google.colab.kernel.accessAllowed ? 'block' : 'none';\n",
              "\n",
              "        async function convertToInteractive(key) {\n",
              "          const element = document.querySelector('#df-8174e20e-dc21-4b2e-98d7-ba5b8ae6bcb3');\n",
              "          const dataTable =\n",
              "            await google.colab.kernel.invokeFunction('convertToInteractive',\n",
              "                                                     [key], {});\n",
              "          if (!dataTable) return;\n",
              "\n",
              "          const docLinkHtml = 'Like what you see? Visit the ' +\n",
              "            '<a target=\"_blank\" href=https://colab.research.google.com/notebooks/data_table.ipynb>data table notebook</a>'\n",
              "            + ' to learn more about interactive tables.';\n",
              "          element.innerHTML = '';\n",
              "          dataTable['output_type'] = 'display_data';\n",
              "          await google.colab.output.renderOutput(dataTable, element);\n",
              "          const docLink = document.createElement('div');\n",
              "          docLink.innerHTML = docLinkHtml;\n",
              "          element.appendChild(docLink);\n",
              "        }\n",
              "      </script>\n",
              "    </div>\n",
              "  </div>\n",
              "  "
            ]
          },
          "metadata": {},
          "execution_count": 38
        }
      ]
    },
    {
      "cell_type": "code",
      "source": [
        "#Comparing performance for diff clusters Let's use Silhouette Coefficient to evaluate the model\n",
        "\n",
        "silhouette_visualizer(kmeans2021_4, ds2021, k=(2,10)) "
      ],
      "metadata": {
        "colab": {
          "base_uri": "https://localhost:8080/",
          "height": 450
        },
        "id": "hjW3DEjnV6Q4",
        "outputId": "b820ec12-337b-4714-a5b9-7b0b4551be4b"
      },
      "execution_count": 39,
      "outputs": [
        {
          "output_type": "stream",
          "name": "stderr",
          "text": [
            "/usr/local/lib/python3.7/dist-packages/sklearn/base.py:451: UserWarning: X does not have valid feature names, but KMeans was fitted with feature names\n",
            "  \"X does not have valid feature names, but\"\n"
          ]
        },
        {
          "output_type": "display_data",
          "data": {
            "text/plain": [
              "<Figure size 576x396 with 1 Axes>"
            ],
            "image/png": "[encoded data removed]"
          },
          "metadata": {}
        },
        {
          "output_type": "execute_result",
          "data": {
            "text/plain": [
              "SilhouetteVisualizer(ax=<matplotlib.axes._subplots.AxesSubplot object at 0x7f9f0c6dbc10>,\n",
              "                     estimator=KMeans(n_clusters=4))"
            ]
          },
          "metadata": {},
          "execution_count": 39
        }
      ]
    },
    {
      "cell_type": "code",
      "source": [
        "#Elbow chart\n",
        "kv2021 = kelbow_visualizer(kmeans2021_4, ds2021, k=(2,10))  \n"
      ],
      "metadata": {
        "colab": {
          "base_uri": "https://localhost:8080/",
          "height": 376
        },
        "id": "kwu1IN6MV_p0",
        "outputId": "00c34416-2cb1-4650-c166-510fff5dc760"
      },
      "execution_count": 41,
      "outputs": [
        {
          "output_type": "display_data",
          "data": {
            "text/plain": [
              "<Figure size 576x396 with 2 Axes>"
            ],
            "image/png": "[encoded data removed]"
          },
          "metadata": {}
        }
      ]
    },
    {
      "cell_type": "markdown",
      "source": [
        "Berdasarkan Elbow chart, n_cluster=5 adalah yg terbaik"
      ],
      "metadata": {
        "id": "D81tBjLOW_Au"
      }
    },
    {
      "cell_type": "code",
      "source": [
        "\n",
        "#Running 5 klaster \n",
        "kmeans2021_5 = KMeans(n_clusters=5)\n",
        "kmeans2021_5.fit(ds2021)"
      ],
      "metadata": {
        "colab": {
          "base_uri": "https://localhost:8080/"
        },
        "outputId": "f971b103-c91d-4760-8b7d-65ae6716a213",
        "id": "76LHt-zXXLo7"
      },
      "execution_count": 42,
      "outputs": [
        {
          "output_type": "execute_result",
          "data": {
            "text/plain": [
              "KMeans(n_clusters=5)"
            ]
          },
          "metadata": {},
          "execution_count": 42
        }
      ]
    },
    {
      "cell_type": "code",
      "source": [
        "pred2021_5 = kmeans2021_5.fit_predict(ds2021)"
      ],
      "metadata": {
        "id": "eNM9odB6XLo8"
      },
      "execution_count": 43,
      "outputs": []
    },
    {
      "cell_type": "code",
      "source": [
        "ds2021_pred5 = ds2021.copy()\n",
        "ds2021_pred5['Class']=pred2021_5"
      ],
      "metadata": {
        "id": "7CtrohftXLo8"
      },
      "execution_count": 44,
      "outputs": []
    },
    {
      "cell_type": "code",
      "source": [
        "ds2021_pred5"
      ],
      "metadata": {
        "colab": {
          "base_uri": "https://localhost:8080/",
          "height": 455
        },
        "outputId": "9f22c360-c494-4729-8391-b8c1c310c01d",
        "id": "G0RtwCpPXLo8"
      },
      "execution_count": 45,
      "outputs": [
        {
          "output_type": "execute_result",
          "data": {
            "text/plain": [
              "                                                    15-19  20-24  25-29  \\\n",
              "wilayah                                                                   \n",
              "ADM. KEPULAUAN SERIBUKEPULAUAN SERIBU SELATANPU...    310    313    329   \n",
              "ADM. KEPULAUAN SERIBUKEPULAUAN SERIBU SELATANPU...    534    514    513   \n",
              "ADM. KEPULAUAN SERIBUKEPULAUAN SERIBU SELATANPU...    205    207    230   \n",
              "ADM. KEPULAUAN SERIBUKEPULAUAN SERIBU UTARAPULA...    237    243    219   \n",
              "ADM. KEPULAUAN SERIBUKEPULAUAN SERIBU UTARAPULA...    662    625    623   \n",
              "...                                                   ...    ...    ...   \n",
              "JAKARTA UTARATANJUNG PRIOKSUNGAI BAMBU               3114   2976   2916   \n",
              "JAKARTA UTARATANJUNG PRIOKSUNTER AGUNG               6789   6171   6466   \n",
              "JAKARTA UTARATANJUNG PRIOKSUNTER JAYA                5976   5719   5938   \n",
              "JAKARTA UTARATANJUNG PRIOKTANJUNG PRIOK              3655   3546   3379   \n",
              "JAKARTA UTARATANJUNG PRIOKWARAKAS                    4535   4367   4315   \n",
              "\n",
              "                                                    30-34  35-39  40-44  \\\n",
              "wilayah                                                                   \n",
              "ADM. KEPULAUAN SERIBUKEPULAUAN SERIBU SELATANPU...    340    344    280   \n",
              "ADM. KEPULAUAN SERIBUKEPULAUAN SERIBU SELATANPU...    503    519    451   \n",
              "ADM. KEPULAUAN SERIBUKEPULAUAN SERIBU SELATANPU...    196    203    217   \n",
              "ADM. KEPULAUAN SERIBUKEPULAUAN SERIBU UTARAPULA...    244    245    192   \n",
              "ADM. KEPULAUAN SERIBUKEPULAUAN SERIBU UTARAPULA...    560    662    504   \n",
              "...                                                   ...    ...    ...   \n",
              "JAKARTA UTARATANJUNG PRIOKSUNGAI BAMBU               3000   3254   3169   \n",
              "JAKARTA UTARATANJUNG PRIOKSUNTER AGUNG               6956   8095   7799   \n",
              "JAKARTA UTARATANJUNG PRIOKSUNTER JAYA                6540   7816   7068   \n",
              "JAKARTA UTARATANJUNG PRIOKTANJUNG PRIOK              3269   3767   3822   \n",
              "JAKARTA UTARATANJUNG PRIOKWARAKAS                    4436   4906   4970   \n",
              "\n",
              "                                                    45-49  50-54  55-59  \\\n",
              "wilayah                                                                   \n",
              "ADM. KEPULAUAN SERIBUKEPULAUAN SERIBU SELATANPU...    208    161    118   \n",
              "ADM. KEPULAUAN SERIBUKEPULAUAN SERIBU SELATANPU...    384    323    245   \n",
              "ADM. KEPULAUAN SERIBUKEPULAUAN SERIBU SELATANPU...    169    175     80   \n",
              "ADM. KEPULAUAN SERIBUKEPULAUAN SERIBU UTARAPULA...    171    146    117   \n",
              "ADM. KEPULAUAN SERIBUKEPULAUAN SERIBU UTARAPULA...    470    371    321   \n",
              "...                                                   ...    ...    ...   \n",
              "JAKARTA UTARATANJUNG PRIOKSUNGAI BAMBU               2792   2381   1887   \n",
              "JAKARTA UTARATANJUNG PRIOKSUNTER AGUNG               6679   5430   4586   \n",
              "JAKARTA UTARATANJUNG PRIOKSUNTER JAYA                5584   4394   3712   \n",
              "JAKARTA UTARATANJUNG PRIOKTANJUNG PRIOK              3559   2854   2108   \n",
              "JAKARTA UTARATANJUNG PRIOKWARAKAS                    4524   3668   2618   \n",
              "\n",
              "                                                    60-64  Class  \n",
              "wilayah                                                           \n",
              "ADM. KEPULAUAN SERIBUKEPULAUAN SERIBU SELATANPU...     99      4  \n",
              "ADM. KEPULAUAN SERIBUKEPULAUAN SERIBU SELATANPU...    163      4  \n",
              "ADM. KEPULAUAN SERIBUKEPULAUAN SERIBU SELATANPU...     54      4  \n",
              "ADM. KEPULAUAN SERIBUKEPULAUAN SERIBU UTARAPULA...     74      4  \n",
              "ADM. KEPULAUAN SERIBUKEPULAUAN SERIBU UTARAPULA...    252      4  \n",
              "...                                                   ...    ...  \n",
              "JAKARTA UTARATANJUNG PRIOKSUNGAI BAMBU               1323      0  \n",
              "JAKARTA UTARATANJUNG PRIOKSUNTER AGUNG               3899      1  \n",
              "JAKARTA UTARATANJUNG PRIOKSUNTER JAYA                3149      1  \n",
              "JAKARTA UTARATANJUNG PRIOKTANJUNG PRIOK              1343      2  \n",
              "JAKARTA UTARATANJUNG PRIOKWARAKAS                    1740      2  \n",
              "\n",
              "[267 rows x 11 columns]"
            ],
            "text/html": [
              "\n",
              "  <div id=\"df-d5b74504-8eed-4c77-857b-d7de9d72647d\">\n",
              "    <div class=\"colab-df-container\">\n",
              "      <div>\n",
              "<style scoped>\n",
              "    .dataframe tbody tr th:only-of-type {\n",
              "        vertical-align: middle;\n",
              "    }\n",
              "\n",
              "    .dataframe tbody tr th {\n",
              "        vertical-align: top;\n",
              "    }\n",
              "\n",
              "    .dataframe thead th {\n",
              "        text-align: right;\n",
              "    }\n",
              "</style>\n",
              "<table border=\"1\" class=\"dataframe\">\n",
              "  <thead>\n",
              "    <tr style=\"text-align: right;\">\n",
              "      <th></th>\n",
              "      <th>15-19</th>\n",
              "      <th>20-24</th>\n",
              "      <th>25-29</th>\n",
              "      <th>30-34</th>\n",
              "      <th>35-39</th>\n",
              "      <th>40-44</th>\n",
              "      <th>45-49</th>\n",
              "      <th>50-54</th>\n",
              "      <th>55-59</th>\n",
              "      <th>60-64</th>\n",
              "      <th>Class</th>\n",
              "    </tr>\n",
              "    <tr>\n",
              "      <th>wilayah</th>\n",
              "      <th></th>\n",
              "      <th></th>\n",
              "      <th></th>\n",
              "      <th></th>\n",
              "      <th></th>\n",
              "      <th></th>\n",
              "      <th></th>\n",
              "      <th></th>\n",
              "      <th></th>\n",
              "      <th></th>\n",
              "      <th></th>\n",
              "    </tr>\n",
              "  </thead>\n",
              "  <tbody>\n",
              "    <tr>\n",
              "      <th>ADM. KEPULAUAN SERIBUKEPULAUAN SERIBU SELATANPULAU PARI</th>\n",
              "      <td>310</td>\n",
              "      <td>313</td>\n",
              "      <td>329</td>\n",
              "      <td>340</td>\n",
              "      <td>344</td>\n",
              "      <td>280</td>\n",
              "      <td>208</td>\n",
              "      <td>161</td>\n",
              "      <td>118</td>\n",
              "      <td>99</td>\n",
              "      <td>4</td>\n",
              "    </tr>\n",
              "    <tr>\n",
              "      <th>ADM. KEPULAUAN SERIBUKEPULAUAN SERIBU SELATANPULAU TIDUNG</th>\n",
              "      <td>534</td>\n",
              "      <td>514</td>\n",
              "      <td>513</td>\n",
              "      <td>503</td>\n",
              "      <td>519</td>\n",
              "      <td>451</td>\n",
              "      <td>384</td>\n",
              "      <td>323</td>\n",
              "      <td>245</td>\n",
              "      <td>163</td>\n",
              "      <td>4</td>\n",
              "    </tr>\n",
              "    <tr>\n",
              "      <th>ADM. KEPULAUAN SERIBUKEPULAUAN SERIBU SELATANPULAU UNTUNG JAWA</th>\n",
              "      <td>205</td>\n",
              "      <td>207</td>\n",
              "      <td>230</td>\n",
              "      <td>196</td>\n",
              "      <td>203</td>\n",
              "      <td>217</td>\n",
              "      <td>169</td>\n",
              "      <td>175</td>\n",
              "      <td>80</td>\n",
              "      <td>54</td>\n",
              "      <td>4</td>\n",
              "    </tr>\n",
              "    <tr>\n",
              "      <th>ADM. KEPULAUAN SERIBUKEPULAUAN SERIBU UTARAPULAU HARAPAN</th>\n",
              "      <td>237</td>\n",
              "      <td>243</td>\n",
              "      <td>219</td>\n",
              "      <td>244</td>\n",
              "      <td>245</td>\n",
              "      <td>192</td>\n",
              "      <td>171</td>\n",
              "      <td>146</td>\n",
              "      <td>117</td>\n",
              "      <td>74</td>\n",
              "      <td>4</td>\n",
              "    </tr>\n",
              "    <tr>\n",
              "      <th>ADM. KEPULAUAN SERIBUKEPULAUAN SERIBU UTARAPULAU KELAPA</th>\n",
              "      <td>662</td>\n",
              "      <td>625</td>\n",
              "      <td>623</td>\n",
              "      <td>560</td>\n",
              "      <td>662</td>\n",
              "      <td>504</td>\n",
              "      <td>470</td>\n",
              "      <td>371</td>\n",
              "      <td>321</td>\n",
              "      <td>252</td>\n",
              "      <td>4</td>\n",
              "    </tr>\n",
              "    <tr>\n",
              "      <th>...</th>\n",
              "      <td>...</td>\n",
              "      <td>...</td>\n",
              "      <td>...</td>\n",
              "      <td>...</td>\n",
              "      <td>...</td>\n",
              "      <td>...</td>\n",
              "      <td>...</td>\n",
              "      <td>...</td>\n",
              "      <td>...</td>\n",
              "      <td>...</td>\n",
              "      <td>...</td>\n",
              "    </tr>\n",
              "    <tr>\n",
              "      <th>JAKARTA UTARATANJUNG PRIOKSUNGAI BAMBU</th>\n",
              "      <td>3114</td>\n",
              "      <td>2976</td>\n",
              "      <td>2916</td>\n",
              "      <td>3000</td>\n",
              "      <td>3254</td>\n",
              "      <td>3169</td>\n",
              "      <td>2792</td>\n",
              "      <td>2381</td>\n",
              "      <td>1887</td>\n",
              "      <td>1323</td>\n",
              "      <td>0</td>\n",
              "    </tr>\n",
              "    <tr>\n",
              "      <th>JAKARTA UTARATANJUNG PRIOKSUNTER AGUNG</th>\n",
              "      <td>6789</td>\n",
              "      <td>6171</td>\n",
              "      <td>6466</td>\n",
              "      <td>6956</td>\n",
              "      <td>8095</td>\n",
              "      <td>7799</td>\n",
              "      <td>6679</td>\n",
              "      <td>5430</td>\n",
              "      <td>4586</td>\n",
              "      <td>3899</td>\n",
              "      <td>1</td>\n",
              "    </tr>\n",
              "    <tr>\n",
              "      <th>JAKARTA UTARATANJUNG PRIOKSUNTER JAYA</th>\n",
              "      <td>5976</td>\n",
              "      <td>5719</td>\n",
              "      <td>5938</td>\n",
              "      <td>6540</td>\n",
              "      <td>7816</td>\n",
              "      <td>7068</td>\n",
              "      <td>5584</td>\n",
              "      <td>4394</td>\n",
              "      <td>3712</td>\n",
              "      <td>3149</td>\n",
              "      <td>1</td>\n",
              "    </tr>\n",
              "    <tr>\n",
              "      <th>JAKARTA UTARATANJUNG PRIOKTANJUNG PRIOK</th>\n",
              "      <td>3655</td>\n",
              "      <td>3546</td>\n",
              "      <td>3379</td>\n",
              "      <td>3269</td>\n",
              "      <td>3767</td>\n",
              "      <td>3822</td>\n",
              "      <td>3559</td>\n",
              "      <td>2854</td>\n",
              "      <td>2108</td>\n",
              "      <td>1343</td>\n",
              "      <td>2</td>\n",
              "    </tr>\n",
              "    <tr>\n",
              "      <th>JAKARTA UTARATANJUNG PRIOKWARAKAS</th>\n",
              "      <td>4535</td>\n",
              "      <td>4367</td>\n",
              "      <td>4315</td>\n",
              "      <td>4436</td>\n",
              "      <td>4906</td>\n",
              "      <td>4970</td>\n",
              "      <td>4524</td>\n",
              "      <td>3668</td>\n",
              "      <td>2618</td>\n",
              "      <td>1740</td>\n",
              "      <td>2</td>\n",
              "    </tr>\n",
              "  </tbody>\n",
              "</table>\n",
              "<p>267 rows × 11 columns</p>\n",
              "</div>\n",
              "      <button class=\"colab-df-convert\" onclick=\"convertToInteractive('df-d5b74504-8eed-4c77-857b-d7de9d72647d')\"\n",
              "              title=\"Convert this dataframe to an interactive table.\"\n",
              "              style=\"display:none;\">\n",
              "        \n",
              "  <svg xmlns=\"http://www.w3.org/2000/svg\" height=\"24px\"viewBox=\"0 0 24 24\"\n",
              "       width=\"24px\">\n",
              "    <path d=\"M0 0h24v24H0V0z\" fill=\"none\"/>\n",
              "    <path d=\"M18.56 5.44l.94 2.06.94-2.06 2.06-.94-2.06-.94-.94-2.06-.94 2.06-2.06.94zm-11 1L8.5 8.5l.94-2.06 2.06-.94-2.06-.94L8.5 2.5l-.94 2.06-2.06.94zm10 10l.94 2.06.94-2.06 2.06-.94-2.06-.94-.94-2.06-.94 2.06-2.06.94z\"/><path d=\"M17.41 7.96l-1.37-1.37c-.4-.4-.92-.59-1.43-.59-.52 0-1.04.2-1.43.59L10.3 9.45l-7.72 7.72c-.78.78-.78 2.05 0 2.83L4 21.41c.39.39.9.59 1.41.59.51 0 1.02-.2 1.41-.59l7.78-7.78 2.81-2.81c.8-.78.8-2.07 0-2.86zM5.41 20L4 18.59l7.72-7.72 1.47 1.35L5.41 20z\"/>\n",
              "  </svg>\n",
              "      </button>\n",
              "      \n",
              "  <style>\n",
              "    .colab-df-container {\n",
              "      display:flex;\n",
              "      flex-wrap:wrap;\n",
              "      gap: 12px;\n",
              "    }\n",
              "\n",
              "    .colab-df-convert {\n",
              "      background-color: #E8F0FE;\n",
              "      border: none;\n",
              "      border-radius: 50%;\n",
              "      cursor: pointer;\n",
              "      display: none;\n",
              "      fill: #1967D2;\n",
              "      height: 32px;\n",
              "      padding: 0 0 0 0;\n",
              "      width: 32px;\n",
              "    }\n",
              "\n",
              "    .colab-df-convert:hover {\n",
              "      background-color: #E2EBFA;\n",
              "      box-shadow: 0px 1px 2px rgba(60, 64, 67, 0.3), 0px 1px 3px 1px rgba(60, 64, 67, 0.15);\n",
              "      fill: #174EA6;\n",
              "    }\n",
              "\n",
              "    [theme=dark] .colab-df-convert {\n",
              "      background-color: #3B4455;\n",
              "      fill: #D2E3FC;\n",
              "    }\n",
              "\n",
              "    [theme=dark] .colab-df-convert:hover {\n",
              "      background-color: #434B5C;\n",
              "      box-shadow: 0px 1px 3px 1px rgba(0, 0, 0, 0.15);\n",
              "      filter: drop-shadow(0px 1px 2px rgba(0, 0, 0, 0.3));\n",
              "      fill: #FFFFFF;\n",
              "    }\n",
              "  </style>\n",
              "\n",
              "      <script>\n",
              "        const buttonEl =\n",
              "          document.querySelector('#df-d5b74504-8eed-4c77-857b-d7de9d72647d button.colab-df-convert');\n",
              "        buttonEl.style.display =\n",
              "          google.colab.kernel.accessAllowed ? 'block' : 'none';\n",
              "\n",
              "        async function convertToInteractive(key) {\n",
              "          const element = document.querySelector('#df-d5b74504-8eed-4c77-857b-d7de9d72647d');\n",
              "          const dataTable =\n",
              "            await google.colab.kernel.invokeFunction('convertToInteractive',\n",
              "                                                     [key], {});\n",
              "          if (!dataTable) return;\n",
              "\n",
              "          const docLinkHtml = 'Like what you see? Visit the ' +\n",
              "            '<a target=\"_blank\" href=https://colab.research.google.com/notebooks/data_table.ipynb>data table notebook</a>'\n",
              "            + ' to learn more about interactive tables.';\n",
              "          element.innerHTML = '';\n",
              "          dataTable['output_type'] = 'display_data';\n",
              "          await google.colab.output.renderOutput(dataTable, element);\n",
              "          const docLink = document.createElement('div');\n",
              "          docLink.innerHTML = docLinkHtml;\n",
              "          element.appendChild(docLink);\n",
              "        }\n",
              "      </script>\n",
              "    </div>\n",
              "  </div>\n",
              "  "
            ]
          },
          "metadata": {},
          "execution_count": 45
        }
      ]
    },
    {
      "cell_type": "code",
      "source": [
        "#Comparing performance for diff clusters Let's use Silhouette Coefficient to evaluate the model\n",
        "\n",
        "silhouette_visualizer(kmeans2021_5, ds2021, k=(2,10)) "
      ],
      "metadata": {
        "colab": {
          "base_uri": "https://localhost:8080/",
          "height": 450
        },
        "outputId": "d18c1bc0-3b86-428b-fac5-4bfdf3e580f9",
        "id": "eta75B71XLo8"
      },
      "execution_count": 46,
      "outputs": [
        {
          "output_type": "stream",
          "name": "stderr",
          "text": [
            "/usr/local/lib/python3.7/dist-packages/sklearn/base.py:451: UserWarning: X does not have valid feature names, but KMeans was fitted with feature names\n",
            "  \"X does not have valid feature names, but\"\n"
          ]
        },
        {
          "output_type": "display_data",
          "data": {
            "text/plain": [
              "<Figure size 576x396 with 1 Axes>"
            ],
            "image/png": "[encoded data removed]"
          },
          "metadata": {}
        },
        {
          "output_type": "execute_result",
          "data": {
            "text/plain": [
              "SilhouetteVisualizer(ax=<matplotlib.axes._subplots.AxesSubplot object at 0x7f9f055cb190>,\n",
              "                     estimator=KMeans(n_clusters=5))"
            ]
          },
          "metadata": {},
          "execution_count": 46
        }
      ]
    },
    {
      "cell_type": "code",
      "source": [
        "silhouette_avg2021_5 = silhouette_score(ds2021, pred2021_5)\n",
        "print(silhouette_avg2021_5)"
      ],
      "metadata": {
        "colab": {
          "base_uri": "https://localhost:8080/"
        },
        "id": "sVjVMzehWEyG",
        "outputId": "ef1a7d4b-dbdc-4783-b8e2-411fa3252ff2"
      },
      "execution_count": 47,
      "outputs": [
        {
          "output_type": "stream",
          "name": "stdout",
          "text": [
            "0.5238366291498925\n"
          ]
        }
      ]
    },
    {
      "cell_type": "code",
      "source": [
        "ds2021_pred5.groupby(\"Class\").agg([np.median,np.mean])"
      ],
      "metadata": {
        "colab": {
          "base_uri": "https://localhost:8080/",
          "height": 333
        },
        "id": "E8KomsO9WNZ1",
        "outputId": "47996ac4-6187-4075-9a63-66b5e62f6986"
      },
      "execution_count": 48,
      "outputs": [
        {
          "output_type": "execute_result",
          "data": {
            "text/plain": [
              "        15-19                20-24                25-29                30-34  \\\n",
              "       median         mean  median         mean  median         mean  median   \n",
              "Class                                                                          \n",
              "0      2431.0  2392.373626  2360.0  2370.516484  2370.0  2354.021978  2371.0   \n",
              "1      6132.5  6290.315789  5997.5  6085.342105  6067.0  6175.815789  6210.5   \n",
              "2      3780.0  3838.812500  3710.0  3759.700000  3716.5  3774.587500  3758.5   \n",
              "3      9276.0  9671.857143  8655.0  9431.285714  8772.0  9706.857143  9080.0   \n",
              "4       845.0   828.490196   891.0   842.333333   861.0   845.176471   845.0   \n",
              "\n",
              "                       35-39                  40-44                 45-49  \\\n",
              "               mean   median          mean   median          mean  median   \n",
              "Class                                                                       \n",
              "0       2368.307692   2732.0   2666.835165   2660.0   2628.010989  2357.0   \n",
              "1       6324.763158   7246.5   7220.078947   7015.5   7003.605263  5976.5   \n",
              "2       3829.575000   4259.0   4346.912500   4272.0   4279.900000  3747.0   \n",
              "3      10089.428571  10727.0  11635.857143  10026.0  10876.857143  8601.0   \n",
              "4        837.333333    960.0    942.686275    922.0    930.784314   850.0   \n",
              "\n",
              "                     50-54                55-59                60-64  \\\n",
              "              mean  median         mean  median         mean  median   \n",
              "Class                                                                  \n",
              "0      2374.197802  2008.0  2059.846154  1613.0  1625.010989  1144.0   \n",
              "1      5994.763158  4770.0  4785.578947  3614.5  3650.947368  2677.0   \n",
              "2      3791.925000  3087.5  3149.262500  2415.5  2428.862500  1754.0   \n",
              "3      9054.142857  6715.0  7117.857143  5125.0  5361.571429  3543.0   \n",
              "4       854.117647   825.0   775.117647   666.0   655.078431   524.0   \n",
              "\n",
              "                    \n",
              "              mean  \n",
              "Class               \n",
              "0      1193.703297  \n",
              "1      2656.763158  \n",
              "2      1775.925000  \n",
              "3      3764.857143  \n",
              "4       513.803922  "
            ],
            "text/html": [
              "\n",
              "  <div id=\"df-63b0aef5-2616-402d-a4ea-55fe4c2ffa1f\">\n",
              "    <div class=\"colab-df-container\">\n",
              "      <div>\n",
              "<style scoped>\n",
              "    .dataframe tbody tr th:only-of-type {\n",
              "        vertical-align: middle;\n",
              "    }\n",
              "\n",
              "    .dataframe tbody tr th {\n",
              "        vertical-align: top;\n",
              "    }\n",
              "\n",
              "    .dataframe thead tr th {\n",
              "        text-align: left;\n",
              "    }\n",
              "\n",
              "    .dataframe thead tr:last-of-type th {\n",
              "        text-align: right;\n",
              "    }\n",
              "</style>\n",
              "<table border=\"1\" class=\"dataframe\">\n",
              "  <thead>\n",
              "    <tr>\n",
              "      <th></th>\n",
              "      <th colspan=\"2\" halign=\"left\">15-19</th>\n",
              "      <th colspan=\"2\" halign=\"left\">20-24</th>\n",
              "      <th colspan=\"2\" halign=\"left\">25-29</th>\n",
              "      <th colspan=\"2\" halign=\"left\">30-34</th>\n",
              "      <th colspan=\"2\" halign=\"left\">35-39</th>\n",
              "      <th colspan=\"2\" halign=\"left\">40-44</th>\n",
              "      <th colspan=\"2\" halign=\"left\">45-49</th>\n",
              "      <th colspan=\"2\" halign=\"left\">50-54</th>\n",
              "      <th colspan=\"2\" halign=\"left\">55-59</th>\n",
              "      <th colspan=\"2\" halign=\"left\">60-64</th>\n",
              "    </tr>\n",
              "    <tr>\n",
              "      <th></th>\n",
              "      <th>median</th>\n",
              "      <th>mean</th>\n",
              "      <th>median</th>\n",
              "      <th>mean</th>\n",
              "      <th>median</th>\n",
              "      <th>mean</th>\n",
              "      <th>median</th>\n",
              "      <th>mean</th>\n",
              "      <th>median</th>\n",
              "      <th>mean</th>\n",
              "      <th>median</th>\n",
              "      <th>mean</th>\n",
              "      <th>median</th>\n",
              "      <th>mean</th>\n",
              "      <th>median</th>\n",
              "      <th>mean</th>\n",
              "      <th>median</th>\n",
              "      <th>mean</th>\n",
              "      <th>median</th>\n",
              "      <th>mean</th>\n",
              "    </tr>\n",
              "    <tr>\n",
              "      <th>Class</th>\n",
              "      <th></th>\n",
              "      <th></th>\n",
              "      <th></th>\n",
              "      <th></th>\n",
              "      <th></th>\n",
              "      <th></th>\n",
              "      <th></th>\n",
              "      <th></th>\n",
              "      <th></th>\n",
              "      <th></th>\n",
              "      <th></th>\n",
              "      <th></th>\n",
              "      <th></th>\n",
              "      <th></th>\n",
              "      <th></th>\n",
              "      <th></th>\n",
              "      <th></th>\n",
              "      <th></th>\n",
              "      <th></th>\n",
              "      <th></th>\n",
              "    </tr>\n",
              "  </thead>\n",
              "  <tbody>\n",
              "    <tr>\n",
              "      <th>0</th>\n",
              "      <td>2431.0</td>\n",
              "      <td>2392.373626</td>\n",
              "      <td>2360.0</td>\n",
              "      <td>2370.516484</td>\n",
              "      <td>2370.0</td>\n",
              "      <td>2354.021978</td>\n",
              "      <td>2371.0</td>\n",
              "      <td>2368.307692</td>\n",
              "      <td>2732.0</td>\n",
              "      <td>2666.835165</td>\n",
              "      <td>2660.0</td>\n",
              "      <td>2628.010989</td>\n",
              "      <td>2357.0</td>\n",
              "      <td>2374.197802</td>\n",
              "      <td>2008.0</td>\n",
              "      <td>2059.846154</td>\n",
              "      <td>1613.0</td>\n",
              "      <td>1625.010989</td>\n",
              "      <td>1144.0</td>\n",
              "      <td>1193.703297</td>\n",
              "    </tr>\n",
              "    <tr>\n",
              "      <th>1</th>\n",
              "      <td>6132.5</td>\n",
              "      <td>6290.315789</td>\n",
              "      <td>5997.5</td>\n",
              "      <td>6085.342105</td>\n",
              "      <td>6067.0</td>\n",
              "      <td>6175.815789</td>\n",
              "      <td>6210.5</td>\n",
              "      <td>6324.763158</td>\n",
              "      <td>7246.5</td>\n",
              "      <td>7220.078947</td>\n",
              "      <td>7015.5</td>\n",
              "      <td>7003.605263</td>\n",
              "      <td>5976.5</td>\n",
              "      <td>5994.763158</td>\n",
              "      <td>4770.0</td>\n",
              "      <td>4785.578947</td>\n",
              "      <td>3614.5</td>\n",
              "      <td>3650.947368</td>\n",
              "      <td>2677.0</td>\n",
              "      <td>2656.763158</td>\n",
              "    </tr>\n",
              "    <tr>\n",
              "      <th>2</th>\n",
              "      <td>3780.0</td>\n",
              "      <td>3838.812500</td>\n",
              "      <td>3710.0</td>\n",
              "      <td>3759.700000</td>\n",
              "      <td>3716.5</td>\n",
              "      <td>3774.587500</td>\n",
              "      <td>3758.5</td>\n",
              "      <td>3829.575000</td>\n",
              "      <td>4259.0</td>\n",
              "      <td>4346.912500</td>\n",
              "      <td>4272.0</td>\n",
              "      <td>4279.900000</td>\n",
              "      <td>3747.0</td>\n",
              "      <td>3791.925000</td>\n",
              "      <td>3087.5</td>\n",
              "      <td>3149.262500</td>\n",
              "      <td>2415.5</td>\n",
              "      <td>2428.862500</td>\n",
              "      <td>1754.0</td>\n",
              "      <td>1775.925000</td>\n",
              "    </tr>\n",
              "    <tr>\n",
              "      <th>3</th>\n",
              "      <td>9276.0</td>\n",
              "      <td>9671.857143</td>\n",
              "      <td>8655.0</td>\n",
              "      <td>9431.285714</td>\n",
              "      <td>8772.0</td>\n",
              "      <td>9706.857143</td>\n",
              "      <td>9080.0</td>\n",
              "      <td>10089.428571</td>\n",
              "      <td>10727.0</td>\n",
              "      <td>11635.857143</td>\n",
              "      <td>10026.0</td>\n",
              "      <td>10876.857143</td>\n",
              "      <td>8601.0</td>\n",
              "      <td>9054.142857</td>\n",
              "      <td>6715.0</td>\n",
              "      <td>7117.857143</td>\n",
              "      <td>5125.0</td>\n",
              "      <td>5361.571429</td>\n",
              "      <td>3543.0</td>\n",
              "      <td>3764.857143</td>\n",
              "    </tr>\n",
              "    <tr>\n",
              "      <th>4</th>\n",
              "      <td>845.0</td>\n",
              "      <td>828.490196</td>\n",
              "      <td>891.0</td>\n",
              "      <td>842.333333</td>\n",
              "      <td>861.0</td>\n",
              "      <td>845.176471</td>\n",
              "      <td>845.0</td>\n",
              "      <td>837.333333</td>\n",
              "      <td>960.0</td>\n",
              "      <td>942.686275</td>\n",
              "      <td>922.0</td>\n",
              "      <td>930.784314</td>\n",
              "      <td>850.0</td>\n",
              "      <td>854.117647</td>\n",
              "      <td>825.0</td>\n",
              "      <td>775.117647</td>\n",
              "      <td>666.0</td>\n",
              "      <td>655.078431</td>\n",
              "      <td>524.0</td>\n",
              "      <td>513.803922</td>\n",
              "    </tr>\n",
              "  </tbody>\n",
              "</table>\n",
              "</div>\n",
              "      <button class=\"colab-df-convert\" onclick=\"convertToInteractive('df-63b0aef5-2616-402d-a4ea-55fe4c2ffa1f')\"\n",
              "              title=\"Convert this dataframe to an interactive table.\"\n",
              "              style=\"display:none;\">\n",
              "        \n",
              "  <svg xmlns=\"http://www.w3.org/2000/svg\" height=\"24px\"viewBox=\"0 0 24 24\"\n",
              "       width=\"24px\">\n",
              "    <path d=\"M0 0h24v24H0V0z\" fill=\"none\"/>\n",
              "    <path d=\"M18.56 5.44l.94 2.06.94-2.06 2.06-.94-2.06-.94-.94-2.06-.94 2.06-2.06.94zm-11 1L8.5 8.5l.94-2.06 2.06-.94-2.06-.94L8.5 2.5l-.94 2.06-2.06.94zm10 10l.94 2.06.94-2.06 2.06-.94-2.06-.94-.94-2.06-.94 2.06-2.06.94z\"/><path d=\"M17.41 7.96l-1.37-1.37c-.4-.4-.92-.59-1.43-.59-.52 0-1.04.2-1.43.59L10.3 9.45l-7.72 7.72c-.78.78-.78 2.05 0 2.83L4 21.41c.39.39.9.59 1.41.59.51 0 1.02-.2 1.41-.59l7.78-7.78 2.81-2.81c.8-.78.8-2.07 0-2.86zM5.41 20L4 18.59l7.72-7.72 1.47 1.35L5.41 20z\"/>\n",
              "  </svg>\n",
              "      </button>\n",
              "      \n",
              "  <style>\n",
              "    .colab-df-container {\n",
              "      display:flex;\n",
              "      flex-wrap:wrap;\n",
              "      gap: 12px;\n",
              "    }\n",
              "\n",
              "    .colab-df-convert {\n",
              "      background-color: #E8F0FE;\n",
              "      border: none;\n",
              "      border-radius: 50%;\n",
              "      cursor: pointer;\n",
              "      display: none;\n",
              "      fill: #1967D2;\n",
              "      height: 32px;\n",
              "      padding: 0 0 0 0;\n",
              "      width: 32px;\n",
              "    }\n",
              "\n",
              "    .colab-df-convert:hover {\n",
              "      background-color: #E2EBFA;\n",
              "      box-shadow: 0px 1px 2px rgba(60, 64, 67, 0.3), 0px 1px 3px 1px rgba(60, 64, 67, 0.15);\n",
              "      fill: #174EA6;\n",
              "    }\n",
              "\n",
              "    [theme=dark] .colab-df-convert {\n",
              "      background-color: #3B4455;\n",
              "      fill: #D2E3FC;\n",
              "    }\n",
              "\n",
              "    [theme=dark] .colab-df-convert:hover {\n",
              "      background-color: #434B5C;\n",
              "      box-shadow: 0px 1px 3px 1px rgba(0, 0, 0, 0.15);\n",
              "      filter: drop-shadow(0px 1px 2px rgba(0, 0, 0, 0.3));\n",
              "      fill: #FFFFFF;\n",
              "    }\n",
              "  </style>\n",
              "\n",
              "      <script>\n",
              "        const buttonEl =\n",
              "          document.querySelector('#df-63b0aef5-2616-402d-a4ea-55fe4c2ffa1f button.colab-df-convert');\n",
              "        buttonEl.style.display =\n",
              "          google.colab.kernel.accessAllowed ? 'block' : 'none';\n",
              "\n",
              "        async function convertToInteractive(key) {\n",
              "          const element = document.querySelector('#df-63b0aef5-2616-402d-a4ea-55fe4c2ffa1f');\n",
              "          const dataTable =\n",
              "            await google.colab.kernel.invokeFunction('convertToInteractive',\n",
              "                                                     [key], {});\n",
              "          if (!dataTable) return;\n",
              "\n",
              "          const docLinkHtml = 'Like what you see? Visit the ' +\n",
              "            '<a target=\"_blank\" href=https://colab.research.google.com/notebooks/data_table.ipynb>data table notebook</a>'\n",
              "            + ' to learn more about interactive tables.';\n",
              "          element.innerHTML = '';\n",
              "          dataTable['output_type'] = 'display_data';\n",
              "          await google.colab.output.renderOutput(dataTable, element);\n",
              "          const docLink = document.createElement('div');\n",
              "          docLink.innerHTML = docLinkHtml;\n",
              "          element.appendChild(docLink);\n",
              "        }\n",
              "      </script>\n",
              "    </div>\n",
              "  </div>\n",
              "  "
            ]
          },
          "metadata": {},
          "execution_count": 48
        }
      ]
    },
    {
      "cell_type": "code",
      "source": [
        "ds2021_pred5['wilayah']=ds2021_pred5.index"
      ],
      "metadata": {
        "id": "V04_vGHCWPJW"
      },
      "execution_count": 49,
      "outputs": []
    },
    {
      "cell_type": "code",
      "source": [
        "hasil2021 = ds2021_pred5.groupby(\"Class\")['wilayah'].count().reset_index()\n",
        "print(hasil2021)"
      ],
      "metadata": {
        "colab": {
          "base_uri": "https://localhost:8080/"
        },
        "id": "cZTg2aIMWQjn",
        "outputId": "834263d6-9be7-4422-d148-060c813220b2"
      },
      "execution_count": 50,
      "outputs": [
        {
          "output_type": "stream",
          "name": "stdout",
          "text": [
            "   Class  wilayah\n",
            "0      0       91\n",
            "1      1       38\n",
            "2      2       80\n",
            "3      3        7\n",
            "4      4       51\n"
          ]
        }
      ]
    },
    {
      "cell_type": "code",
      "source": [
        "hasil2021['persentase'] = 100 * hasil2021['wilayah']  / hasil2021['wilayah'].sum()\n",
        "print(hasil2021)"
      ],
      "metadata": {
        "colab": {
          "base_uri": "https://localhost:8080/"
        },
        "id": "mucqFGIgWRuD",
        "outputId": "c7fbe7be-a4d1-4cde-fe09-1c0584bb2d69"
      },
      "execution_count": 51,
      "outputs": [
        {
          "output_type": "stream",
          "name": "stdout",
          "text": [
            "   Class  wilayah  persentase\n",
            "0      0       91   34.082397\n",
            "1      1       38   14.232210\n",
            "2      2       80   29.962547\n",
            "3      3        7    2.621723\n",
            "4      4       51   19.101124\n"
          ]
        }
      ]
    },
    {
      "cell_type": "code",
      "source": [
        "daftar21 = ds2021_pred5.groupby(\"Class\")['wilayah'].apply(list)\n",
        "print(daftar21[0])\n",
        "print(daftar21[1])\n",
        "print(daftar21[2])\n",
        "print(daftar21[3])\n",
        "print(daftar21[4])"
      ],
      "metadata": {
        "colab": {
          "base_uri": "https://localhost:8080/"
        },
        "id": "XvddL902WTil",
        "outputId": "790f6c0d-6909-4c50-983a-d34b28a135a5"
      },
      "execution_count": 56,
      "outputs": [
        {
          "output_type": "stream",
          "name": "stdout",
          "text": [
            "['JAKARTA BARATGROGOL PETAMBURANJELAMBAR', 'JAKARTA BARATGROGOL PETAMBURANTANJUNG DUREN SELATAN', 'JAKARTA BARATGROGOL PETAMBURANTOMANG', 'JAKARTA BARATKEBON JERUKKEDOYA SELATAN', 'JAKARTA BARATKEBON JERUKKELAPA DUA', 'JAKARTA BARATKEMBANGANKEMBANGAN SELATAN', 'JAKARTA BARATPAL MERAHJATIPULO', 'JAKARTA BARATPAL MERAHKEMANGGISAN', 'JAKARTA BARATPAL MERAHKOTA BAMBU SELATAN', 'JAKARTA BARATPAL MERAHKOTA BAMBU UTARA', 'JAKARTA BARATTAMAN SARIKEAGUNGAN', 'JAKARTA BARATTAMAN SARIKRUKUT', 'JAKARTA BARATTAMBORAANGKE', 'JAKARTA BARATTAMBORADURI UTARA', 'JAKARTA BARATTAMBORAJEMBATAN BESI', 'JAKARTA BARATTAMBORAJEMBATAN LIMA', 'JAKARTA BARATTAMBORAKALI ANYAR', 'JAKARTA BARATTAMBORAKRENDANG', 'JAKARTA BARATTAMBORAPEKOJAN', 'JAKARTA BARATTAMBORATANAH SEREAL', 'JAKARTA PUSATCEMPAKA PUTIHCEMPAKA PUTIH TIMUR', 'JAKARTA PUSATCEMPAKA PUTIHRAWASARI', 'JAKARTA PUSATGAMBIRDURI PULO', 'JAKARTA PUSATGAMBIRPETOJO UTARA', 'JAKARTA PUSATJOHAR BARUGALUR', 'JAKARTA PUSATJOHAR BARUKAMPUNG RAWA', 'JAKARTA PUSATKEMAYORANGUNUNG SAHARI SELATAN', 'JAKARTA PUSATKEMAYORANHARAPAN MULIA', 'JAKARTA PUSATKEMAYORANKEBON KOSONG', 'JAKARTA PUSATKEMAYORANKEMAYORAN', 'JAKARTA PUSATKEMAYORANSERDANG', 'JAKARTA PUSATKEMAYORANSUMUR BATU', 'JAKARTA PUSATKEMAYORANUTAN PANJANG', 'JAKARTA PUSATMENTENGMENTENG', 'JAKARTA PUSATMENTENGPEGANGSAAN', 'JAKARTA PUSATS E N E NBUNGUR', 'JAKARTA PUSATS E N E NKRAMAT', 'JAKARTA PUSATS E N E NPASEBAN', 'JAKARTA PUSATSAWAH BESARKARANG ANYAR', 'JAKARTA PUSATSAWAH BESARKARTINI', 'JAKARTA PUSATSAWAH BESARMANGGA DUA SELATAN', 'JAKARTA PUSATTANAH ABANGBENDUNGAN HILIR', 'JAKARTA PUSATTANAH ABANGKARET TENGSIN', 'JAKARTA PUSATTANAH ABANGKEBON KACANG', 'JAKARTA SELATANCILANDAKCIPETE SELATAN', 'JAKARTA SELATANCILANDAKGANDARIA SELATAN', 'JAKARTA SELATANMAMPANG PRAPATANBANGKA', 'JAKARTA SELATANMAMPANG PRAPATANMAMPANG PRAPATAN', 'JAKARTA SELATANPANCORANDUREN TIGA', 'JAKARTA SELATANPANCORANPANCORAN', 'JAKARTA SELATANPANCORANPENGADEGAN', 'JAKARTA SELATANPANCORANRAWAJATI', 'JAKARTA SELATANPASAR MINGGUCILANDAK TIMUR', 'JAKARTA SELATANPASAR MINGGUPASAR MINGGU', 'JAKARTA SELATANPESANGGRAHANPESANGGRAHAN', 'JAKARTA SELATANSETIA BUDIMENTENG ATAS', 'JAKARTA SELATANSETIA BUDIPASAR MANGGIS', 'JAKARTA SELATANTEBETMANGGARAI', 'JAKARTA SELATANTEBETMANGGARAI SELATAN', 'JAKARTA SELATANTEBETTEBET BARAT', 'JAKARTA SELATANTEBETTEBET TIMUR', 'JAKARTA TIMURCAKUNGRAWA TERATE', 'JAKARTA TIMURCAKUNGUJUNG MENTENG', 'JAKARTA TIMURCIPAYUNGBAMBU APUS', 'JAKARTA TIMURCIPAYUNGCEGER', 'JAKARTA TIMURCIPAYUNGCILANGKAP', 'JAKARTA TIMURCIPAYUNGCIPAYUNG', 'JAKARTA TIMURCIPAYUNGMUNJUL', 'JAKARTA TIMURCIPAYUNGPONDOK RANGGON', 'JAKARTA TIMURCIPAYUNGSETU', 'JAKARTA TIMURDUREN SAWITMALAKA JAYA', 'JAKARTA TIMURDUREN SAWITMALAKA SARI', 'JAKARTA TIMURJATINEGARACIPINANG CEMPEDAK', 'JAKARTA TIMURJATINEGARAKAMPUNG MELAYU', 'JAKARTA TIMURJATINEGARARAWA BUNGA', 'JAKARTA TIMURKRAMATJATIBALEKAMBANG', 'JAKARTA TIMURKRAMATJATIDUKUH', 'JAKARTA TIMURMAKASARHALIM PERDANA KUSUMAH', 'JAKARTA TIMURMAKASARPINANGRANTI', 'JAKARTA TIMURMATRAMANKAYU MANIS', 'JAKARTA TIMURMATRAMANPALMERIAM', 'JAKARTA TIMURMATRAMANPISANGAN BARU', 'JAKARTA TIMURMATRAMANUTAN KAYU UTARA', 'JAKARTA TIMURPASAR REBOBARU', 'JAKARTA TIMURPULO GADUNGJATI', 'JAKARTA TIMURPULO GADUNGJATINEGARA KAUM', 'JAKARTA UTARACILINCINGMARUNDA', 'JAKARTA UTARAKELAPA GADINGKELAPA GADING TIMUR', 'JAKARTA UTARAKOJAKOJA', 'JAKARTA UTARAPADEMANGANANCOL', 'JAKARTA UTARATANJUNG PRIOKSUNGAI BAMBU']\n",
            "['JAKARTA BARATCENGKARENGCENGKARENG BARAT', 'JAKARTA BARATCENGKARENGDURI KOSAMBI', 'JAKARTA BARATCENGKARENGRAWA BUAYA', 'JAKARTA BARATKALI DERESKALIDERES', 'JAKARTA BARATKALI DERESKAMAL', 'JAKARTA BARATKALI DERESPEGADUNGAN', 'JAKARTA BARATKALI DERESSEMANAN', 'JAKARTA BARATKEBON JERUKDURI KEPA', 'JAKARTA BARATKEBON JERUKKEBON JERUK', 'JAKARTA BARATKEMBANGANKEMBANGAN UTARA', 'JAKARTA BARATPAL MERAHPALMERAH', 'JAKARTA SELATANJAGAKARSAJAGAKARSA', 'JAKARTA SELATANJAGAKARSALENTENG AGUNG', 'JAKARTA SELATANJAGAKARSASRENGSENG SAWAH', 'JAKARTA SELATANKEBAYORAN LAMAPONDOK PINANG', 'JAKARTA SELATANPASAR MINGGUPEJATEN TIMUR', 'JAKARTA SELATANPESANGGRAHANBINTARO', 'JAKARTA SELATANPESANGGRAHANPETUKANGAN UTARA', 'JAKARTA TIMURCAKUNGCAKUNG BARAT', 'JAKARTA TIMURCAKUNGCAKUNG TIMUR', 'JAKARTA TIMURCIPAYUNGLUBANG BUAYA', 'JAKARTA TIMURCIRACASCIBUBUR', 'JAKARTA TIMURCIRACASCIRACAS', 'JAKARTA TIMURDUREN SAWITDUREN SAWIT', 'JAKARTA TIMURDUREN SAWITKLENDER', 'JAKARTA TIMURDUREN SAWITPONDOK BAMBU', 'JAKARTA TIMURDUREN SAWITPONDOK KELAPA', 'JAKARTA TIMURJATINEGARACIPINANG MUARA', 'JAKARTA UTARACILINCINGKALIBARU', 'JAKARTA UTARACILINCINGSEMPER BARAT', 'JAKARTA UTARACILINCINGSUKAPURA', 'JAKARTA UTARAKOJALAGOA', 'JAKARTA UTARAKOJATUGU UTARA', 'JAKARTA UTARAPADEMANGANPADEMANGAN BARAT', 'JAKARTA UTARAPENJARINGANPEJAGALAN', 'JAKARTA UTARATANJUNG PRIOKKEBON BAWANG', 'JAKARTA UTARATANJUNG PRIOKSUNTER AGUNG', 'JAKARTA UTARATANJUNG PRIOKSUNTER JAYA']\n",
            "['JAKARTA BARATCENGKARENGKEDAUNG KALI ANGKE', 'JAKARTA BARATGROGOL PETAMBURANJELAMBAR BARU', 'JAKARTA BARATGROGOL PETAMBURANWIJAYA KUSUMA', 'JAKARTA BARATKEBON JERUKKEDOYA UTARA', 'JAKARTA BARATKEBON JERUKSUKABUMI SELATAN', 'JAKARTA BARATKEBON JERUKSUKABUMI UTARA', 'JAKARTA BARATKEMBANGANJOGLO', 'JAKARTA BARATKEMBANGANMERUYA SELATAN', 'JAKARTA BARATKEMBANGANMERUYA UTARA', 'JAKARTA BARATKEMBANGANSRENGSENG', 'JAKARTA PUSATCEMPAKA PUTIHCEMPAKA PUTIH BARAT', 'JAKARTA PUSATJOHAR BARUJOHAR BARU', 'JAKARTA PUSATJOHAR BARUTANAH TINGGI', 'JAKARTA PUSATKEMAYORANCEMPAKA BARU', 'JAKARTA PUSATTANAH ABANGKEBON MELATI', 'JAKARTA PUSATTANAH ABANGPETAMBURAN', 'JAKARTA SELATANCILANDAKCILANDAK BARAT', 'JAKARTA SELATANCILANDAKLEBAK BULUS', 'JAKARTA SELATANCILANDAKPONDOK LABU', 'JAKARTA SELATANJAGAKARSACIGANJUR', 'JAKARTA SELATANJAGAKARSACIPEDAK', 'JAKARTA SELATANJAGAKARSATANJUNG BARAT', 'JAKARTA SELATANKEBAYORAN BARUCIPETE UTARA', 'JAKARTA SELATANKEBAYORAN BARUGANDARIA UTARA', 'JAKARTA SELATANKEBAYORAN LAMACIPULIR', 'JAKARTA SELATANKEBAYORAN LAMAGROGOL SELATAN', 'JAKARTA SELATANKEBAYORAN LAMAGROGOL UTARA', 'JAKARTA SELATANKEBAYORAN LAMAKEBAYORAN LAMA SELATAN', 'JAKARTA SELATANKEBAYORAN LAMAKEBAYORAN LAMA UTARA', 'JAKARTA SELATANMAMPANG PRAPATANPELA MAMPANG', 'JAKARTA SELATANMAMPANG PRAPATANTEGAL PARANG', 'JAKARTA SELATANPANCORANKALIBATA', 'JAKARTA SELATANPASAR MINGGUJATI PADANG', 'JAKARTA SELATANPASAR MINGGUKEBAGUSAN', 'JAKARTA SELATANPASAR MINGGUPEJATEN BARAT', 'JAKARTA SELATANPASAR MINGGURAGUNAN', 'JAKARTA SELATANPESANGGRAHANPETUKANGAN SELATAN', 'JAKARTA SELATANPESANGGRAHANULUJAMI', 'JAKARTA SELATANTEBETBUKIT DURI', 'JAKARTA SELATANTEBETKEBON BARU', 'JAKARTA SELATANTEBETMENTENG DALAM', 'JAKARTA TIMURCIRACASKELAPA DUA WETAN', 'JAKARTA TIMURCIRACASRAMBUTAN', 'JAKARTA TIMURCIRACASSUSUKAN', 'JAKARTA TIMURDUREN SAWITPONDOK KOPI', 'JAKARTA TIMURJATINEGARABIDARA CINA', 'JAKARTA TIMURJATINEGARACIPINANG BESAR SELATAN', 'JAKARTA TIMURJATINEGARACIPINANG BESAR UTARA', 'JAKARTA TIMURKRAMATJATIBATU AMPAR', 'JAKARTA TIMURKRAMATJATICAWANG', 'JAKARTA TIMURKRAMATJATICILILITAN', 'JAKARTA TIMURKRAMATJATIKRAMATJATI', 'JAKARTA TIMURKRAMATJATITENGAH', 'JAKARTA TIMURMAKASARCIPINANG MELAYU', 'JAKARTA TIMURMAKASARKEBON PALA', 'JAKARTA TIMURMAKASARMAKASAR', 'JAKARTA TIMURMATRAMANUTAN KAYU SELATAN', 'JAKARTA TIMURPASAR REBOCIJANTUNG', 'JAKARTA TIMURPASAR REBOGEDONG', 'JAKARTA TIMURPASAR REBOKALISARI', 'JAKARTA TIMURPASAR REBOPEKAYON', 'JAKARTA TIMURPULO GADUNGCIPINANG', 'JAKARTA TIMURPULO GADUNGKAYU PUTIH', 'JAKARTA TIMURPULO GADUNGPISANGAN TIMUR', 'JAKARTA TIMURPULO GADUNGPULO GADUNG', 'JAKARTA TIMURPULO GADUNGRAWAMANGUN', 'JAKARTA UTARACILINCINGCILINCING', 'JAKARTA UTARACILINCINGROROTAN', 'JAKARTA UTARACILINCINGSEMPER TIMUR', 'JAKARTA UTARAKELAPA GADINGKELAPA GADING BARAT', 'JAKARTA UTARAKELAPA GADINGPEGANGSAAN DUA', 'JAKARTA UTARAKOJARAWA BADAK SELATAN', 'JAKARTA UTARAKOJARAWA BADAK UTARA', 'JAKARTA UTARAKOJATUGU SELATAN', 'JAKARTA UTARAPADEMANGANPADEMANGAN TIMUR', 'JAKARTA UTARAPENJARINGANKAPUK MUARA', 'JAKARTA UTARAPENJARINGANPLUIT', 'JAKARTA UTARATANJUNG PRIOKPAPANGGO', 'JAKARTA UTARATANJUNG PRIOKTANJUNG PRIOK', 'JAKARTA UTARATANJUNG PRIOKWARAKAS']\n",
            "['JAKARTA BARATCENGKARENGCENGKARENG TIMUR', 'JAKARTA BARATCENGKARENGKAPUK', 'JAKARTA BARATKALI DERESTEGAL ALUR', 'JAKARTA TIMURCAKUNGJATINEGARA', 'JAKARTA TIMURCAKUNGPENGGILINGAN', 'JAKARTA TIMURCAKUNGPULO GEBANG', 'JAKARTA UTARAPENJARINGANPENJARINGAN']\n",
            "['ADM. KEPULAUAN SERIBUKEPULAUAN SERIBU SELATANPULAU PARI', 'ADM. KEPULAUAN SERIBUKEPULAUAN SERIBU SELATANPULAU TIDUNG', 'ADM. KEPULAUAN SERIBUKEPULAUAN SERIBU SELATANPULAU UNTUNG JAWA', 'ADM. KEPULAUAN SERIBUKEPULAUAN SERIBU UTARAPULAU HARAPAN', 'ADM. KEPULAUAN SERIBUKEPULAUAN SERIBU UTARAPULAU KELAPA', 'ADM. KEPULAUAN SERIBUKEPULAUAN SERIBU UTARAPULAU PANGGANG', 'JAKARTA BARATGROGOL PETAMBURANGROGOL', 'JAKARTA BARATGROGOL PETAMBURANTANJUNG DUREN UTARA', 'JAKARTA BARATPAL MERAHSLIPI', 'JAKARTA BARATTAMAN SARIGLODOK', 'JAKARTA BARATTAMAN SARIMANGGA BESAR', 'JAKARTA BARATTAMAN SARIMAPHAR', 'JAKARTA BARATTAMAN SARIPINANGSIA', 'JAKARTA BARATTAMAN SARITAMAN SARI', 'JAKARTA BARATTAMAN SARITANGKI', 'JAKARTA BARATTAMBORADURI SELATAN', 'JAKARTA BARATTAMBORAROA MALAKA', 'JAKARTA BARATTAMBORATAMBORA', 'JAKARTA PUSATGAMBIRCIDENG', 'JAKARTA PUSATGAMBIRGAMBIR', 'JAKARTA PUSATGAMBIRKEBON KELAPA', 'JAKARTA PUSATGAMBIRPETOJO SELATAN', 'JAKARTA PUSATMENTENGCIKINI', 'JAKARTA PUSATMENTENGGONDANGDIA', 'JAKARTA PUSATMENTENGKEBON SIRIH', 'JAKARTA PUSATS E N E NKENARI', 'JAKARTA PUSATS E N E NKWITANG', 'JAKARTA PUSATS E N E NSENEN', 'JAKARTA PUSATSAWAH BESARGUNUNG SAHARI UTARA', 'JAKARTA PUSATSAWAH BESARPASAR BARU', 'JAKARTA PUSATTANAH ABANGGELORA', 'JAKARTA PUSATTANAH ABANGKAMPUNG BALI', 'JAKARTA SELATANKEBAYORAN BARUGUNUNG', 'JAKARTA SELATANKEBAYORAN BARUKRAMAT PELA', 'JAKARTA SELATANKEBAYORAN BARUMELAWAI', 'JAKARTA SELATANKEBAYORAN BARUPETOGOGAN', 'JAKARTA SELATANKEBAYORAN BARUPULO', 'JAKARTA SELATANKEBAYORAN BARURAWA BARAT', 'JAKARTA SELATANKEBAYORAN BARUSELONG', 'JAKARTA SELATANKEBAYORAN BARUSENAYAN', 'JAKARTA SELATANMAMPANG PRAPATANKUNINGAN BARAT', 'JAKARTA SELATANPANCORANCIKOKO', 'JAKARTA SELATANSETIA BUDIGUNTUR', 'JAKARTA SELATANSETIA BUDIKARET', 'JAKARTA SELATANSETIA BUDIKARET KUNINGAN', 'JAKARTA SELATANSETIA BUDIKARET SEMANGGI', 'JAKARTA SELATANSETIA BUDIKUNINGAN TIMUR', 'JAKARTA SELATANSETIA BUDISETIA BUDI', 'JAKARTA TIMURJATINEGARABALI MESTER', 'JAKARTA TIMURMATRAMANKEBON MANGGIS', 'JAKARTA UTARAPENJARINGANKAMAL MUARA']\n"
          ]
        }
      ]
    }
  ]
}