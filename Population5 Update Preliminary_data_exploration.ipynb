{
  "nbformat": 4,
  "nbformat_minor": 0,
  "metadata": {
    "colab": {
      "name": "project2.ipynb",
      "provenance": [],
      "authorship_tag": "ABX9TyN3higQm8Mzm+POHJCCvnhJ",
      "include_colab_link": true
    },
    "kernelspec": {
      "name": "python3",
      "display_name": "Python 3"
    },
    "language_info": {
      "name": "python"
    }
  },
  "cells": [
    {
      "cell_type": "markdown",
      "metadata": {
        "id": "view-in-github",
        "colab_type": "text"
      },
      "source": [
        "<a href=\"https://colab.research.google.com/github/tsancode/Population5/blob/miftarj-model/Population5%20Update%20Preliminary_data_exploration.ipynb\" target=\"_parent\"><img src=\"https://colab.research.google.com/assets/colab-badge.svg\" alt=\"Open In Colab\"/></a>"
      ]
    },
    {
      "cell_type": "markdown",
      "source": [
        "import package yg diperlukan"
      ],
      "metadata": {
        "id": "a-CTL5XUpsyO"
      }
    },
    {
      "cell_type": "code",
      "execution_count": null,
      "metadata": {
        "id": "Q93e0Wwgnxg8"
      },
      "outputs": [],
      "source": [
        "import pandas as pd\n",
        "import numpy as np\n",
        "import seaborn as sns\n",
        "\n",
        "import matplotlib as mpl\n",
        "import matplotlib.pyplot as plt\n",
        "\n",
        "import requests\n",
        "from io import StringIO\n",
        "\n",
        "from tensorflow import keras\n",
        "from tensorflow import nn\n",
        "\n",
        "from keras.models import Sequential\n",
        "from keras.layers import Dense, LSTM, Dropout\n",
        "from keras.callbacks import EarlyStopping\n",
        "from keras import optimizers\n",
        "\n",
        "from sklearn.preprocessing import StandardScaler\n",
        "from sklearn.metrics import mean_squared_error\n"
      ]
    },
    {
      "cell_type": "markdown",
      "source": [
        "Import data"
      ],
      "metadata": {
        "id": "0O_r50g2px3i"
      }
    },
    {
      "cell_type": "code",
      "source": [
        "orig_url2='https://drive.google.com/file/d/1BBmMNqARjiuM71WtrldCJ8WZesmfs14v/view?usp=sharing'\n",
        "\n",
        "file_id2 = orig_url2.split('/')[-2]\n",
        "dwn_url2='https://drive.google.com/uc?export=download&id=' + file_id2\n",
        "url2 = requests.get(dwn_url2).text\n",
        "csv_raw2 = StringIO(url2)\n",
        "df2 = pd.read_csv(csv_raw2)"
      ],
      "metadata": {
        "id": "VxFJXmimprxa"
      },
      "execution_count": null,
      "outputs": []
    },
    {
      "cell_type": "markdown",
      "source": [
        "Exploratory"
      ],
      "metadata": {
        "id": "dOtCcOQLq1JY"
      }
    },
    {
      "cell_type": "code",
      "source": [
        "df2.head()"
      ],
      "metadata": {
        "colab": {
          "base_uri": "https://localhost:8080/",
          "height": 206
        },
        "id": "UpRu20a6q3AI",
        "outputId": "56ddf953-3b55-4bb6-c6a1-d7857d12440a"
      },
      "execution_count": null,
      "outputs": [
        {
          "output_type": "execute_result",
          "data": {
            "text/plain": [
              "   tahun  wil_id                                            wilayah  usia_prod\n",
              "0   2013       1  ADM. KEPULAUAN SERIBUKEPULAUAN SERIBU SELATANP...       1846\n",
              "1   2013       2  ADM. KEPULAUAN SERIBUKEPULAUAN SERIBU SELATANP...       1520\n",
              "2   2013       3  ADM. KEPULAUAN SERIBUKEPULAUAN SERIBU SELATANP...       3336\n",
              "3   2013       4  ADM. KEPULAUAN SERIBUKEPULAUAN SERIBU UTARAPUL...       4396\n",
              "4   2013       5  ADM. KEPULAUAN SERIBUKEPULAUAN SERIBU UTARAPUL...       1446"
            ],
            "text/html": [
              "\n",
              "  <div id=\"df-e8681e6b-19ea-40bc-a0d4-ab80b2b74181\">\n",
              "    <div class=\"colab-df-container\">\n",
              "      <div>\n",
              "<style scoped>\n",
              "    .dataframe tbody tr th:only-of-type {\n",
              "        vertical-align: middle;\n",
              "    }\n",
              "\n",
              "    .dataframe tbody tr th {\n",
              "        vertical-align: top;\n",
              "    }\n",
              "\n",
              "    .dataframe thead th {\n",
              "        text-align: right;\n",
              "    }\n",
              "</style>\n",
              "<table border=\"1\" class=\"dataframe\">\n",
              "  <thead>\n",
              "    <tr style=\"text-align: right;\">\n",
              "      <th></th>\n",
              "      <th>tahun</th>\n",
              "      <th>wil_id</th>\n",
              "      <th>wilayah</th>\n",
              "      <th>usia_prod</th>\n",
              "    </tr>\n",
              "  </thead>\n",
              "  <tbody>\n",
              "    <tr>\n",
              "      <th>0</th>\n",
              "      <td>2013</td>\n",
              "      <td>1</td>\n",
              "      <td>ADM. KEPULAUAN SERIBUKEPULAUAN SERIBU SELATANP...</td>\n",
              "      <td>1846</td>\n",
              "    </tr>\n",
              "    <tr>\n",
              "      <th>1</th>\n",
              "      <td>2013</td>\n",
              "      <td>2</td>\n",
              "      <td>ADM. KEPULAUAN SERIBUKEPULAUAN SERIBU SELATANP...</td>\n",
              "      <td>1520</td>\n",
              "    </tr>\n",
              "    <tr>\n",
              "      <th>2</th>\n",
              "      <td>2013</td>\n",
              "      <td>3</td>\n",
              "      <td>ADM. KEPULAUAN SERIBUKEPULAUAN SERIBU SELATANP...</td>\n",
              "      <td>3336</td>\n",
              "    </tr>\n",
              "    <tr>\n",
              "      <th>3</th>\n",
              "      <td>2013</td>\n",
              "      <td>4</td>\n",
              "      <td>ADM. KEPULAUAN SERIBUKEPULAUAN SERIBU UTARAPUL...</td>\n",
              "      <td>4396</td>\n",
              "    </tr>\n",
              "    <tr>\n",
              "      <th>4</th>\n",
              "      <td>2013</td>\n",
              "      <td>5</td>\n",
              "      <td>ADM. KEPULAUAN SERIBUKEPULAUAN SERIBU UTARAPUL...</td>\n",
              "      <td>1446</td>\n",
              "    </tr>\n",
              "  </tbody>\n",
              "</table>\n",
              "</div>\n",
              "      <button class=\"colab-df-convert\" onclick=\"convertToInteractive('df-e8681e6b-19ea-40bc-a0d4-ab80b2b74181')\"\n",
              "              title=\"Convert this dataframe to an interactive table.\"\n",
              "              style=\"display:none;\">\n",
              "        \n",
              "  <svg xmlns=\"http://www.w3.org/2000/svg\" height=\"24px\"viewBox=\"0 0 24 24\"\n",
              "       width=\"24px\">\n",
              "    <path d=\"M0 0h24v24H0V0z\" fill=\"none\"/>\n",
              "    <path d=\"M18.56 5.44l.94 2.06.94-2.06 2.06-.94-2.06-.94-.94-2.06-.94 2.06-2.06.94zm-11 1L8.5 8.5l.94-2.06 2.06-.94-2.06-.94L8.5 2.5l-.94 2.06-2.06.94zm10 10l.94 2.06.94-2.06 2.06-.94-2.06-.94-.94-2.06-.94 2.06-2.06.94z\"/><path d=\"M17.41 7.96l-1.37-1.37c-.4-.4-.92-.59-1.43-.59-.52 0-1.04.2-1.43.59L10.3 9.45l-7.72 7.72c-.78.78-.78 2.05 0 2.83L4 21.41c.39.39.9.59 1.41.59.51 0 1.02-.2 1.41-.59l7.78-7.78 2.81-2.81c.8-.78.8-2.07 0-2.86zM5.41 20L4 18.59l7.72-7.72 1.47 1.35L5.41 20z\"/>\n",
              "  </svg>\n",
              "      </button>\n",
              "      \n",
              "  <style>\n",
              "    .colab-df-container {\n",
              "      display:flex;\n",
              "      flex-wrap:wrap;\n",
              "      gap: 12px;\n",
              "    }\n",
              "\n",
              "    .colab-df-convert {\n",
              "      background-color: #E8F0FE;\n",
              "      border: none;\n",
              "      border-radius: 50%;\n",
              "      cursor: pointer;\n",
              "      display: none;\n",
              "      fill: #1967D2;\n",
              "      height: 32px;\n",
              "      padding: 0 0 0 0;\n",
              "      width: 32px;\n",
              "    }\n",
              "\n",
              "    .colab-df-convert:hover {\n",
              "      background-color: #E2EBFA;\n",
              "      box-shadow: 0px 1px 2px rgba(60, 64, 67, 0.3), 0px 1px 3px 1px rgba(60, 64, 67, 0.15);\n",
              "      fill: #174EA6;\n",
              "    }\n",
              "\n",
              "    [theme=dark] .colab-df-convert {\n",
              "      background-color: #3B4455;\n",
              "      fill: #D2E3FC;\n",
              "    }\n",
              "\n",
              "    [theme=dark] .colab-df-convert:hover {\n",
              "      background-color: #434B5C;\n",
              "      box-shadow: 0px 1px 3px 1px rgba(0, 0, 0, 0.15);\n",
              "      filter: drop-shadow(0px 1px 2px rgba(0, 0, 0, 0.3));\n",
              "      fill: #FFFFFF;\n",
              "    }\n",
              "  </style>\n",
              "\n",
              "      <script>\n",
              "        const buttonEl =\n",
              "          document.querySelector('#df-e8681e6b-19ea-40bc-a0d4-ab80b2b74181 button.colab-df-convert');\n",
              "        buttonEl.style.display =\n",
              "          google.colab.kernel.accessAllowed ? 'block' : 'none';\n",
              "\n",
              "        async function convertToInteractive(key) {\n",
              "          const element = document.querySelector('#df-e8681e6b-19ea-40bc-a0d4-ab80b2b74181');\n",
              "          const dataTable =\n",
              "            await google.colab.kernel.invokeFunction('convertToInteractive',\n",
              "                                                     [key], {});\n",
              "          if (!dataTable) return;\n",
              "\n",
              "          const docLinkHtml = 'Like what you see? Visit the ' +\n",
              "            '<a target=\"_blank\" href=https://colab.research.google.com/notebooks/data_table.ipynb>data table notebook</a>'\n",
              "            + ' to learn more about interactive tables.';\n",
              "          element.innerHTML = '';\n",
              "          dataTable['output_type'] = 'display_data';\n",
              "          await google.colab.output.renderOutput(dataTable, element);\n",
              "          const docLink = document.createElement('div');\n",
              "          docLink.innerHTML = docLinkHtml;\n",
              "          element.appendChild(docLink);\n",
              "        }\n",
              "      </script>\n",
              "    </div>\n",
              "  </div>\n",
              "  "
            ]
          },
          "metadata": {},
          "execution_count": 3
        }
      ]
    },
    {
      "cell_type": "code",
      "source": [
        "df2.shape"
      ],
      "metadata": {
        "colab": {
          "base_uri": "https://localhost:8080/"
        },
        "id": "4JRqQIFHWM8e",
        "outputId": "f46728e7-37b4-4689-d6d1-3562d0cbd5c5"
      },
      "execution_count": null,
      "outputs": [
        {
          "output_type": "execute_result",
          "data": {
            "text/plain": [
              "(2403, 4)"
            ]
          },
          "metadata": {},
          "execution_count": 126
        }
      ]
    },
    {
      "cell_type": "code",
      "source": [
        "df2['tahun'] = pd.to_datetime(df2['tahun'], format='%Y') "
      ],
      "metadata": {
        "id": "o-fvLgsPqxZr"
      },
      "execution_count": null,
      "outputs": []
    },
    {
      "cell_type": "code",
      "source": [
        "\n",
        "sns.lineplot(data = df2, x = 'tahun', y = 'usia_prod', hue = 'wil_id')\n",
        "plt.legend(loc='upper right')\n",
        "plt.show()\n"
      ],
      "metadata": {
        "colab": {
          "base_uri": "https://localhost:8080/",
          "height": 279
        },
        "id": "9yVFDir6q5mV",
        "outputId": "0ab59585-a839-40d6-877e-4f87d5283e56"
      },
      "execution_count": null,
      "outputs": [
        {
          "output_type": "display_data",
          "data": {
            "text/plain": [
              "<Figure size 432x288 with 1 Axes>"
            ],
            "image/png": "[encoded data removed]"
          },
          "metadata": {
            "needs_background": "light"
          }
        }
      ]
    },
    {
      "cell_type": "markdown",
      "source": [
        "Model"
      ],
      "metadata": {
        "id": "L0Rp4ovnsPcv"
      }
    },
    {
      "cell_type": "code",
      "source": [
        "window = 267"
      ],
      "metadata": {
        "id": "1mMLBfaqovFF"
      },
      "execution_count": null,
      "outputs": []
    },
    {
      "cell_type": "code",
      "source": [
        "# This value is the window size we are using\n",
        "index = window\n",
        "\n",
        "feature, target = [], []\n",
        "\n",
        "while(index < df2.shape[0]):\n",
        "    feature.append(df2.iloc[index - window: index]['usia_prod'].to_numpy())\n",
        "    target.append(df2.iloc[index][['usia_prod', 'tahun']].to_numpy())\n",
        "    index = index + 1\n",
        "feature = np.array(feature)\n",
        "target = np.array(target)   "
      ],
      "metadata": {
        "id": "ABgH2Qz6osJf"
      },
      "execution_count": null,
      "outputs": []
    },
    {
      "cell_type": "code",
      "source": [
        "size_test = int(df2['tahun'].value_counts().index.shape[0] * 0.8)\n",
        "separation_date = df2['tahun'].value_counts().index.sort_values()[size_test]"
      ],
      "metadata": {
        "id": "6ApVC69asyxh"
      },
      "execution_count": null,
      "outputs": []
    },
    {
      "cell_type": "code",
      "source": [
        "x_train, y_train, x_test, y_test = [], [], [], []\n",
        "for i,t in enumerate(target):\n",
        "    if t[1] < separation_date:\n",
        "        x_train.append(feature[i])\n",
        "        y_train.append(target[i][0])\n",
        "    else:\n",
        "        x_test.append(feature[i])\n",
        "        y_test.append(target[i][0])"
      ],
      "metadata": {
        "id": "Y5B5nLxoondP"
      },
      "execution_count": null,
      "outputs": []
    },
    {
      "cell_type": "code",
      "source": [
        "x_train, x_test = np.array(x_train), np.array(x_test)\n",
        "y_train, y_test = np.array(y_train).reshape(-1, 1), np.array(y_test).reshape(-1, 1)"
      ],
      "metadata": {
        "id": "A6UYgD6Kp_Xa"
      },
      "execution_count": null,
      "outputs": []
    },
    {
      "cell_type": "code",
      "source": [
        "scaler_feature = StandardScaler()\n",
        "scaler_feature.fit(x_train)\n",
        "x_train = scaler_feature.transform(x_train)\n",
        "x_test = scaler_feature.transform(x_test)\n",
        "\n",
        "# Reshaping features for the LSTM\n",
        "x_train, x_test = x_train.reshape(-1,window,1), x_test.reshape(-1,window,1)\n",
        "\n",
        "scaler_target = StandardScaler()\n",
        "scaler_target.fit(y_train)\n",
        "y_train = scaler_target.transform(y_train)\n",
        "y_test = scaler_target.transform(y_test)"
      ],
      "metadata": {
        "id": "dTUS7zM8qBdn"
      },
      "execution_count": null,
      "outputs": []
    },
    {
      "cell_type": "code",
      "source": [
        "model = keras.Sequential()\n",
        "model.add(keras.layers.LSTM(units = 128, return_sequences = True, input_shape=(x_train.shape[1], x_train.shape[2])))\n",
        "model.add(keras.layers.Dropout(0.2))\n",
        "\n",
        "model.add(keras.layers.LSTM(units = 128))\n",
        "model.add(keras.layers.Dropout(0.25))\n",
        "model.add(keras.layers.Dense(1))\n",
        "\n",
        "model.compile(loss='mean_squared_error', optimizer='adam')\n",
        "model.summary()"
      ],
      "metadata": {
        "colab": {
          "base_uri": "https://localhost:8080/"
        },
        "id": "-zNQXoehzmsz",
        "outputId": "a0d28a94-b064-4647-fc5a-4e6760f90af9"
      },
      "execution_count": null,
      "outputs": [
        {
          "output_type": "stream",
          "name": "stdout",
          "text": [
            "Model: \"sequential\"\n",
            "_________________________________________________________________\n",
            " Layer (type)                Output Shape              Param #   \n",
            "=================================================================\n",
            " lstm (LSTM)                 (None, 267, 128)          66560     \n",
            "                                                                 \n",
            " dropout (Dropout)           (None, 267, 128)          0         \n",
            "                                                                 \n",
            " lstm_1 (LSTM)               (None, 128)               131584    \n",
            "                                                                 \n",
            " dropout_1 (Dropout)         (None, 128)               0         \n",
            "                                                                 \n",
            " dense (Dense)               (None, 1)                 129       \n",
            "                                                                 \n",
            "=================================================================\n",
            "Total params: 198,273\n",
            "Trainable params: 198,273\n",
            "Non-trainable params: 0\n",
            "_________________________________________________________________\n"
          ]
        }
      ]
    },
    {
      "cell_type": "code",
      "source": [
        "result = model.fit(x_train,y_train,validation_data=(x_test,y_test),epochs=10)"
      ],
      "metadata": {
        "colab": {
          "base_uri": "https://localhost:8080/"
        },
        "id": "ubZdzxASzqtq",
        "outputId": "4a8a4bac-ad43-4e0b-9ad4-2aa7dd69d134"
      },
      "execution_count": null,
      "outputs": [
        {
          "output_type": "stream",
          "name": "stdout",
          "text": [
            "Epoch 1/10\n",
            "51/51 [==============================] - 44s 792ms/step - loss: 0.8807 - val_loss: 0.9435\n",
            "Epoch 2/10\n",
            "51/51 [==============================] - 31s 619ms/step - loss: 0.7601 - val_loss: 0.8397\n",
            "Epoch 3/10\n",
            "51/51 [==============================] - 27s 533ms/step - loss: 0.7100 - val_loss: 0.8416\n",
            "Epoch 4/10\n",
            "51/51 [==============================] - 32s 635ms/step - loss: 0.7132 - val_loss: 0.8446\n",
            "Epoch 5/10\n",
            "51/51 [==============================] - 27s 537ms/step - loss: 0.6825 - val_loss: 0.7837\n",
            "Epoch 6/10\n",
            "51/51 [==============================] - 27s 535ms/step - loss: 0.6692 - val_loss: 0.7315\n",
            "Epoch 7/10\n",
            "51/51 [==============================] - 28s 544ms/step - loss: 0.6695 - val_loss: 0.7414\n",
            "Epoch 8/10\n",
            "51/51 [==============================] - 27s 536ms/step - loss: 0.6898 - val_loss: 0.7579\n",
            "Epoch 9/10\n",
            "51/51 [==============================] - 27s 531ms/step - loss: 0.6519 - val_loss: 0.7309\n",
            "Epoch 10/10\n",
            "51/51 [==============================] - 27s 531ms/step - loss: 0.6381 - val_loss: 0.7194\n"
          ]
        }
      ]
    },
    {
      "cell_type": "code",
      "source": [
        "# Function to print the results of the fit process\n",
        "def print_loss(result):\n",
        "    plt.plot(result.history['loss'])\n",
        "    plt.plot(result.history['val_loss'])\n",
        "    plt.legend(['Train', 'Test'])\n",
        "    plt.xlabel('Epochs')\n",
        "    plt.ylabel('Cost')\n",
        "    plt.show()\n",
        "\n",
        "print_loss(result)"
      ],
      "metadata": {
        "colab": {
          "base_uri": "https://localhost:8080/",
          "height": 279
        },
        "id": "4XLlWGau1n-L",
        "outputId": "5a870f55-f712-4548-ba90-c7a67b971e0c"
      },
      "execution_count": null,
      "outputs": [
        {
          "output_type": "display_data",
          "data": {
            "text/plain": [
              "<Figure size 432x288 with 1 Axes>"
            ],
            "image/png": "[encoded data removed]"
          },
          "metadata": {
            "needs_background": "light"
          }
        }
      ]
    },
    {
      "cell_type": "code",
      "source": [
        "y_predict = model.predict(x_test)\n",
        "\n",
        "ax = sns.scatterplot(x=y_predict[:,0], y=y_test[:,0])\n",
        "ax.set_ylabel('jml penduduk test')\n",
        "ax.set_xlabel('jml penduduk predicted')\n",
        "plt.show()"
      ],
      "metadata": {
        "colab": {
          "base_uri": "https://localhost:8080/",
          "height": 279
        },
        "id": "H9U2YW3Q1r6k",
        "outputId": "13dde8a1-0d6f-47f3-f8fb-056d2e11e4c2"
      },
      "execution_count": null,
      "outputs": [
        {
          "output_type": "display_data",
          "data": {
            "text/plain": [
              "<Figure size 432x288 with 1 Axes>"
            ],
            "image/png": "[encoded data removed]"
          },
          "metadata": {
            "needs_background": "light"
          }
        }
      ]
    },
    {
      "cell_type": "code",
      "source": [
        "y_predicted = scaler_target.inverse_transform(y_predict)"
      ],
      "metadata": {
        "id": "d2AeLfdy2Lys"
      },
      "execution_count": null,
      "outputs": []
    },
    {
      "cell_type": "code",
      "source": [
        "diff = y_predicted - y_test\n",
        "\n",
        "print(\"MSE:\", np.mean(diff**2))\n",
        "print(\"MAE:\", np.mean(abs(diff)))\n",
        "print(\"RMSE:\", np.sqrt(np.mean(diff**2)))"
      ],
      "metadata": {
        "colab": {
          "base_uri": "https://localhost:8080/"
        },
        "id": "InTMY_x79Nov",
        "outputId": "297d2a19-99e0-4719-c62a-095c6114b605"
      },
      "execution_count": null,
      "outputs": [
        {
          "output_type": "stream",
          "name": "stdout",
          "text": [
            "MSE: 936487658.6224545\n",
            "MAE: 28902.251206890705\n",
            "RMSE: 30602.085854112207\n"
          ]
        }
      ]
    },
    {
      "cell_type": "markdown",
      "source": [
        "Prediction 2022"
      ],
      "metadata": {
        "id": "33NX4f1ORK9f"
      }
    },
    {
      "cell_type": "code",
      "source": [
        "x_test_ = x_test.copy()\n",
        "\n",
        "y_predicted_=np.reshape(y_predicted[267:len(y_predicted),0], (1, window))\n"
      ],
      "metadata": {
        "id": "o7Kl0EYGupoN"
      },
      "execution_count": null,
      "outputs": []
    },
    {
      "cell_type": "code",
      "source": [
        "x_test_= np.vstack((x_test_,y_predicted_))"
      ],
      "metadata": {
        "id": "Vce4LQGR0Q1X"
      },
      "execution_count": null,
      "outputs": []
    },
    {
      "cell_type": "code",
      "source": [
        "scaler_feature.fit(x_test_)\n",
        "x_test_ = scaler_feature.transform(x_test_)\n",
        "\n",
        "# Reshaping features for the LSTM\n",
        "x_test_ = x_test_.reshape(-1,window,1)"
      ],
      "metadata": {
        "id": "Bz8T0Sjp5u9u"
      },
      "execution_count": null,
      "outputs": []
    },
    {
      "cell_type": "code",
      "source": [
        "predict_ = model.predict(x_test_)\n",
        "\n"
      ],
      "metadata": {
        "id": "OJdvg6Z5xOwm"
      },
      "execution_count": null,
      "outputs": []
    },
    {
      "cell_type": "code",
      "source": [
        "y_predicted_ = scaler_target.inverse_transform(predict_)"
      ],
      "metadata": {
        "id": "NrtLjm-k6fvK"
      },
      "execution_count": null,
      "outputs": []
    },
    {
      "cell_type": "code",
      "source": [
        "y_predicted_"
      ],
      "metadata": {
        "colab": {
          "base_uri": "https://localhost:8080/"
        },
        "id": "yaTr9uGP7y7E",
        "outputId": "1ae9a6dd-34ba-4750-c3d2-0f508197137b"
      },
      "execution_count": null,
      "outputs": [
        {
          "output_type": "execute_result",
          "data": {
            "text/plain": [
              "array([[32204.648 ],\n",
              "       [24172.887 ],\n",
              "       [17970.023 ],\n",
              "       [13832.655 ],\n",
              "       [15058.266 ],\n",
              "       [23319.51  ],\n",
              "       [33886.336 ],\n",
              "       [63025.85  ],\n",
              "       [76584.4   ],\n",
              "       [63348.176 ],\n",
              "       [46396.49  ],\n",
              "       [29875.184 ],\n",
              "       [23983.402 ],\n",
              "       [20056.87  ],\n",
              "       [18194.414 ],\n",
              "       [19299.258 ],\n",
              "       [20645.871 ],\n",
              "       [23078.156 ],\n",
              "       [32476.928 ],\n",
              "       [45738.68  ],\n",
              "       [63038.105 ],\n",
              "       [66639.664 ],\n",
              "       [62104.33  ],\n",
              "       [52834.07  ],\n",
              "       [45318.117 ],\n",
              "       [38326.152 ],\n",
              "       [34215.277 ],\n",
              "       [30947.541 ],\n",
              "       [30709.338 ],\n",
              "       [28755.207 ],\n",
              "       [29674.73  ],\n",
              "       [31216.422 ],\n",
              "       [32988.625 ],\n",
              "       [31629.367 ],\n",
              "       [35345.203 ],\n",
              "       [33741.035 ],\n",
              "       [33633.254 ],\n",
              "       [33727.715 ],\n",
              "       [30491.707 ],\n",
              "       [28354.97  ],\n",
              "       [24933.842 ],\n",
              "       [23065.3   ],\n",
              "       [29421.053 ],\n",
              "       [25158.213 ],\n",
              "       [19025.695 ],\n",
              "       [16766.871 ],\n",
              "       [16087.978 ],\n",
              "       [12946.016 ],\n",
              "       [13111.618 ],\n",
              "       [12130.442 ],\n",
              "       [12601.144 ],\n",
              "       [12948.767 ],\n",
              "       [18250.06  ],\n",
              "       [16906.252 ],\n",
              "       [17267.53  ],\n",
              "       [20832.795 ],\n",
              "       [20081.379 ],\n",
              "       [20327.12  ],\n",
              "       [19318.531 ],\n",
              "       [19668.715 ],\n",
              "       [13876.523 ],\n",
              "       [12781.848 ],\n",
              "       [18254.451 ],\n",
              "       [25004.613 ],\n",
              "       [24157.08  ],\n",
              "       [22211.393 ],\n",
              "       [18995.297 ],\n",
              "       [19041.363 ],\n",
              "       [13613.416 ],\n",
              "       [13236.318 ],\n",
              "       [15480.814 ],\n",
              "       [18034.25  ],\n",
              "       [19609.736 ],\n",
              "       [26737.416 ],\n",
              "       [24830.71  ],\n",
              "       [28082.434 ],\n",
              "       [28228.324 ],\n",
              "       [23591.992 ],\n",
              "       [22022.    ],\n",
              "       [23774.295 ],\n",
              "       [21991.443 ],\n",
              "       [23662.848 ],\n",
              "       [22458.85  ],\n",
              "       [23747.682 ],\n",
              "       [17882.441 ],\n",
              "       [12764.072 ],\n",
              "       [13103.128 ],\n",
              "       [18681.332 ],\n",
              "       [21293.527 ],\n",
              "       [19837.273 ],\n",
              "       [21935.99  ],\n",
              "       [21836.742 ],\n",
              "       [23525.018 ],\n",
              "       [19209.549 ],\n",
              "       [18403.758 ],\n",
              "       [15594.612 ],\n",
              "       [20776.152 ],\n",
              "       [19363.73  ],\n",
              "       [20954.176 ],\n",
              "       [16276.281 ],\n",
              "       [18538.273 ],\n",
              "       [14042.635 ],\n",
              "       [14435.3125],\n",
              "       [18076.309 ],\n",
              "       [20853.654 ],\n",
              "       [25858.074 ],\n",
              "       [28292.322 ],\n",
              "       [33776.26  ],\n",
              "       [28820.053 ],\n",
              "       [23957.408 ],\n",
              "       [26010.16  ],\n",
              "       [29942.246 ],\n",
              "       [30060.334 ],\n",
              "       [29632.7   ],\n",
              "       [35081.305 ],\n",
              "       [36065.19  ],\n",
              "       [36615.39  ],\n",
              "       [33069.664 ],\n",
              "       [29980.602 ],\n",
              "       [29476.426 ],\n",
              "       [22733.627 ],\n",
              "       [18890.955 ],\n",
              "       [13071.082 ],\n",
              "       [12457.122 ],\n",
              "       [11577.168 ],\n",
              "       [12276.462 ],\n",
              "       [13102.345 ],\n",
              "       [14893.981 ],\n",
              "       [31777.215 ],\n",
              "       [42327.883 ],\n",
              "       [42342.004 ],\n",
              "       [37063.797 ],\n",
              "       [33467.45  ],\n",
              "       [34850.746 ],\n",
              "       [28902.828 ],\n",
              "       [23493.787 ],\n",
              "       [21900.47  ],\n",
              "       [28520.238 ],\n",
              "       [30029.988 ],\n",
              "       [24229.047 ],\n",
              "       [25249.686 ],\n",
              "       [30287.861 ],\n",
              "       [26598.256 ],\n",
              "       [23965.979 ],\n",
              "       [22175.832 ],\n",
              "       [22645.22  ],\n",
              "       [26380.64  ],\n",
              "       [30404.125 ],\n",
              "       [26570.54  ],\n",
              "       [27046.508 ],\n",
              "       [32808.08  ],\n",
              "       [31618.291 ],\n",
              "       [33207.133 ],\n",
              "       [28514.46  ],\n",
              "       [27778.936 ],\n",
              "       [31357.246 ],\n",
              "       [30842.047 ],\n",
              "       [21926.816 ],\n",
              "       [16655.248 ],\n",
              "       [15314.876 ],\n",
              "       [11042.389 ],\n",
              "       [ 9921.625 ],\n",
              "       [18363.828 ],\n",
              "       [23724.467 ],\n",
              "       [17607.332 ],\n",
              "       [24253.102 ],\n",
              "       [28984.215 ],\n",
              "       [28274.287 ],\n",
              "       [25104.576 ],\n",
              "       [27375.088 ],\n",
              "       [24280.848 ],\n",
              "       [21284.354 ],\n",
              "       [32412.951 ],\n",
              "       [38650.324 ],\n",
              "       [45970.465 ],\n",
              "       [48248.84  ],\n",
              "       [43646.97  ],\n",
              "       [30949.705 ],\n",
              "       [26566.93  ],\n",
              "       [24477.625 ],\n",
              "       [21738.035 ],\n",
              "       [22295.666 ],\n",
              "       [23776.81  ],\n",
              "       [35998.918 ],\n",
              "       [33982.418 ],\n",
              "       [31994.45  ],\n",
              "       [29826.01  ],\n",
              "       [41575.555 ],\n",
              "       [47810.336 ],\n",
              "       [43632.137 ],\n",
              "       [36987.97  ],\n",
              "       [33854.25  ],\n",
              "       [36566.93  ],\n",
              "       [39590.637 ],\n",
              "       [34339.45  ],\n",
              "       [30157.934 ],\n",
              "       [34178.438 ],\n",
              "       [38591.227 ],\n",
              "       [34877.8   ],\n",
              "       [27442.953 ],\n",
              "       [27817.932 ],\n",
              "       [28609.346 ],\n",
              "       [32183.723 ],\n",
              "       [31054.03  ],\n",
              "       [35018.406 ],\n",
              "       [31001.621 ],\n",
              "       [26759.877 ],\n",
              "       [26153.646 ],\n",
              "       [31058.135 ],\n",
              "       [30507.064 ],\n",
              "       [31397.121 ],\n",
              "       [27872.148 ],\n",
              "       [30506.791 ],\n",
              "       [29946.246 ],\n",
              "       [31275.182 ],\n",
              "       [28802.488 ],\n",
              "       [31463.217 ],\n",
              "       [30196.18  ],\n",
              "       [27343.197 ],\n",
              "       [25059.908 ],\n",
              "       [21319.713 ],\n",
              "       [20096.887 ],\n",
              "       [23568.559 ],\n",
              "       [26554.24  ],\n",
              "       [26493.676 ],\n",
              "       [24809.986 ],\n",
              "       [29113.879 ],\n",
              "       [29880.188 ],\n",
              "       [31918.732 ],\n",
              "       [32750.059 ],\n",
              "       [31714.76  ],\n",
              "       [29087.512 ],\n",
              "       [25895.818 ],\n",
              "       [28104.26  ],\n",
              "       [30058.557 ],\n",
              "       [29412.182 ],\n",
              "       [29489.982 ],\n",
              "       [31180.314 ],\n",
              "       [37914.52  ],\n",
              "       [32627.217 ],\n",
              "       [31579.033 ],\n",
              "       [37084.395 ],\n",
              "       [33749.508 ],\n",
              "       [34973.605 ],\n",
              "       [31927.912 ],\n",
              "       [29354.139 ],\n",
              "       [31733.162 ],\n",
              "       [29238.346 ],\n",
              "       [34347.055 ],\n",
              "       [34078.527 ],\n",
              "       [31822.361 ],\n",
              "       [31577.266 ],\n",
              "       [37322.633 ],\n",
              "       [32052.236 ],\n",
              "       [38024.133 ],\n",
              "       [34794.81  ],\n",
              "       [27583.604 ],\n",
              "       [27887.795 ],\n",
              "       [37374.035 ],\n",
              "       [44465.27  ],\n",
              "       [38835.727 ],\n",
              "       [35446.5   ],\n",
              "       [32351.012 ],\n",
              "       [29257.645 ],\n",
              "       [34701.285 ],\n",
              "       [36531.902 ],\n",
              "       [32781.22  ],\n",
              "       [32127.771 ],\n",
              "       [24117.717 ],\n",
              "       [17952.938 ],\n",
              "       [13889.986 ],\n",
              "       [15210.816 ],\n",
              "       [23601.043 ],\n",
              "       [34188.906 ],\n",
              "       [63367.57  ],\n",
              "       [76843.44  ],\n",
              "       [63340.914 ],\n",
              "       [46213.133 ],\n",
              "       [29747.879 ],\n",
              "       [23902.898 ],\n",
              "       [19960.72  ],\n",
              "       [18034.457 ],\n",
              "       [19021.836 ],\n",
              "       [20283.672 ],\n",
              "       [22676.158 ],\n",
              "       [32076.379 ],\n",
              "       [45472.977 ],\n",
              "       [63125.793 ],\n",
              "       [67120.02  ],\n",
              "       [62549.04  ],\n",
              "       [52835.97  ],\n",
              "       [44889.16  ],\n",
              "       [37733.938 ],\n",
              "       [33689.07  ],\n",
              "       [30510.445 ],\n",
              "       [30322.139 ],\n",
              "       [28478.37  ],\n",
              "       [29557.834 ],\n",
              "       [31305.545 ],\n",
              "       [33312.875 ],\n",
              "       [32077.828 ],\n",
              "       [35994.688 ],\n",
              "       [34498.574 ],\n",
              "       [34371.504 ],\n",
              "       [34442.793 ],\n",
              "       [31034.236 ],\n",
              "       [28767.465 ],\n",
              "       [25398.182 ],\n",
              "       [23468.867 ],\n",
              "       [29745.41  ],\n",
              "       [25455.16  ],\n",
              "       [19283.604 ],\n",
              "       [16963.707 ],\n",
              "       [16221.278 ],\n",
              "       [13040.875 ],\n",
              "       [13117.752 ],\n",
              "       [12131.326 ],\n",
              "       [12582.328 ],\n",
              "       [12915.537 ],\n",
              "       [18083.828 ],\n",
              "       [16772.352 ],\n",
              "       [17143.031 ],\n",
              "       [20704.662 ],\n",
              "       [19988.607 ],\n",
              "       [20239.16  ],\n",
              "       [19252.402 ],\n",
              "       [19606.93  ],\n",
              "       [13819.794 ],\n",
              "       [12699.441 ],\n",
              "       [18158.822 ],\n",
              "       [24926.643 ],\n",
              "       [24001.783 ],\n",
              "       [22074.59  ],\n",
              "       [18759.695 ],\n",
              "       [18660.543 ],\n",
              "       [13354.178 ],\n",
              "       [13036.929 ],\n",
              "       [15252.887 ],\n",
              "       [17757.557 ],\n",
              "       [19471.494 ],\n",
              "       [26651.025 ],\n",
              "       [24812.74  ],\n",
              "       [28134.51  ],\n",
              "       [28134.133 ],\n",
              "       [23420.084 ],\n",
              "       [21891.541 ],\n",
              "       [23786.385 ],\n",
              "       [22010.24  ],\n",
              "       [23616.795 ],\n",
              "       [22367.203 ],\n",
              "       [23654.58  ],\n",
              "       [17778.688 ],\n",
              "       [12708.561 ],\n",
              "       [13111.074 ],\n",
              "       [18666.016 ],\n",
              "       [21298.113 ],\n",
              "       [19742.691 ],\n",
              "       [21741.8   ],\n",
              "       [21650.592 ],\n",
              "       [23483.65  ],\n",
              "       [19071.412 ],\n",
              "       [18323.777 ],\n",
              "       [15543.079 ],\n",
              "       [20846.46  ],\n",
              "       [19354.807 ],\n",
              "       [20902.848 ],\n",
              "       [16244.513 ],\n",
              "       [18496.17  ],\n",
              "       [14040.53  ],\n",
              "       [14205.545 ],\n",
              "       [18007.111 ],\n",
              "       [20843.385 ],\n",
              "       [25758.408 ],\n",
              "       [28313.24  ],\n",
              "       [33880.977 ],\n",
              "       [28895.344 ],\n",
              "       [24008.895 ],\n",
              "       [26210.209 ],\n",
              "       [30307.104 ],\n",
              "       [30468.902 ],\n",
              "       [30083.268 ],\n",
              "       [35562.555 ],\n",
              "       [36415.63  ],\n",
              "       [36930.043 ],\n",
              "       [33326.86  ],\n",
              "       [30186.232 ],\n",
              "       [29634.578 ],\n",
              "       [22940.205 ],\n",
              "       [19073.715 ],\n",
              "       [13185.269 ],\n",
              "       [12545.448 ],\n",
              "       [11723.227 ],\n",
              "       [12516.72  ],\n",
              "       [13444.991 ],\n",
              "       [15269.056 ],\n",
              "       [32552.336 ],\n",
              "       [43253.625 ],\n",
              "       [42962.957 ],\n",
              "       [37443.42  ],\n",
              "       [33624.402 ],\n",
              "       [34998.797 ],\n",
              "       [29085.764 ],\n",
              "       [23692.56  ],\n",
              "       [22107.928 ],\n",
              "       [28677.656 ],\n",
              "       [30220.12  ],\n",
              "       [24438.559 ],\n",
              "       [25489.758 ],\n",
              "       [30565.195 ],\n",
              "       [26877.994 ],\n",
              "       [24260.988 ],\n",
              "       [22438.72  ],\n",
              "       [22763.686 ],\n",
              "       [26456.035 ],\n",
              "       [30601.816 ],\n",
              "       [26802.43  ],\n",
              "       [27210.186 ],\n",
              "       [32943.98  ],\n",
              "       [31753.365 ],\n",
              "       [33411.137 ],\n",
              "       [28739.893 ],\n",
              "       [27983.629 ],\n",
              "       [31506.436 ],\n",
              "       [31022.342 ],\n",
              "       [22110.363 ],\n",
              "       [16781.13  ],\n",
              "       [15343.87  ],\n",
              "       [11048.695 ],\n",
              "       [ 9886.768 ],\n",
              "       [18266.445 ],\n",
              "       [23731.164 ],\n",
              "       [17628.871 ],\n",
              "       [24262.875 ],\n",
              "       [29007.7   ],\n",
              "       [28277.045 ],\n",
              "       [25141.828 ],\n",
              "       [27412.95  ],\n",
              "       [24316.041 ],\n",
              "       [21302.814 ],\n",
              "       [32505.541 ],\n",
              "       [38884.9   ],\n",
              "       [46147.99  ],\n",
              "       [48809.156 ],\n",
              "       [43784.156 ],\n",
              "       [30744.45  ],\n",
              "       [26337.033 ],\n",
              "       [24314.398 ],\n",
              "       [21579.193 ],\n",
              "       [22248.389 ],\n",
              "       [23748.654 ],\n",
              "       [36148.92  ],\n",
              "       [34248.19  ],\n",
              "       [32430.752 ],\n",
              "       [30363.709 ],\n",
              "       [42071.68  ],\n",
              "       [48308.41  ],\n",
              "       [43931.668 ],\n",
              "       [37159.094 ],\n",
              "       [33956.285 ],\n",
              "       [36575.207 ],\n",
              "       [39550.418 ],\n",
              "       [34336.2   ],\n",
              "       [30189.17  ],\n",
              "       [34239.855 ],\n",
              "       [38745.82  ],\n",
              "       [35035.47  ],\n",
              "       [27605.852 ],\n",
              "       [27899.2   ],\n",
              "       [28722.562 ],\n",
              "       [32039.902 ],\n",
              "       [30974.736 ],\n",
              "       [34999.89  ],\n",
              "       [31075.785 ],\n",
              "       [26848.996 ],\n",
              "       [26305.799 ],\n",
              "       [31292.834 ],\n",
              "       [30645.514 ],\n",
              "       [31449.549 ],\n",
              "       [27922.176 ],\n",
              "       [30590.443 ],\n",
              "       [29980.82  ],\n",
              "       [31237.754 ],\n",
              "       [28733.465 ],\n",
              "       [31404.822 ],\n",
              "       [30166.76  ],\n",
              "       [27409.9   ],\n",
              "       [25034.865 ],\n",
              "       [21255.213 ],\n",
              "       [19972.244 ],\n",
              "       [23486.238 ],\n",
              "       [26471.625 ],\n",
              "       [26362.352 ],\n",
              "       [24768.266 ],\n",
              "       [29126.46  ],\n",
              "       [29953.723 ],\n",
              "       [32080.451 ],\n",
              "       [32954.363 ],\n",
              "       [31790.33  ],\n",
              "       [29115.117 ],\n",
              "       [25937.924 ],\n",
              "       [28149.11  ],\n",
              "       [30097.596 ],\n",
              "       [29461.902 ],\n",
              "       [29525.838 ],\n",
              "       [31733.928 ],\n",
              "       [38398.87  ],\n",
              "       [33114.043 ],\n",
              "       [32122.908 ],\n",
              "       [37371.55  ],\n",
              "       [33965.832 ],\n",
              "       [34968.895 ],\n",
              "       [32019.941 ],\n",
              "       [29435.73  ],\n",
              "       [31760.588 ],\n",
              "       [29256.176 ],\n",
              "       [34437.27  ],\n",
              "       [34226.758 ],\n",
              "       [31990.682 ],\n",
              "       [31834.305 ],\n",
              "       [37549.293 ],\n",
              "       [32268.729 ],\n",
              "       [38113.105 ],\n",
              "       [34896.008 ],\n",
              "       [27813.62  ],\n",
              "       [28229.11  ],\n",
              "       [37442.445 ],\n",
              "       [44497.266 ],\n",
              "       [38855.484 ],\n",
              "       [35374.594 ],\n",
              "       [32294.336 ],\n",
              "       [29207.63  ],\n",
              "       [34620.742 ],\n",
              "       [36459.61  ],\n",
              "       [32706.908 ],\n",
              "       [31214.04  ]], dtype=float32)"
            ]
          },
          "metadata": {},
          "execution_count": 183
        }
      ]
    }
  ]
}