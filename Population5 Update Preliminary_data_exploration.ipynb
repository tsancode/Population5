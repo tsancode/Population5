{
  "nbformat": 4,
  "nbformat_minor": 0,
  "metadata": {
    "colab": {
      "name": "project2.ipynb",
      "provenance": [],
      "authorship_tag": "ABX9TyPdGrEnxrA8cE1RuHyj7f0N",
      "include_colab_link": true
    },
    "kernelspec": {
      "name": "python3",
      "display_name": "Python 3"
    },
    "language_info": {
      "name": "python"
    }
  },
  "cells": [
    {
      "cell_type": "markdown",
      "metadata": {
        "id": "view-in-github",
        "colab_type": "text"
      },
      "source": [
        "<a href=\"https://colab.research.google.com/github/tsancode/Population5/blob/miftarj-model/Population5%20Update%20Preliminary_data_exploration.ipynb\" target=\"_parent\"><img src=\"https://colab.research.google.com/assets/colab-badge.svg\" alt=\"Open In Colab\"/></a>"
      ]
    },
    {
      "cell_type": "markdown",
      "source": [
        "import package yg diperlukan"
      ],
      "metadata": {
        "id": "a-CTL5XUpsyO"
      }
    },
    {
      "cell_type": "code",
      "execution_count": null,
      "metadata": {
        "id": "Q93e0Wwgnxg8"
      },
      "outputs": [],
      "source": [
        "import pandas as pd\n",
        "import numpy as np\n",
        "import seaborn as sns\n",
        "\n",
        "import matplotlib as mpl\n",
        "import matplotlib.pyplot as plt\n",
        "\n",
        "import requests\n",
        "from io import StringIO\n",
        "\n",
        "from tensorflow import keras\n",
        "from tensorflow import nn\n",
        "\n",
        "from keras.models import Sequential\n",
        "from keras.layers import Dense, LSTM, Dropout\n",
        "from keras.callbacks import EarlyStopping\n",
        "from keras import optimizers\n",
        "\n",
        "from sklearn.preprocessing import StandardScaler\n",
        "from sklearn.metrics import mean_squared_error\n"
      ]
    },
    {
      "cell_type": "markdown",
      "source": [
        "Import data"
      ],
      "metadata": {
        "id": "0O_r50g2px3i"
      }
    },
    {
      "cell_type": "code",
      "source": [
        "orig_url2='https://drive.google.com/file/d/1BBmMNqARjiuM71WtrldCJ8WZesmfs14v/view?usp=sharing'\n",
        "\n",
        "file_id2 = orig_url2.split('/')[-2]\n",
        "dwn_url2='https://drive.google.com/uc?export=download&id=' + file_id2\n",
        "url2 = requests.get(dwn_url2).text\n",
        "csv_raw2 = StringIO(url2)\n",
        "df2 = pd.read_csv(csv_raw2)"
      ],
      "metadata": {
        "id": "VxFJXmimprxa"
      },
      "execution_count": null,
      "outputs": []
    },
    {
      "cell_type": "markdown",
      "source": [
        "Exploratory"
      ],
      "metadata": {
        "id": "dOtCcOQLq1JY"
      }
    },
    {
      "cell_type": "code",
      "source": [
        "df2.head()"
      ],
      "metadata": {
        "colab": {
          "base_uri": "https://localhost:8080/",
          "height": 206
        },
        "id": "UpRu20a6q3AI",
        "outputId": "c3d876e3-e48a-4844-ef26-52b521ab161d"
      },
      "execution_count": null,
      "outputs": [
        {
          "output_type": "execute_result",
          "data": {
            "text/plain": [
              "   tahun  wil_id                                            wilayah  usia_prod\n",
              "0   2013       1  ADM. KEPULAUAN SERIBUKEPULAUAN SERIBU SELATANP...       1846\n",
              "1   2013       2  ADM. KEPULAUAN SERIBUKEPULAUAN SERIBU SELATANP...       1520\n",
              "2   2013       3  ADM. KEPULAUAN SERIBUKEPULAUAN SERIBU SELATANP...       3336\n",
              "3   2013       4  ADM. KEPULAUAN SERIBUKEPULAUAN SERIBU UTARAPUL...       4396\n",
              "4   2013       5  ADM. KEPULAUAN SERIBUKEPULAUAN SERIBU UTARAPUL...       1446"
            ],
            "text/html": [
              "\n",
              "  <div id=\"df-e0023810-e58f-40e0-8397-75b63d9bced7\">\n",
              "    <div class=\"colab-df-container\">\n",
              "      <div>\n",
              "<style scoped>\n",
              "    .dataframe tbody tr th:only-of-type {\n",
              "        vertical-align: middle;\n",
              "    }\n",
              "\n",
              "    .dataframe tbody tr th {\n",
              "        vertical-align: top;\n",
              "    }\n",
              "\n",
              "    .dataframe thead th {\n",
              "        text-align: right;\n",
              "    }\n",
              "</style>\n",
              "<table border=\"1\" class=\"dataframe\">\n",
              "  <thead>\n",
              "    <tr style=\"text-align: right;\">\n",
              "      <th></th>\n",
              "      <th>tahun</th>\n",
              "      <th>wil_id</th>\n",
              "      <th>wilayah</th>\n",
              "      <th>usia_prod</th>\n",
              "    </tr>\n",
              "  </thead>\n",
              "  <tbody>\n",
              "    <tr>\n",
              "      <th>0</th>\n",
              "      <td>2013</td>\n",
              "      <td>1</td>\n",
              "      <td>ADM. KEPULAUAN SERIBUKEPULAUAN SERIBU SELATANP...</td>\n",
              "      <td>1846</td>\n",
              "    </tr>\n",
              "    <tr>\n",
              "      <th>1</th>\n",
              "      <td>2013</td>\n",
              "      <td>2</td>\n",
              "      <td>ADM. KEPULAUAN SERIBUKEPULAUAN SERIBU SELATANP...</td>\n",
              "      <td>1520</td>\n",
              "    </tr>\n",
              "    <tr>\n",
              "      <th>2</th>\n",
              "      <td>2013</td>\n",
              "      <td>3</td>\n",
              "      <td>ADM. KEPULAUAN SERIBUKEPULAUAN SERIBU SELATANP...</td>\n",
              "      <td>3336</td>\n",
              "    </tr>\n",
              "    <tr>\n",
              "      <th>3</th>\n",
              "      <td>2013</td>\n",
              "      <td>4</td>\n",
              "      <td>ADM. KEPULAUAN SERIBUKEPULAUAN SERIBU UTARAPUL...</td>\n",
              "      <td>4396</td>\n",
              "    </tr>\n",
              "    <tr>\n",
              "      <th>4</th>\n",
              "      <td>2013</td>\n",
              "      <td>5</td>\n",
              "      <td>ADM. KEPULAUAN SERIBUKEPULAUAN SERIBU UTARAPUL...</td>\n",
              "      <td>1446</td>\n",
              "    </tr>\n",
              "  </tbody>\n",
              "</table>\n",
              "</div>\n",
              "      <button class=\"colab-df-convert\" onclick=\"convertToInteractive('df-e0023810-e58f-40e0-8397-75b63d9bced7')\"\n",
              "              title=\"Convert this dataframe to an interactive table.\"\n",
              "              style=\"display:none;\">\n",
              "        \n",
              "  <svg xmlns=\"http://www.w3.org/2000/svg\" height=\"24px\"viewBox=\"0 0 24 24\"\n",
              "       width=\"24px\">\n",
              "    <path d=\"M0 0h24v24H0V0z\" fill=\"none\"/>\n",
              "    <path d=\"M18.56 5.44l.94 2.06.94-2.06 2.06-.94-2.06-.94-.94-2.06-.94 2.06-2.06.94zm-11 1L8.5 8.5l.94-2.06 2.06-.94-2.06-.94L8.5 2.5l-.94 2.06-2.06.94zm10 10l.94 2.06.94-2.06 2.06-.94-2.06-.94-.94-2.06-.94 2.06-2.06.94z\"/><path d=\"M17.41 7.96l-1.37-1.37c-.4-.4-.92-.59-1.43-.59-.52 0-1.04.2-1.43.59L10.3 9.45l-7.72 7.72c-.78.78-.78 2.05 0 2.83L4 21.41c.39.39.9.59 1.41.59.51 0 1.02-.2 1.41-.59l7.78-7.78 2.81-2.81c.8-.78.8-2.07 0-2.86zM5.41 20L4 18.59l7.72-7.72 1.47 1.35L5.41 20z\"/>\n",
              "  </svg>\n",
              "      </button>\n",
              "      \n",
              "  <style>\n",
              "    .colab-df-container {\n",
              "      display:flex;\n",
              "      flex-wrap:wrap;\n",
              "      gap: 12px;\n",
              "    }\n",
              "\n",
              "    .colab-df-convert {\n",
              "      background-color: #E8F0FE;\n",
              "      border: none;\n",
              "      border-radius: 50%;\n",
              "      cursor: pointer;\n",
              "      display: none;\n",
              "      fill: #1967D2;\n",
              "      height: 32px;\n",
              "      padding: 0 0 0 0;\n",
              "      width: 32px;\n",
              "    }\n",
              "\n",
              "    .colab-df-convert:hover {\n",
              "      background-color: #E2EBFA;\n",
              "      box-shadow: 0px 1px 2px rgba(60, 64, 67, 0.3), 0px 1px 3px 1px rgba(60, 64, 67, 0.15);\n",
              "      fill: #174EA6;\n",
              "    }\n",
              "\n",
              "    [theme=dark] .colab-df-convert {\n",
              "      background-color: #3B4455;\n",
              "      fill: #D2E3FC;\n",
              "    }\n",
              "\n",
              "    [theme=dark] .colab-df-convert:hover {\n",
              "      background-color: #434B5C;\n",
              "      box-shadow: 0px 1px 3px 1px rgba(0, 0, 0, 0.15);\n",
              "      filter: drop-shadow(0px 1px 2px rgba(0, 0, 0, 0.3));\n",
              "      fill: #FFFFFF;\n",
              "    }\n",
              "  </style>\n",
              "\n",
              "      <script>\n",
              "        const buttonEl =\n",
              "          document.querySelector('#df-e0023810-e58f-40e0-8397-75b63d9bced7 button.colab-df-convert');\n",
              "        buttonEl.style.display =\n",
              "          google.colab.kernel.accessAllowed ? 'block' : 'none';\n",
              "\n",
              "        async function convertToInteractive(key) {\n",
              "          const element = document.querySelector('#df-e0023810-e58f-40e0-8397-75b63d9bced7');\n",
              "          const dataTable =\n",
              "            await google.colab.kernel.invokeFunction('convertToInteractive',\n",
              "                                                     [key], {});\n",
              "          if (!dataTable) return;\n",
              "\n",
              "          const docLinkHtml = 'Like what you see? Visit the ' +\n",
              "            '<a target=\"_blank\" href=https://colab.research.google.com/notebooks/data_table.ipynb>data table notebook</a>'\n",
              "            + ' to learn more about interactive tables.';\n",
              "          element.innerHTML = '';\n",
              "          dataTable['output_type'] = 'display_data';\n",
              "          await google.colab.output.renderOutput(dataTable, element);\n",
              "          const docLink = document.createElement('div');\n",
              "          docLink.innerHTML = docLinkHtml;\n",
              "          element.appendChild(docLink);\n",
              "        }\n",
              "      </script>\n",
              "    </div>\n",
              "  </div>\n",
              "  "
            ]
          },
          "metadata": {},
          "execution_count": 3
        }
      ]
    },
    {
      "cell_type": "code",
      "source": [
        "df2.shape"
      ],
      "metadata": {
        "colab": {
          "base_uri": "https://localhost:8080/"
        },
        "id": "4JRqQIFHWM8e",
        "outputId": "f46728e7-37b4-4689-d6d1-3562d0cbd5c5"
      },
      "execution_count": null,
      "outputs": [
        {
          "output_type": "execute_result",
          "data": {
            "text/plain": [
              "(2403, 4)"
            ]
          },
          "metadata": {},
          "execution_count": 126
        }
      ]
    },
    {
      "cell_type": "code",
      "source": [
        "df2['tahun'] = pd.to_datetime(df2['tahun'], format='%Y') "
      ],
      "metadata": {
        "id": "o-fvLgsPqxZr"
      },
      "execution_count": null,
      "outputs": []
    },
    {
      "cell_type": "code",
      "source": [
        "\n",
        "sns.lineplot(data = df2, x = 'tahun', y = 'usia_prod', hue = 'wil_id')\n",
        "plt.legend(loc='upper right')\n",
        "plt.show()\n"
      ],
      "metadata": {
        "colab": {
          "base_uri": "https://localhost:8080/",
          "height": 279
        },
        "id": "9yVFDir6q5mV",
        "outputId": "0ab59585-a839-40d6-877e-4f87d5283e56"
      },
      "execution_count": null,
      "outputs": [
        {
          "output_type": "display_data",
          "data": {
            "text/plain": [
              "<Figure size 432x288 with 1 Axes>"
            ],
            "image/png": "[encoded data removed]"
          },
          "metadata": {
            "needs_background": "light"
          }
        }
      ]
    },
    {
      "cell_type": "markdown",
      "source": [
        "Model"
      ],
      "metadata": {
        "id": "L0Rp4ovnsPcv"
      }
    },
    {
      "cell_type": "code",
      "source": [
        "window = 267"
      ],
      "metadata": {
        "id": "1mMLBfaqovFF"
      },
      "execution_count": null,
      "outputs": []
    },
    {
      "cell_type": "code",
      "source": [
        "# This value is the window size we are using\n",
        "index = window\n",
        "\n",
        "feature, target = [], []\n",
        "\n",
        "while(index < df2.shape[0]):\n",
        "    feature.append(df2.iloc[index - window: index]['usia_prod'].to_numpy())\n",
        "    target.append(df2.iloc[index][['usia_prod', 'tahun']].to_numpy())\n",
        "    index = index + 1\n",
        "feature = np.array(feature)\n",
        "target = np.array(target)   "
      ],
      "metadata": {
        "id": "ABgH2Qz6osJf"
      },
      "execution_count": null,
      "outputs": []
    },
    {
      "cell_type": "code",
      "source": [
        "size_test = int(df2['tahun'].value_counts().index.shape[0] * 0.8)\n",
        "separation_date = df2['tahun'].value_counts().index.sort_values()[size_test]"
      ],
      "metadata": {
        "id": "6ApVC69asyxh"
      },
      "execution_count": null,
      "outputs": []
    },
    {
      "cell_type": "code",
      "source": [
        "x_train0, y_train0, x_test0, y_test0 = [], [], [], []\n",
        "for i,t in enumerate(target):\n",
        "    if t[1] < separation_date:\n",
        "        x_train0.append(feature[i])\n",
        "        y_train0.append(target[i][0])\n",
        "    else:\n",
        "        x_test0.append(feature[i])\n",
        "        y_test0.append(target[i][0])"
      ],
      "metadata": {
        "id": "Y5B5nLxoondP"
      },
      "execution_count": null,
      "outputs": []
    },
    {
      "cell_type": "code",
      "source": [
        "x_train0, x_test0 = np.array(x_train0), np.array(x_test0)\n",
        "y_train0, y_test0 = np.array(y_train0).reshape(-1, 1), np.array(y_test0).reshape(-1, 1)"
      ],
      "metadata": {
        "id": "A6UYgD6Kp_Xa"
      },
      "execution_count": null,
      "outputs": []
    },
    {
      "cell_type": "code",
      "source": [
        "scaler_feature = StandardScaler()\n",
        "scaler_feature.fit(x_train0)\n",
        "x_train = scaler_feature.transform(x_train0)\n",
        "x_test = scaler_feature.transform(x_test0)\n",
        "\n",
        "# Reshaping features for the LSTM\n",
        "x_train, x_test = x_train.reshape(-1,window,1), x_test.reshape(-1,window,1)\n",
        "\n",
        "scaler_target = StandardScaler()\n",
        "scaler_target.fit(y_train0)\n",
        "y_train = scaler_target.transform(y_train0)\n",
        "y_test = scaler_target.transform(y_test0)"
      ],
      "metadata": {
        "id": "dTUS7zM8qBdn"
      },
      "execution_count": null,
      "outputs": []
    },
    {
      "cell_type": "code",
      "source": [
        "model = keras.Sequential()\n",
        "model.add(keras.layers.LSTM(units = 128, return_sequences = True, input_shape=(x_train.shape[1], x_train.shape[2])))\n",
        "model.add(keras.layers.Dropout(0.2))\n",
        "\n",
        "model.add(keras.layers.LSTM(units = 128))\n",
        "model.add(keras.layers.Dropout(0.25))\n",
        "model.add(keras.layers.Dense(1))\n",
        "\n",
        "model.compile(loss='mean_squared_error', optimizer='adam')\n",
        "model.summary()"
      ],
      "metadata": {
        "colab": {
          "base_uri": "https://localhost:8080/"
        },
        "id": "-zNQXoehzmsz",
        "outputId": "8bf72c66-51ac-4b6d-c603-9832cced8704"
      },
      "execution_count": null,
      "outputs": [
        {
          "output_type": "stream",
          "name": "stdout",
          "text": [
            "Model: \"sequential\"\n",
            "_________________________________________________________________\n",
            " Layer (type)                Output Shape              Param #   \n",
            "=================================================================\n",
            " lstm (LSTM)                 (None, 267, 128)          66560     \n",
            "                                                                 \n",
            " dropout (Dropout)           (None, 267, 128)          0         \n",
            "                                                                 \n",
            " lstm_1 (LSTM)               (None, 128)               131584    \n",
            "                                                                 \n",
            " dropout_1 (Dropout)         (None, 128)               0         \n",
            "                                                                 \n",
            " dense (Dense)               (None, 1)                 129       \n",
            "                                                                 \n",
            "=================================================================\n",
            "Total params: 198,273\n",
            "Trainable params: 198,273\n",
            "Non-trainable params: 0\n",
            "_________________________________________________________________\n"
          ]
        }
      ]
    },
    {
      "cell_type": "code",
      "source": [
        "result = model.fit(x_train,y_train,validation_data=(x_test,y_test),epochs=10)"
      ],
      "metadata": {
        "colab": {
          "base_uri": "https://localhost:8080/"
        },
        "id": "ubZdzxASzqtq",
        "outputId": "b6140eff-6f81-46d6-a436-0fb23e525a07"
      },
      "execution_count": null,
      "outputs": [
        {
          "output_type": "stream",
          "name": "stdout",
          "text": [
            "Epoch 1/10\n",
            "51/51 [==============================] - 47s 842ms/step - loss: 0.8803 - val_loss: 0.9338\n",
            "Epoch 2/10\n",
            "51/51 [==============================] - 36s 693ms/step - loss: 0.7438 - val_loss: 0.8267\n",
            "Epoch 3/10\n",
            "51/51 [==============================] - 31s 604ms/step - loss: 0.7094 - val_loss: 0.8047\n",
            "Epoch 4/10\n",
            "51/51 [==============================] - 28s 544ms/step - loss: 0.7001 - val_loss: 0.7694\n",
            "Epoch 5/10\n",
            "51/51 [==============================] - 29s 567ms/step - loss: 0.6774 - val_loss: 0.7878\n",
            "Epoch 6/10\n",
            "51/51 [==============================] - 27s 536ms/step - loss: 0.7545 - val_loss: 0.7459\n",
            "Epoch 7/10\n",
            "51/51 [==============================] - 28s 549ms/step - loss: 0.6491 - val_loss: 0.7387\n",
            "Epoch 8/10\n",
            "51/51 [==============================] - 28s 557ms/step - loss: 0.6419 - val_loss: 0.7302\n",
            "Epoch 9/10\n",
            "51/51 [==============================] - 27s 539ms/step - loss: 0.6364 - val_loss: 0.7523\n",
            "Epoch 10/10\n",
            "51/51 [==============================] - 28s 547ms/step - loss: 0.6267 - val_loss: 0.7050\n"
          ]
        }
      ]
    },
    {
      "cell_type": "code",
      "source": [
        "# Function to print the results of the fit process\n",
        "def print_loss(result):\n",
        "    plt.plot(result.history['loss'])\n",
        "    plt.plot(result.history['val_loss'])\n",
        "    plt.legend(['Train', 'Test'])\n",
        "    plt.xlabel('Epochs')\n",
        "    plt.ylabel('Cost')\n",
        "    plt.show()\n",
        "\n",
        "print_loss(result)"
      ],
      "metadata": {
        "colab": {
          "base_uri": "https://localhost:8080/",
          "height": 279
        },
        "id": "4XLlWGau1n-L",
        "outputId": "5a870f55-f712-4548-ba90-c7a67b971e0c"
      },
      "execution_count": null,
      "outputs": [
        {
          "output_type": "display_data",
          "data": {
            "text/plain": [
              "<Figure size 432x288 with 1 Axes>"
            ],
            "image/png": "[encoded data removed]"
          },
          "metadata": {
            "needs_background": "light"
          }
        }
      ]
    },
    {
      "cell_type": "code",
      "source": [
        "y_predict = model.predict(x_test)\n",
        "\n",
        "ax = sns.scatterplot(x=y_predict[:,0], y=y_test[:,0])\n",
        "ax.set_ylabel('jml penduduk test')\n",
        "ax.set_xlabel('jml penduduk predicted')\n",
        "plt.show()"
      ],
      "metadata": {
        "colab": {
          "base_uri": "https://localhost:8080/",
          "height": 279
        },
        "id": "H9U2YW3Q1r6k",
        "outputId": "2eb466e3-99f8-4b2c-8d41-fb40b7c5736f"
      },
      "execution_count": null,
      "outputs": [
        {
          "output_type": "display_data",
          "data": {
            "text/plain": [
              "<Figure size 432x288 with 1 Axes>"
            ],
            "image/png": "[encoded data removed]"
          },
          "metadata": {
            "needs_background": "light"
          }
        }
      ]
    },
    {
      "cell_type": "code",
      "source": [
        "y_predicted = scaler_target.inverse_transform(y_predict)"
      ],
      "metadata": {
        "id": "d2AeLfdy2Lys"
      },
      "execution_count": null,
      "outputs": []
    },
    {
      "cell_type": "code",
      "source": [
        "diff = y_predicted - y_test\n",
        "\n",
        "print(\"MSE:\", np.mean(diff**2))\n",
        "print(\"MAE:\", np.mean(abs(diff)))\n",
        "print(\"RMSE:\", np.sqrt(np.mean(diff**2)))"
      ],
      "metadata": {
        "colab": {
          "base_uri": "https://localhost:8080/"
        },
        "id": "InTMY_x79Nov",
        "outputId": "b535b7be-e10b-4466-af25-a87840ffe7e8"
      },
      "execution_count": null,
      "outputs": [
        {
          "output_type": "stream",
          "name": "stdout",
          "text": [
            "MSE: 959558030.1098733\n",
            "MAE: 28864.529018805497\n",
            "RMSE: 30976.733690140303\n"
          ]
        }
      ]
    },
    {
      "cell_type": "code",
      "source": [
        "len(y_predicted)"
      ],
      "metadata": {
        "colab": {
          "base_uri": "https://localhost:8080/"
        },
        "id": "toERc_OnldcH",
        "outputId": "6a0c0846-fec1-4fc1-e4ef-2cb3734ce392"
      },
      "execution_count": null,
      "outputs": [
        {
          "output_type": "execute_result",
          "data": {
            "text/plain": [
              "534"
            ]
          },
          "metadata": {},
          "execution_count": 24
        }
      ]
    },
    {
      "cell_type": "markdown",
      "source": [
        "Prediction 2022"
      ],
      "metadata": {
        "id": "33NX4f1ORK9f"
      }
    },
    {
      "cell_type": "code",
      "source": [
        "x_test_ = x_test0.copy()\n",
        "y_predicted=np.array(y_predicted)\n",
        "y_predicted_=np.reshape(y_predicted[267:,0], (1,window))\n"
      ],
      "metadata": {
        "id": "o7Kl0EYGupoN"
      },
      "execution_count": null,
      "outputs": []
    },
    {
      "cell_type": "code",
      "source": [
        "x_test_= np.vstack((x_test_,y_predicted_))"
      ],
      "metadata": {
        "id": "Vce4LQGR0Q1X"
      },
      "execution_count": null,
      "outputs": []
    },
    {
      "cell_type": "code",
      "source": [
        "scaler_feature.fit(x_test_)\n",
        "x_test_ = scaler_feature.transform(x_test_)\n",
        "\n",
        "# Reshaping features for the LSTM\n",
        "x_test_ = x_test_.reshape(-1,window,1)"
      ],
      "metadata": {
        "id": "Bz8T0Sjp5u9u"
      },
      "execution_count": null,
      "outputs": []
    },
    {
      "cell_type": "code",
      "source": [
        "predict_ = model.predict(x_test_)\n",
        "\n"
      ],
      "metadata": {
        "id": "OJdvg6Z5xOwm"
      },
      "execution_count": null,
      "outputs": []
    },
    {
      "cell_type": "code",
      "source": [
        "y_predicted_ = scaler_target.inverse_transform(predict_)"
      ],
      "metadata": {
        "id": "NrtLjm-k6fvK"
      },
      "execution_count": null,
      "outputs": []
    },
    {
      "cell_type": "code",
      "source": [
        "\n",
        "print(\"Prediksi th 2022:\", y_predicted_[267:])"
      ],
      "metadata": {
        "colab": {
          "base_uri": "https://localhost:8080/"
        },
        "id": "yaTr9uGP7y7E",
        "outputId": "fba52d1a-3059-4571-81e3-bdec05428973"
      },
      "execution_count": null,
      "outputs": [
        {
          "output_type": "stream",
          "name": "stdout",
          "text": [
            "Prediksi th 2022: [[29569.504]\n",
            " [21328.688]\n",
            " [16275.82 ]\n",
            " [14767.17 ]\n",
            " [18957.65 ]\n",
            " [29070.113]\n",
            " [39462.383]\n",
            " [68944.66 ]\n",
            " [86314.73 ]\n",
            " [79162.664]\n",
            " [61416.566]\n",
            " [37736.82 ]\n",
            " [27185.127]\n",
            " [20404.848]\n",
            " [18531.824]\n",
            " [20671.191]\n",
            " [22087.475]\n",
            " [23273.102]\n",
            " [31168.594]\n",
            " [42382.523]\n",
            " [59396.59 ]\n",
            " [61619.207]\n",
            " [60393.754]\n",
            " [54835.594]\n",
            " [49032.312]\n",
            " [41240.027]\n",
            " [35424.215]\n",
            " [30506.322]\n",
            " [29350.25 ]\n",
            " [26911.613]\n",
            " [27952.479]\n",
            " [29861.3  ]\n",
            " [32123.17 ]\n",
            " [31088.42 ]\n",
            " [35650.59 ]\n",
            " [34485.31 ]\n",
            " [34688.8  ]\n",
            " [34886.836]\n",
            " [31537.758]\n",
            " [29080.193]\n",
            " [25617.16 ]\n",
            " [23475.37 ]\n",
            " [28612.703]\n",
            " [25241.955]\n",
            " [19425.777]\n",
            " [16840.178]\n",
            " [16027.964]\n",
            " [13423.289]\n",
            " [13248.219]\n",
            " [12462.836]\n",
            " [12732.073]\n",
            " [12978.383]\n",
            " [17190.773]\n",
            " [16419.564]\n",
            " [16598.088]\n",
            " [19574.582]\n",
            " [19028.807]\n",
            " [19112.541]\n",
            " [18030.406]\n",
            " [18171.234]\n",
            " [12354.02 ]\n",
            " [10969.875]\n",
            " [16298.388]\n",
            " [23421.93 ]\n",
            " [22796.16 ]\n",
            " [20790.521]\n",
            " [17070.121]\n",
            " [16789.225]\n",
            " [10958.08 ]\n",
            " [10717.66 ]\n",
            " [13326.025]\n",
            " [16386.176]\n",
            " [18610.62 ]\n",
            " [27143.062]\n",
            " [25052.25 ]\n",
            " [28930.088]\n",
            " [28851.646]\n",
            " [22989.521]\n",
            " [21230.91 ]\n",
            " [23909.13 ]\n",
            " [22145.182]\n",
            " [24368.238]\n",
            " [23076.238]\n",
            " [24613.355]\n",
            " [17690.412]\n",
            " [11840.517]\n",
            " [12409.619]\n",
            " [18768.34 ]\n",
            " [21945.082]\n",
            " [20158.314]\n",
            " [22267.527]\n",
            " [22099.996]\n",
            " [24165.73 ]\n",
            " [18975.621]\n",
            " [18169.8  ]\n",
            " [15201.912]\n",
            " [22131.121]\n",
            " [20946.254]\n",
            " [23305.793]\n",
            " [17761.125]\n",
            " [21065.377]\n",
            " [15916.815]\n",
            " [16870.629]\n",
            " [22614.113]\n",
            " [26865.736]\n",
            " [33186.996]\n",
            " [35790.062]\n",
            " [41414.426]\n",
            " [33857.387]\n",
            " [26697.635]\n",
            " [29049.104]\n",
            " [33867.35 ]\n",
            " [33765.836]\n",
            " [32606.527]\n",
            " [37110.492]\n",
            " [37049.55 ]\n",
            " [36232.07 ]\n",
            " [31900.277]\n",
            " [27881.922]\n",
            " [26337.176]\n",
            " [20571.432]\n",
            " [17002.4  ]\n",
            " [12373.046]\n",
            " [11529.376]\n",
            " [10448.623]\n",
            " [10224.297]\n",
            " [ 9924.971]\n",
            " [10319.57 ]\n",
            " [23759.54 ]\n",
            " [33847.71 ]\n",
            " [36173.797]\n",
            " [34131.508]\n",
            " [32134.54 ]\n",
            " [34112.68 ]\n",
            " [27465.133]\n",
            " [21022.424]\n",
            " [19187.498]\n",
            " [26168.535]\n",
            " [27773.396]\n",
            " [21727.5  ]\n",
            " [22674.018]\n",
            " [27475.582]\n",
            " [23981.832]\n",
            " [21408.121]\n",
            " [19518.879]\n",
            " [19645.098]\n",
            " [22965.037]\n",
            " [26929.7  ]\n",
            " [23970.205]\n",
            " [24169.148]\n",
            " [29087.18 ]\n",
            " [28622.676]\n",
            " [29948.678]\n",
            " [26279.588]\n",
            " [25286.373]\n",
            " [28171.912]\n",
            " [28302.459]\n",
            " [21264.646]\n",
            " [16543.521]\n",
            " [15771.129]\n",
            " [12666.556]\n",
            " [12317.552]\n",
            " [21411.027]\n",
            " [28665.318]\n",
            " [23919.648]\n",
            " [32821.945]\n",
            " [40337.094]\n",
            " [41144.6  ]\n",
            " [37971.13 ]\n",
            " [40887.016]\n",
            " [37491.816]\n",
            " [34121.13 ]\n",
            " [48622.113]\n",
            " [57077.18 ]\n",
            " [61989.6  ]\n",
            " [58122.734]\n",
            " [46776.637]\n",
            " [31752.291]\n",
            " [24845.469]\n",
            " [21769.482]\n",
            " [19537.135]\n",
            " [21256.828]\n",
            " [24163.002]\n",
            " [37761.508]\n",
            " [36871.44 ]\n",
            " [36153.47 ]\n",
            " [34610.59 ]\n",
            " [46015.215]\n",
            " [52123.973]\n",
            " [48345.977]\n",
            " [41694.645]\n",
            " [37381.324]\n",
            " [38237.066]\n",
            " [39920.89 ]\n",
            " [35079.453]\n",
            " [30255.975]\n",
            " [31985.81 ]\n",
            " [35023.105]\n",
            " [32309.02 ]\n",
            " [25937.125]\n",
            " [24935.873]\n",
            " [25243.432]\n",
            " [27454.49 ]\n",
            " [26872.266]\n",
            " [29538.455]\n",
            " [27120.076]\n",
            " [23766.262]\n",
            " [22868.188]\n",
            " [26108.67 ]\n",
            " [26091.65 ]\n",
            " [26694.59 ]\n",
            " [24317.61 ]\n",
            " [25779.705]\n",
            " [25551.771]\n",
            " [26389.494]\n",
            " [24759.697]\n",
            " [26350.7  ]\n",
            " [25746.504]\n",
            " [23706.275]\n",
            " [21685.236]\n",
            " [18618.072]\n",
            " [17262.387]\n",
            " [19691.611]\n",
            " [22301.363]\n",
            " [22785.066]\n",
            " [21948.467]\n",
            " [25662.656]\n",
            " [27092.121]\n",
            " [29517.6  ]\n",
            " [30961.803]\n",
            " [30596.709]\n",
            " [28697.69 ]\n",
            " [26138.55 ]\n",
            " [28169.613]\n",
            " [30436.82 ]\n",
            " [30624.96 ]\n",
            " [31274.525]\n",
            " [33653.023]\n",
            " [39308.52 ]\n",
            " [35350.39 ]\n",
            " [34251.195]\n",
            " [37708.336]\n",
            " [34640.617]\n",
            " [34628.016]\n",
            " [31682.89 ]\n",
            " [29084.643]\n",
            " [30876.2  ]\n",
            " [28911.076]\n",
            " [33984.953]\n",
            " [34293.47 ]\n",
            " [32522.025]\n",
            " [32758.236]\n",
            " [38826.348]\n",
            " [33748.836]\n",
            " [39570.727]\n",
            " [36260.016]\n",
            " [28776.564]\n",
            " [29492.01 ]\n",
            " [39992.93 ]\n",
            " [47790.152]\n",
            " [40751.895]\n",
            " [35307.93 ]\n",
            " [30719.055]\n",
            " [26836.617]\n",
            " [32047.477]\n",
            " [34042.504]\n",
            " [29971.81 ]\n",
            " [35327.555]]\n"
          ]
        }
      ]
    }
  ]
}