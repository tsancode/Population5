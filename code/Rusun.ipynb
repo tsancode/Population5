{
  "nbformat": 4,
  "nbformat_minor": 0,
  "metadata": {
    "colab": {
      "name": "Rusun.ipynb",
      "provenance": []
    },
    "kernelspec": {
      "name": "python3",
      "display_name": "Python 3"
    },
    "language_info": {
      "name": "python"
    }
  },
  "cells": [
    {
      "cell_type": "markdown",
      "source": [
        "# Visualisasi Data Perkembangan Dan Pembangunan Rumah Susun DKI Jakarta\n",
        "\n",
        "Data diperoleh dari [Data Jakarta](https://data.jakarta.go.id/dataset/data-perkembangan-dan-pembangunan-rumah-susun)\n",
        "\n",
        "Terdapat 2 dataset yaitu tahun 2014 dan 2018"
      ],
      "metadata": {
        "id": "DAkrIuUbh_m2"
      }
    },
    {
      "cell_type": "code",
      "execution_count": null,
      "metadata": {
        "id": "dZuW4VKdhkzv"
      },
      "outputs": [],
      "source": [
        "import tensorflow as tf\n",
        "import numpy as np\n",
        "import pandas as pd\n",
        "import requests\n",
        "from io import StringIO\n",
        "import matplotlib.pyplot as plt"
      ]
    },
    {
      "cell_type": "markdown",
      "source": [
        "## Define data"
      ],
      "metadata": {
        "id": "Bjg_ZO6lh-Km"
      }
    },
    {
      "cell_type": "code",
      "source": [
        "dwn_url2014='https://data.jakarta.go.id/dataset/ca754029-6273-49ca-a896-70478ad64174/resource/caee49dd-7c45-4dae-93a8-21f849127f31/download/Data-Perkembangan-Dan-Pembangunan-Rumah-Susun-Tahun-2014.csv'\n",
        "url2014 = requests.get(dwn_url2014).text\n",
        "csv_raw2014 = StringIO(url2014)\n",
        "df2014 = pd.read_csv(csv_raw2014)"
      ],
      "metadata": {
        "id": "8wxQGR7Ghw_O"
      },
      "execution_count": null,
      "outputs": []
    },
    {
      "cell_type": "code",
      "source": [
        "#orig_url2018='https://drive.google.com/file/d/1LasQV6oHhyVpSikPVi0Q1lJIE_nVJQMU/view?usp=sharing'\n",
        "\n",
        "#file_id2018 = orig_url2021.split('/')[-2]\n",
        "dwn_url2018='https://data.jakarta.go.id/dataset/ca754029-6273-49ca-a896-70478ad64174/resource/0b3516ad-25ed-4b47-ad33-cb6fe8e03cf7/download/Data-perkembangan-dan-Pembangunan-Rumah-susun-Tahun-2018.csv'\n",
        "#'https://drive.google.com/uc?export=download&id=' + file_id2018\n",
        "url2018 = requests.get(dwn_url2018).text\n",
        "csv_raw2018 = StringIO(url2018)\n",
        "df2018 = pd.read_csv(csv_raw2018)"
      ],
      "metadata": {
        "id": "QvyR6vTVh8Re"
      },
      "execution_count": null,
      "outputs": []
    },
    {
      "cell_type": "markdown",
      "source": [
        "## Exploratory data"
      ],
      "metadata": {
        "id": "QuRALbL-oWbV"
      }
    },
    {
      "cell_type": "code",
      "source": [
        "df2014.head(3)"
      ],
      "metadata": {
        "colab": {
          "base_uri": "https://localhost:8080/",
          "height": 240
        },
        "id": "bET749YkoVHQ",
        "outputId": "71ed08a6-4b58-4cf1-d5f3-ad9acb7e8998"
      },
      "execution_count": null,
      "outputs": [
        {
          "output_type": "execute_result",
          "data": {
            "text/plain": [
              "                                            kegiatan  \\\n",
              "0  Penyelesaian Pembangunan Rumah Susun KS Tubun,...   \n",
              "1  Pembangunan Rumah Susun Jatinegara Kaum Blok 1...   \n",
              "2  Pembangunan Rumah Susun Tambora Tower A, B dan...   \n",
              "\n",
              "                                  lokasi_pembangunan           kelurahan  \\\n",
              "0  Jl. KS Tubun, Kota Bambu Selatan, Pal Merah, J...  Kota Bambu Selatan   \n",
              "1  Jl. Raya Bekasi Timur, Jatinegara Kaum, Pulo G...     Jatinegara Kaum   \n",
              "2           Jl. Angke, Angke, Tambora, Jakarta Barat               Angke   \n",
              "\n",
              "     kecamatan        wilayah  jumlah_unit status_kepemilikan  anggaran_rupiah  \n",
              "0    Pal Merah  Jakarta Barat          524               Sewa      95000000000  \n",
              "1  Pulo Gadung  Jakarta Timur          200               Sewa      29591000000  \n",
              "2      Tambora  Jakarta Barat          549               Sewa     190163050000  "
            ],
            "text/html": [
              "\n",
              "  <div id=\"df-e3c3b56e-ee77-471f-80a3-faded5788f30\">\n",
              "    <div class=\"colab-df-container\">\n",
              "      <div>\n",
              "<style scoped>\n",
              "    .dataframe tbody tr th:only-of-type {\n",
              "        vertical-align: middle;\n",
              "    }\n",
              "\n",
              "    .dataframe tbody tr th {\n",
              "        vertical-align: top;\n",
              "    }\n",
              "\n",
              "    .dataframe thead th {\n",
              "        text-align: right;\n",
              "    }\n",
              "</style>\n",
              "<table border=\"1\" class=\"dataframe\">\n",
              "  <thead>\n",
              "    <tr style=\"text-align: right;\">\n",
              "      <th></th>\n",
              "      <th>kegiatan</th>\n",
              "      <th>lokasi_pembangunan</th>\n",
              "      <th>kelurahan</th>\n",
              "      <th>kecamatan</th>\n",
              "      <th>wilayah</th>\n",
              "      <th>jumlah_unit</th>\n",
              "      <th>status_kepemilikan</th>\n",
              "      <th>anggaran_rupiah</th>\n",
              "    </tr>\n",
              "  </thead>\n",
              "  <tbody>\n",
              "    <tr>\n",
              "      <th>0</th>\n",
              "      <td>Penyelesaian Pembangunan Rumah Susun KS Tubun,...</td>\n",
              "      <td>Jl. KS Tubun, Kota Bambu Selatan, Pal Merah, J...</td>\n",
              "      <td>Kota Bambu Selatan</td>\n",
              "      <td>Pal Merah</td>\n",
              "      <td>Jakarta Barat</td>\n",
              "      <td>524</td>\n",
              "      <td>Sewa</td>\n",
              "      <td>95000000000</td>\n",
              "    </tr>\n",
              "    <tr>\n",
              "      <th>1</th>\n",
              "      <td>Pembangunan Rumah Susun Jatinegara Kaum Blok 1...</td>\n",
              "      <td>Jl. Raya Bekasi Timur, Jatinegara Kaum, Pulo G...</td>\n",
              "      <td>Jatinegara Kaum</td>\n",
              "      <td>Pulo Gadung</td>\n",
              "      <td>Jakarta Timur</td>\n",
              "      <td>200</td>\n",
              "      <td>Sewa</td>\n",
              "      <td>29591000000</td>\n",
              "    </tr>\n",
              "    <tr>\n",
              "      <th>2</th>\n",
              "      <td>Pembangunan Rumah Susun Tambora Tower A, B dan...</td>\n",
              "      <td>Jl. Angke, Angke, Tambora, Jakarta Barat</td>\n",
              "      <td>Angke</td>\n",
              "      <td>Tambora</td>\n",
              "      <td>Jakarta Barat</td>\n",
              "      <td>549</td>\n",
              "      <td>Sewa</td>\n",
              "      <td>190163050000</td>\n",
              "    </tr>\n",
              "  </tbody>\n",
              "</table>\n",
              "</div>\n",
              "      <button class=\"colab-df-convert\" onclick=\"convertToInteractive('df-e3c3b56e-ee77-471f-80a3-faded5788f30')\"\n",
              "              title=\"Convert this dataframe to an interactive table.\"\n",
              "              style=\"display:none;\">\n",
              "        \n",
              "  <svg xmlns=\"http://www.w3.org/2000/svg\" height=\"24px\"viewBox=\"0 0 24 24\"\n",
              "       width=\"24px\">\n",
              "    <path d=\"M0 0h24v24H0V0z\" fill=\"none\"/>\n",
              "    <path d=\"M18.56 5.44l.94 2.06.94-2.06 2.06-.94-2.06-.94-.94-2.06-.94 2.06-2.06.94zm-11 1L8.5 8.5l.94-2.06 2.06-.94-2.06-.94L8.5 2.5l-.94 2.06-2.06.94zm10 10l.94 2.06.94-2.06 2.06-.94-2.06-.94-.94-2.06-.94 2.06-2.06.94z\"/><path d=\"M17.41 7.96l-1.37-1.37c-.4-.4-.92-.59-1.43-.59-.52 0-1.04.2-1.43.59L10.3 9.45l-7.72 7.72c-.78.78-.78 2.05 0 2.83L4 21.41c.39.39.9.59 1.41.59.51 0 1.02-.2 1.41-.59l7.78-7.78 2.81-2.81c.8-.78.8-2.07 0-2.86zM5.41 20L4 18.59l7.72-7.72 1.47 1.35L5.41 20z\"/>\n",
              "  </svg>\n",
              "      </button>\n",
              "      \n",
              "  <style>\n",
              "    .colab-df-container {\n",
              "      display:flex;\n",
              "      flex-wrap:wrap;\n",
              "      gap: 12px;\n",
              "    }\n",
              "\n",
              "    .colab-df-convert {\n",
              "      background-color: #E8F0FE;\n",
              "      border: none;\n",
              "      border-radius: 50%;\n",
              "      cursor: pointer;\n",
              "      display: none;\n",
              "      fill: #1967D2;\n",
              "      height: 32px;\n",
              "      padding: 0 0 0 0;\n",
              "      width: 32px;\n",
              "    }\n",
              "\n",
              "    .colab-df-convert:hover {\n",
              "      background-color: #E2EBFA;\n",
              "      box-shadow: 0px 1px 2px rgba(60, 64, 67, 0.3), 0px 1px 3px 1px rgba(60, 64, 67, 0.15);\n",
              "      fill: #174EA6;\n",
              "    }\n",
              "\n",
              "    [theme=dark] .colab-df-convert {\n",
              "      background-color: #3B4455;\n",
              "      fill: #D2E3FC;\n",
              "    }\n",
              "\n",
              "    [theme=dark] .colab-df-convert:hover {\n",
              "      background-color: #434B5C;\n",
              "      box-shadow: 0px 1px 3px 1px rgba(0, 0, 0, 0.15);\n",
              "      filter: drop-shadow(0px 1px 2px rgba(0, 0, 0, 0.3));\n",
              "      fill: #FFFFFF;\n",
              "    }\n",
              "  </style>\n",
              "\n",
              "      <script>\n",
              "        const buttonEl =\n",
              "          document.querySelector('#df-e3c3b56e-ee77-471f-80a3-faded5788f30 button.colab-df-convert');\n",
              "        buttonEl.style.display =\n",
              "          google.colab.kernel.accessAllowed ? 'block' : 'none';\n",
              "\n",
              "        async function convertToInteractive(key) {\n",
              "          const element = document.querySelector('#df-e3c3b56e-ee77-471f-80a3-faded5788f30');\n",
              "          const dataTable =\n",
              "            await google.colab.kernel.invokeFunction('convertToInteractive',\n",
              "                                                     [key], {});\n",
              "          if (!dataTable) return;\n",
              "\n",
              "          const docLinkHtml = 'Like what you see? Visit the ' +\n",
              "            '<a target=\"_blank\" href=https://colab.research.google.com/notebooks/data_table.ipynb>data table notebook</a>'\n",
              "            + ' to learn more about interactive tables.';\n",
              "          element.innerHTML = '';\n",
              "          dataTable['output_type'] = 'display_data';\n",
              "          await google.colab.output.renderOutput(dataTable, element);\n",
              "          const docLink = document.createElement('div');\n",
              "          docLink.innerHTML = docLinkHtml;\n",
              "          element.appendChild(docLink);\n",
              "        }\n",
              "      </script>\n",
              "    </div>\n",
              "  </div>\n",
              "  "
            ]
          },
          "metadata": {},
          "execution_count": 5
        }
      ]
    },
    {
      "cell_type": "code",
      "source": [
        "df2014.columns"
      ],
      "metadata": {
        "colab": {
          "base_uri": "https://localhost:8080/"
        },
        "id": "mvnCoXisofo0",
        "outputId": "e9571de3-b3b3-4702-c009-a11237412509"
      },
      "execution_count": null,
      "outputs": [
        {
          "output_type": "execute_result",
          "data": {
            "text/plain": [
              "Index(['kegiatan', 'lokasi_pembangunan', 'kelurahan', 'kecamatan', 'wilayah',\n",
              "       'jumlah_unit', 'status_kepemilikan', 'anggaran_rupiah'],\n",
              "      dtype='object')"
            ]
          },
          "metadata": {},
          "execution_count": 7
        }
      ]
    },
    {
      "cell_type": "code",
      "source": [
        "df2014.kegiatan.unique()"
      ],
      "metadata": {
        "colab": {
          "base_uri": "https://localhost:8080/"
        },
        "id": "0CixMxRooi2i",
        "outputId": "c42c084d-30dd-4897-979a-11511170e2e5"
      },
      "execution_count": null,
      "outputs": [
        {
          "output_type": "execute_result",
          "data": {
            "text/plain": [
              "array(['Penyelesaian Pembangunan Rumah Susun KS Tubun, Jakarta Barat',\n",
              "       'Pembangunan Rumah Susun Jatinegara Kaum Blok 1 dan 2 (Multi Years TA.2013-2014)',\n",
              "       'Pembangunan Rumah Susun Tambora Tower A, B dan C (Multi Years TA.2013-2014)',\n",
              "       'Pembangunan Rumah Susun Pulo Gebang Blok 5 & 6 (Multi Years TA.2013-2014)',\n",
              "       'Pembangunan Cipinang Besar Selatan Blok 4 & 5 (Multi Years TA.2013- 2014',\n",
              "       'Pembangunan Rumah Susun untuk Lokasi Binaan (Lokbin) Rawa Buaya',\n",
              "       'Pembangunan Rumah Susun untuk Lokasi Binaan (Lokbin) Semper',\n",
              "       'Pembangunan Rumah Susun Pinus Elok 1 Blok',\n",
              "       'Pembangunan Rumah Susun Rawa Bebek, Jakarta Timur',\n",
              "       'Pembangunan Rumah Susun Jl. Raya Bekasi Km.2, Jakarta Timur',\n",
              "       'Pembangunan Rumah Susun Cakung Barat, Jakarta Timur',\n",
              "       'Pembangunan Rumah Susun Jatinegara Kaum, Jakarta Timur '],\n",
              "      dtype=object)"
            ]
          },
          "metadata": {},
          "execution_count": 8
        }
      ]
    },
    {
      "cell_type": "code",
      "source": [
        "df2014.shape"
      ],
      "metadata": {
        "colab": {
          "base_uri": "https://localhost:8080/"
        },
        "id": "bkp8_x67pSOZ",
        "outputId": "3236e532-d6ae-4d75-8061-4fb38e78b530"
      },
      "execution_count": null,
      "outputs": [
        {
          "output_type": "execute_result",
          "data": {
            "text/plain": [
              "(12, 8)"
            ]
          },
          "metadata": {},
          "execution_count": 13
        }
      ]
    },
    {
      "cell_type": "markdown",
      "source": [
        "Data Pembangunan Rusun pada Tahun 2014 hanya 11."
      ],
      "metadata": {
        "id": "Ky_lZc2uptX0"
      }
    },
    {
      "cell_type": "code",
      "source": [
        "df2018.shape"
      ],
      "metadata": {
        "colab": {
          "base_uri": "https://localhost:8080/"
        },
        "id": "dMH0NQOxpklL",
        "outputId": "aa7b7159-fa40-40c5-aac5-70e5c983bf21"
      },
      "execution_count": null,
      "outputs": [
        {
          "output_type": "execute_result",
          "data": {
            "text/plain": [
              "(12, 8)"
            ]
          },
          "metadata": {},
          "execution_count": 14
        }
      ]
    },
    {
      "cell_type": "markdown",
      "source": [
        "Data Pembangunan Rusun pada Tahun 2018 hanya 11.\n",
        "Data tidak relevan, sehingga harus mencari data lain."
      ],
      "metadata": {
        "id": "RzLt6gyKqb5l"
      }
    },
    {
      "cell_type": "markdown",
      "source": [
        "# Data Rumah Susun Sederhana Menurut Lokasi Luas Area Tipe dan Kota Administrasi di Provinsi DKI Jakarta\n",
        "\n",
        "Source :\n",
        "[Data BPS Rumah Susun DKI Jakarta 2017-2018 dan 2019-2021](https://jakarta.bps.go.id/indicator/4/808/1/jumlah-rumah-susun-sederhana-menurut-lokasi-luas-area-tipe-dan-kota-administrasi-di-provinsi-dki-jakarta.html)\n",
        "\n",
        "[Data Statistik BPS Rumah Susun Sederhana DKI Jakarta 2020](https://statistik.jakarta.go.id/rumah-susun-sederhana-di-dki-jakarta-tahun-2020/)\n"
      ],
      "metadata": {
        "id": "xca1Z6TYqp1R"
      }
    },
    {
      "cell_type": "code",
      "source": [
        "import pandas as pd\n",
        "import numpy as np\n",
        "import seaborn as sns\n",
        "\n",
        "import matplotlib as mpl\n",
        "import matplotlib.pyplot as plt\n",
        "\n",
        "import requests\n",
        "from io import StringIO\n",
        "\n",
        "from tensorflow import keras\n",
        "from tensorflow import nn\n",
        "\n",
        "from keras.models import Sequential\n",
        "from keras.layers import Dense, LSTM, Dropout\n",
        "from keras.callbacks import EarlyStopping\n",
        "from keras import optimizers\n",
        "\n",
        "from sklearn.preprocessing import StandardScaler\n",
        "from sklearn.metrics import mean_squared_error"
      ],
      "metadata": {
        "id": "5Rd3TUBY0qhP"
      },
      "execution_count": 49,
      "outputs": []
    },
    {
      "cell_type": "code",
      "source": [
        "df = pd.read_excel('/content/drive/MyDrive/PROA 2022/Jumlah Rumah Susun Sederhana Menurut Lokasi Luas Area Tipe dan Kota Administrasi di Provinsi DKI Jakarta 2017-2020.xlsx')\n",
        "df.head(2)"
      ],
      "metadata": {
        "colab": {
          "base_uri": "https://localhost:8080/",
          "height": 112
        },
        "id": "ZiJv181o1dFn",
        "outputId": "d0661f6e-d027-42a9-937e-996c7ae17d1a"
      },
      "execution_count": 50,
      "outputs": [
        {
          "output_type": "execute_result",
          "data": {
            "text/plain": [
              "           Wilayah  Tahun  Lokasi  Jumlah Unit  Jumlah Blok Jumlah Tower\n",
              "0  Jakarta Selatan   2017       2          440            6            -\n",
              "1    Jakarta Timur   2017      19         8456           89            2"
            ],
            "text/html": [
              "\n",
              "  <div id=\"df-c892205a-8780-4b38-8ab8-cb6fc94c1b6c\">\n",
              "    <div class=\"colab-df-container\">\n",
              "      <div>\n",
              "<style scoped>\n",
              "    .dataframe tbody tr th:only-of-type {\n",
              "        vertical-align: middle;\n",
              "    }\n",
              "\n",
              "    .dataframe tbody tr th {\n",
              "        vertical-align: top;\n",
              "    }\n",
              "\n",
              "    .dataframe thead th {\n",
              "        text-align: right;\n",
              "    }\n",
              "</style>\n",
              "<table border=\"1\" class=\"dataframe\">\n",
              "  <thead>\n",
              "    <tr style=\"text-align: right;\">\n",
              "      <th></th>\n",
              "      <th>Wilayah</th>\n",
              "      <th>Tahun</th>\n",
              "      <th>Lokasi</th>\n",
              "      <th>Jumlah Unit</th>\n",
              "      <th>Jumlah Blok</th>\n",
              "      <th>Jumlah Tower</th>\n",
              "    </tr>\n",
              "  </thead>\n",
              "  <tbody>\n",
              "    <tr>\n",
              "      <th>0</th>\n",
              "      <td>Jakarta Selatan</td>\n",
              "      <td>2017</td>\n",
              "      <td>2</td>\n",
              "      <td>440</td>\n",
              "      <td>6</td>\n",
              "      <td>-</td>\n",
              "    </tr>\n",
              "    <tr>\n",
              "      <th>1</th>\n",
              "      <td>Jakarta Timur</td>\n",
              "      <td>2017</td>\n",
              "      <td>19</td>\n",
              "      <td>8456</td>\n",
              "      <td>89</td>\n",
              "      <td>2</td>\n",
              "    </tr>\n",
              "  </tbody>\n",
              "</table>\n",
              "</div>\n",
              "      <button class=\"colab-df-convert\" onclick=\"convertToInteractive('df-c892205a-8780-4b38-8ab8-cb6fc94c1b6c')\"\n",
              "              title=\"Convert this dataframe to an interactive table.\"\n",
              "              style=\"display:none;\">\n",
              "        \n",
              "  <svg xmlns=\"http://www.w3.org/2000/svg\" height=\"24px\"viewBox=\"0 0 24 24\"\n",
              "       width=\"24px\">\n",
              "    <path d=\"M0 0h24v24H0V0z\" fill=\"none\"/>\n",
              "    <path d=\"M18.56 5.44l.94 2.06.94-2.06 2.06-.94-2.06-.94-.94-2.06-.94 2.06-2.06.94zm-11 1L8.5 8.5l.94-2.06 2.06-.94-2.06-.94L8.5 2.5l-.94 2.06-2.06.94zm10 10l.94 2.06.94-2.06 2.06-.94-2.06-.94-.94-2.06-.94 2.06-2.06.94z\"/><path d=\"M17.41 7.96l-1.37-1.37c-.4-.4-.92-.59-1.43-.59-.52 0-1.04.2-1.43.59L10.3 9.45l-7.72 7.72c-.78.78-.78 2.05 0 2.83L4 21.41c.39.39.9.59 1.41.59.51 0 1.02-.2 1.41-.59l7.78-7.78 2.81-2.81c.8-.78.8-2.07 0-2.86zM5.41 20L4 18.59l7.72-7.72 1.47 1.35L5.41 20z\"/>\n",
              "  </svg>\n",
              "      </button>\n",
              "      \n",
              "  <style>\n",
              "    .colab-df-container {\n",
              "      display:flex;\n",
              "      flex-wrap:wrap;\n",
              "      gap: 12px;\n",
              "    }\n",
              "\n",
              "    .colab-df-convert {\n",
              "      background-color: #E8F0FE;\n",
              "      border: none;\n",
              "      border-radius: 50%;\n",
              "      cursor: pointer;\n",
              "      display: none;\n",
              "      fill: #1967D2;\n",
              "      height: 32px;\n",
              "      padding: 0 0 0 0;\n",
              "      width: 32px;\n",
              "    }\n",
              "\n",
              "    .colab-df-convert:hover {\n",
              "      background-color: #E2EBFA;\n",
              "      box-shadow: 0px 1px 2px rgba(60, 64, 67, 0.3), 0px 1px 3px 1px rgba(60, 64, 67, 0.15);\n",
              "      fill: #174EA6;\n",
              "    }\n",
              "\n",
              "    [theme=dark] .colab-df-convert {\n",
              "      background-color: #3B4455;\n",
              "      fill: #D2E3FC;\n",
              "    }\n",
              "\n",
              "    [theme=dark] .colab-df-convert:hover {\n",
              "      background-color: #434B5C;\n",
              "      box-shadow: 0px 1px 3px 1px rgba(0, 0, 0, 0.15);\n",
              "      filter: drop-shadow(0px 1px 2px rgba(0, 0, 0, 0.3));\n",
              "      fill: #FFFFFF;\n",
              "    }\n",
              "  </style>\n",
              "\n",
              "      <script>\n",
              "        const buttonEl =\n",
              "          document.querySelector('#df-c892205a-8780-4b38-8ab8-cb6fc94c1b6c button.colab-df-convert');\n",
              "        buttonEl.style.display =\n",
              "          google.colab.kernel.accessAllowed ? 'block' : 'none';\n",
              "\n",
              "        async function convertToInteractive(key) {\n",
              "          const element = document.querySelector('#df-c892205a-8780-4b38-8ab8-cb6fc94c1b6c');\n",
              "          const dataTable =\n",
              "            await google.colab.kernel.invokeFunction('convertToInteractive',\n",
              "                                                     [key], {});\n",
              "          if (!dataTable) return;\n",
              "\n",
              "          const docLinkHtml = 'Like what you see? Visit the ' +\n",
              "            '<a target=\"_blank\" href=https://colab.research.google.com/notebooks/data_table.ipynb>data table notebook</a>'\n",
              "            + ' to learn more about interactive tables.';\n",
              "          element.innerHTML = '';\n",
              "          dataTable['output_type'] = 'display_data';\n",
              "          await google.colab.output.renderOutput(dataTable, element);\n",
              "          const docLink = document.createElement('div');\n",
              "          docLink.innerHTML = docLinkHtml;\n",
              "          element.appendChild(docLink);\n",
              "        }\n",
              "      </script>\n",
              "    </div>\n",
              "  </div>\n",
              "  "
            ]
          },
          "metadata": {},
          "execution_count": 50
        }
      ]
    },
    {
      "cell_type": "code",
      "source": [
        "df.shape"
      ],
      "metadata": {
        "colab": {
          "base_uri": "https://localhost:8080/"
        },
        "id": "CyxJJVP72NES",
        "outputId": "aec398e5-e8ff-4d46-a28a-3199a58fcabd"
      },
      "execution_count": 51,
      "outputs": [
        {
          "output_type": "execute_result",
          "data": {
            "text/plain": [
              "(25, 6)"
            ]
          },
          "metadata": {},
          "execution_count": 51
        }
      ]
    },
    {
      "cell_type": "code",
      "source": [
        "df.info()"
      ],
      "metadata": {
        "colab": {
          "base_uri": "https://localhost:8080/"
        },
        "id": "Z9oUyLFC2Op7",
        "outputId": "720e56b7-4d4f-42ce-994e-25acf1163dcd"
      },
      "execution_count": 52,
      "outputs": [
        {
          "output_type": "stream",
          "name": "stdout",
          "text": [
            "<class 'pandas.core.frame.DataFrame'>\n",
            "RangeIndex: 25 entries, 0 to 24\n",
            "Data columns (total 6 columns):\n",
            " #   Column        Non-Null Count  Dtype \n",
            "---  ------        --------------  ----- \n",
            " 0   Wilayah       25 non-null     object\n",
            " 1   Tahun         25 non-null     int64 \n",
            " 2   Lokasi        25 non-null     int64 \n",
            " 3   Jumlah Unit   25 non-null     int64 \n",
            " 4   Jumlah Blok   25 non-null     int64 \n",
            " 5   Jumlah Tower  25 non-null     object\n",
            "dtypes: int64(4), object(2)\n",
            "memory usage: 1.3+ KB\n"
          ]
        }
      ]
    },
    {
      "cell_type": "code",
      "source": [
        "df['Tahun'] = pd.to_datetime(df['Tahun'], format='%Y')"
      ],
      "metadata": {
        "id": "S4oDeZxg2WjZ"
      },
      "execution_count": 53,
      "outputs": []
    },
    {
      "cell_type": "code",
      "source": [
        "sns.lineplot(data = df, x = 'Tahun', y = 'Jumlah Unit', hue = 'Wilayah')\n",
        "plt.legend(loc='upper right')\n",
        "plt.show()"
      ],
      "metadata": {
        "colab": {
          "base_uri": "https://localhost:8080/",
          "height": 279
        },
        "id": "OfBpqC7Y21-Q",
        "outputId": "11d8c364-8d9e-4b05-f084-2d6a569eef25"
      },
      "execution_count": 54,
      "outputs": [
        {
          "output_type": "display_data",
          "data": {
            "text/plain": [
              "<Figure size 432x288 with 1 Axes>"
            ],
            "image/png": "[encoded data removed]"
          },
          "metadata": {
            "needs_background": "light"
          }
        }
      ]
    },
    {
      "cell_type": "markdown",
      "source": [
        "## Model"
      ],
      "metadata": {
        "id": "9joYoP8i4Mox"
      }
    },
    {
      "cell_type": "code",
      "source": [
        "window = 267"
      ],
      "metadata": {
        "id": "uEPzX5DF4Oc-"
      },
      "execution_count": 55,
      "outputs": []
    },
    {
      "cell_type": "code",
      "source": [
        "# This value is the window size we are using\n",
        "index = window\n",
        "\n",
        "feature, target = [], []\n",
        "\n",
        "while(index < df.shape[0]):\n",
        "    feature.append(df.iloc[index - window: index]['Jumlah Unit'].to_numpy())\n",
        "    target.append(df.iloc[index][['Tahun']].to_numpy())\n",
        "    index = index + 1\n",
        "feature = np.array(feature)\n",
        "target = np.array(target)"
      ],
      "metadata": {
        "id": "TJvLOlzk4Qkn"
      },
      "execution_count": 56,
      "outputs": []
    },
    {
      "cell_type": "code",
      "source": [
        "size_test = int(df['Tahun'].value_counts().index.shape[0] * 0.8)\n",
        "separation_date = df['Tahun'].value_counts().index.sort_values()[size_test]"
      ],
      "metadata": {
        "id": "9DynnJal4qUC"
      },
      "execution_count": 57,
      "outputs": []
    },
    {
      "cell_type": "code",
      "source": [
        "x_train, y_train, x_test, y_test = [], [], [], []\n",
        "for i,t in enumerate(target):\n",
        "    if t[1] < separation_date:\n",
        "        x_train.append(feature[i])\n",
        "        y_train.append(target[i][0])\n",
        "    else:\n",
        "        x_test.append(feature[i])\n",
        "        y_test.append(target[i][0])"
      ],
      "metadata": {
        "id": "ebt15I2O41Fi"
      },
      "execution_count": 58,
      "outputs": []
    },
    {
      "cell_type": "code",
      "source": [
        "x_train, x_test = np.array(x_train), np.array(x_test)\n",
        "y_train, y_test = np.array(y_train).reshape(-1, 1), np.array(y_test).reshape(-1, 1)"
      ],
      "metadata": {
        "id": "w72Bscfl445C"
      },
      "execution_count": 59,
      "outputs": []
    },
    {
      "cell_type": "code",
      "source": [
        "scaler_feature = StandardScaler()\n",
        "scaler_feature.fit(x_train)\n",
        "x_train = scaler_feature.transform(x_train)\n",
        "x_test = scaler_feature.transform(x_test)\n",
        "\n",
        "# Reshaping features for the LSTM\n",
        "x_train, x_test = x_train.reshape(-1,window,1), x_test.reshape(-1,window,1)\n",
        "\n",
        "scaler_target = StandardScaler()\n",
        "scaler_target.fit(y_train)\n",
        "y_train = scaler_target.transform(y_train)\n",
        "y_test = scaler_target.transform(y_test)"
      ],
      "metadata": {
        "colab": {
          "base_uri": "https://localhost:8080/",
          "height": 432
        },
        "id": "0jMnFNd647pm",
        "outputId": "84389ab0-f291-45e2-e01f-bf43ae2a70ea"
      },
      "execution_count": 60,
      "outputs": [
        {
          "output_type": "error",
          "ename": "ValueError",
          "evalue": "ignored",
          "traceback": [
            "\u001b[0;31m---------------------------------------------------------------------------\u001b[0m",
            "\u001b[0;31mValueError\u001b[0m                                Traceback (most recent call last)",
            "\u001b[0;32m<ipython-input-60-b3e9bb66e37c>\u001b[0m in \u001b[0;36m<module>\u001b[0;34m()\u001b[0m\n\u001b[1;32m      1\u001b[0m \u001b[0mscaler_feature\u001b[0m \u001b[0;34m=\u001b[0m \u001b[0mStandardScaler\u001b[0m\u001b[0;34m(\u001b[0m\u001b[0;34m)\u001b[0m\u001b[0;34m\u001b[0m\u001b[0;34m\u001b[0m\u001b[0m\n\u001b[0;32m----> 2\u001b[0;31m \u001b[0mscaler_feature\u001b[0m\u001b[0;34m.\u001b[0m\u001b[0mfit\u001b[0m\u001b[0;34m(\u001b[0m\u001b[0mx_train\u001b[0m\u001b[0;34m)\u001b[0m\u001b[0;34m\u001b[0m\u001b[0;34m\u001b[0m\u001b[0m\n\u001b[0m\u001b[1;32m      3\u001b[0m \u001b[0mx_train\u001b[0m \u001b[0;34m=\u001b[0m \u001b[0mscaler_feature\u001b[0m\u001b[0;34m.\u001b[0m\u001b[0mtransform\u001b[0m\u001b[0;34m(\u001b[0m\u001b[0mx_train\u001b[0m\u001b[0;34m)\u001b[0m\u001b[0;34m\u001b[0m\u001b[0;34m\u001b[0m\u001b[0m\n\u001b[1;32m      4\u001b[0m \u001b[0mx_test\u001b[0m \u001b[0;34m=\u001b[0m \u001b[0mscaler_feature\u001b[0m\u001b[0;34m.\u001b[0m\u001b[0mtransform\u001b[0m\u001b[0;34m(\u001b[0m\u001b[0mx_test\u001b[0m\u001b[0;34m)\u001b[0m\u001b[0;34m\u001b[0m\u001b[0;34m\u001b[0m\u001b[0m\n\u001b[1;32m      5\u001b[0m \u001b[0;34m\u001b[0m\u001b[0m\n",
            "\u001b[0;32m/usr/local/lib/python3.7/dist-packages/sklearn/preprocessing/_data.py\u001b[0m in \u001b[0;36mfit\u001b[0;34m(self, X, y, sample_weight)\u001b[0m\n\u001b[1;32m    804\u001b[0m         \u001b[0;31m# Reset internal state before fitting\u001b[0m\u001b[0;34m\u001b[0m\u001b[0;34m\u001b[0m\u001b[0;34m\u001b[0m\u001b[0m\n\u001b[1;32m    805\u001b[0m         \u001b[0mself\u001b[0m\u001b[0;34m.\u001b[0m\u001b[0m_reset\u001b[0m\u001b[0;34m(\u001b[0m\u001b[0;34m)\u001b[0m\u001b[0;34m\u001b[0m\u001b[0;34m\u001b[0m\u001b[0m\n\u001b[0;32m--> 806\u001b[0;31m         \u001b[0;32mreturn\u001b[0m \u001b[0mself\u001b[0m\u001b[0;34m.\u001b[0m\u001b[0mpartial_fit\u001b[0m\u001b[0;34m(\u001b[0m\u001b[0mX\u001b[0m\u001b[0;34m,\u001b[0m \u001b[0my\u001b[0m\u001b[0;34m,\u001b[0m \u001b[0msample_weight\u001b[0m\u001b[0;34m)\u001b[0m\u001b[0;34m\u001b[0m\u001b[0;34m\u001b[0m\u001b[0m\n\u001b[0m\u001b[1;32m    807\u001b[0m \u001b[0;34m\u001b[0m\u001b[0m\n\u001b[1;32m    808\u001b[0m     \u001b[0;32mdef\u001b[0m \u001b[0mpartial_fit\u001b[0m\u001b[0;34m(\u001b[0m\u001b[0mself\u001b[0m\u001b[0;34m,\u001b[0m \u001b[0mX\u001b[0m\u001b[0;34m,\u001b[0m \u001b[0my\u001b[0m\u001b[0;34m=\u001b[0m\u001b[0;32mNone\u001b[0m\u001b[0;34m,\u001b[0m \u001b[0msample_weight\u001b[0m\u001b[0;34m=\u001b[0m\u001b[0;32mNone\u001b[0m\u001b[0;34m)\u001b[0m\u001b[0;34m:\u001b[0m\u001b[0;34m\u001b[0m\u001b[0;34m\u001b[0m\u001b[0m\n",
            "\u001b[0;32m/usr/local/lib/python3.7/dist-packages/sklearn/preprocessing/_data.py\u001b[0m in \u001b[0;36mpartial_fit\u001b[0;34m(self, X, y, sample_weight)\u001b[0m\n\u001b[1;32m    845\u001b[0m             \u001b[0mdtype\u001b[0m\u001b[0;34m=\u001b[0m\u001b[0mFLOAT_DTYPES\u001b[0m\u001b[0;34m,\u001b[0m\u001b[0;34m\u001b[0m\u001b[0;34m\u001b[0m\u001b[0m\n\u001b[1;32m    846\u001b[0m             \u001b[0mforce_all_finite\u001b[0m\u001b[0;34m=\u001b[0m\u001b[0;34m\"allow-nan\"\u001b[0m\u001b[0;34m,\u001b[0m\u001b[0;34m\u001b[0m\u001b[0;34m\u001b[0m\u001b[0m\n\u001b[0;32m--> 847\u001b[0;31m             \u001b[0mreset\u001b[0m\u001b[0;34m=\u001b[0m\u001b[0mfirst_call\u001b[0m\u001b[0;34m,\u001b[0m\u001b[0;34m\u001b[0m\u001b[0;34m\u001b[0m\u001b[0m\n\u001b[0m\u001b[1;32m    848\u001b[0m         )\n\u001b[1;32m    849\u001b[0m         \u001b[0mn_features\u001b[0m \u001b[0;34m=\u001b[0m \u001b[0mX\u001b[0m\u001b[0;34m.\u001b[0m\u001b[0mshape\u001b[0m\u001b[0;34m[\u001b[0m\u001b[0;36m1\u001b[0m\u001b[0;34m]\u001b[0m\u001b[0;34m\u001b[0m\u001b[0;34m\u001b[0m\u001b[0m\n",
            "\u001b[0;32m/usr/local/lib/python3.7/dist-packages/sklearn/base.py\u001b[0m in \u001b[0;36m_validate_data\u001b[0;34m(self, X, y, reset, validate_separately, **check_params)\u001b[0m\n\u001b[1;32m    564\u001b[0m             \u001b[0;32mraise\u001b[0m \u001b[0mValueError\u001b[0m\u001b[0;34m(\u001b[0m\u001b[0;34m\"Validation should be done on X, y or both.\"\u001b[0m\u001b[0;34m)\u001b[0m\u001b[0;34m\u001b[0m\u001b[0;34m\u001b[0m\u001b[0m\n\u001b[1;32m    565\u001b[0m         \u001b[0;32melif\u001b[0m \u001b[0;32mnot\u001b[0m \u001b[0mno_val_X\u001b[0m \u001b[0;32mand\u001b[0m \u001b[0mno_val_y\u001b[0m\u001b[0;34m:\u001b[0m\u001b[0;34m\u001b[0m\u001b[0;34m\u001b[0m\u001b[0m\n\u001b[0;32m--> 566\u001b[0;31m             \u001b[0mX\u001b[0m \u001b[0;34m=\u001b[0m \u001b[0mcheck_array\u001b[0m\u001b[0;34m(\u001b[0m\u001b[0mX\u001b[0m\u001b[0;34m,\u001b[0m \u001b[0;34m**\u001b[0m\u001b[0mcheck_params\u001b[0m\u001b[0;34m)\u001b[0m\u001b[0;34m\u001b[0m\u001b[0;34m\u001b[0m\u001b[0m\n\u001b[0m\u001b[1;32m    567\u001b[0m             \u001b[0mout\u001b[0m \u001b[0;34m=\u001b[0m \u001b[0mX\u001b[0m\u001b[0;34m\u001b[0m\u001b[0;34m\u001b[0m\u001b[0m\n\u001b[1;32m    568\u001b[0m         \u001b[0;32melif\u001b[0m \u001b[0mno_val_X\u001b[0m \u001b[0;32mand\u001b[0m \u001b[0;32mnot\u001b[0m \u001b[0mno_val_y\u001b[0m\u001b[0;34m:\u001b[0m\u001b[0;34m\u001b[0m\u001b[0;34m\u001b[0m\u001b[0m\n",
            "\u001b[0;32m/usr/local/lib/python3.7/dist-packages/sklearn/utils/validation.py\u001b[0m in \u001b[0;36mcheck_array\u001b[0;34m(array, accept_sparse, accept_large_sparse, dtype, order, copy, force_all_finite, ensure_2d, allow_nd, ensure_min_samples, ensure_min_features, estimator)\u001b[0m\n\u001b[1;32m    771\u001b[0m                     \u001b[0;34m\"Reshape your data either using array.reshape(-1, 1) if \"\u001b[0m\u001b[0;34m\u001b[0m\u001b[0;34m\u001b[0m\u001b[0m\n\u001b[1;32m    772\u001b[0m                     \u001b[0;34m\"your data has a single feature or array.reshape(1, -1) \"\u001b[0m\u001b[0;34m\u001b[0m\u001b[0;34m\u001b[0m\u001b[0m\n\u001b[0;32m--> 773\u001b[0;31m                     \u001b[0;34m\"if it contains a single sample.\"\u001b[0m\u001b[0;34m.\u001b[0m\u001b[0mformat\u001b[0m\u001b[0;34m(\u001b[0m\u001b[0marray\u001b[0m\u001b[0;34m)\u001b[0m\u001b[0;34m\u001b[0m\u001b[0;34m\u001b[0m\u001b[0m\n\u001b[0m\u001b[1;32m    774\u001b[0m                 )\n\u001b[1;32m    775\u001b[0m \u001b[0;34m\u001b[0m\u001b[0m\n",
            "\u001b[0;31mValueError\u001b[0m: Expected 2D array, got 1D array instead:\narray=[].\nReshape your data either using array.reshape(-1, 1) if your data has a single feature or array.reshape(1, -1) if it contains a single sample."
          ]
        }
      ]
    },
    {
      "cell_type": "code",
      "source": [
        "model = keras.Sequential()\n",
        "model.add(keras.layers.LSTM(units = 128, return_sequences = True, input_shape=(x_train.shape[1], x_train.shape[2])))\n",
        "model.add(keras.layers.Dropout(0.2))\n",
        "\n",
        "model.add(keras.layers.LSTM(units = 128))\n",
        "model.add(keras.layers.Dropout(0.25))\n",
        "model.add(keras.layers.Dense(1))\n",
        "\n",
        "model.compile(loss='mean_squared_error', optimizer='adam')\n",
        "model.summary()"
      ],
      "metadata": {
        "id": "Y-yjCb8G4-Oq"
      },
      "execution_count": null,
      "outputs": []
    },
    {
      "cell_type": "code",
      "source": [
        "result = model.fit(x_train,y_train,validation_data=(x_test,y_test),epochs=10)"
      ],
      "metadata": {
        "id": "n7kZsvF_5egt"
      },
      "execution_count": null,
      "outputs": []
    },
    {
      "cell_type": "code",
      "source": [
        "# Function to print the results of the fit process\n",
        "def print_loss(result):\n",
        "    plt.plot(result.history['loss'])\n",
        "    plt.plot(result.history['val_loss'])\n",
        "    plt.legend(['Train', 'Test'])\n",
        "    plt.xlabel('Epochs')\n",
        "    plt.ylabel('Cost')\n",
        "    plt.show()\n",
        "\n",
        "print_loss(result)"
      ],
      "metadata": {
        "id": "LeWLeKlQ5lbn"
      },
      "execution_count": null,
      "outputs": []
    },
    {
      "cell_type": "code",
      "source": [
        "y_predicted = model.predict(x_test)\n",
        "\n",
        "ax = sns.scatterplot(x=y_predicted[:,0], y=y_test[:,0])\n",
        "ax.set_ylabel('jumlah unit test')\n",
        "ax.set_xlabel('jumlah unit predicted')\n",
        "plt.show()"
      ],
      "metadata": {
        "id": "t-htqQUN5vnW"
      },
      "execution_count": null,
      "outputs": []
    },
    {
      "cell_type": "code",
      "source": [
        "y_predicted = scaler_target.inverse_transform(y_predicted)"
      ],
      "metadata": {
        "id": "5YdOOGeT53Gl"
      },
      "execution_count": null,
      "outputs": []
    },
    {
      "cell_type": "code",
      "source": [
        "diff = y_predicted - y_test\n",
        "\n",
        "print(\"MSE:\", np.mean(diff**2))\n",
        "print(\"MAE:\", np.mean(abs(diff)))\n",
        "print(\"RMSE:\", np.sqrt(np.mean(diff**2)))"
      ],
      "metadata": {
        "id": "oB_jKJnJ59Eg"
      },
      "execution_count": null,
      "outputs": []
    }
  ]
}