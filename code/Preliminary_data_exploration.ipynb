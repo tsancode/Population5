# Preliminary data analysis

import pandas as pd

df=pd.read_csv('/content/dkikepadatankelurahan2013.csv')
df.head()

df.info()

df.describe

df['TAHUN'].unique()

df.columns

