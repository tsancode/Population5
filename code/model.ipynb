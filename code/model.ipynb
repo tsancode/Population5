{
  "nbformat": 4,
  "nbformat_minor": 0,
  "metadata": {
    "colab": {
      "name": "project2.ipynb",
      "provenance": [],
      "authorship_tag": "ABX9TyNxR3jMWPVeqX2g3J3DHpVU",
      "include_colab_link": true
    },
    "kernelspec": {
      "name": "python3",
      "display_name": "Python 3"
    },
    "language_info": {
      "name": "python"
    }
  },
  "cells": [
    {
      "cell_type": "markdown",
      "metadata": {
        "id": "view-in-github",
        "colab_type": "text"
      },
      "source": [
        "<a href=\"https://colab.research.google.com/github/tsancode/Population5/blob/miftarj-model/Population5%20Update%20Preliminary_data_exploration.ipynb\" target=\"_parent\"><img src=\"https://colab.research.google.com/assets/colab-badge.svg\" alt=\"Open In Colab\"/></a>"
      ]
    },
    {
      "cell_type": "markdown",
      "source": [
        "import package yg diperlukan"
      ],
      "metadata": {
        "id": "a-CTL5XUpsyO"
      }
    },
    {
      "cell_type": "code",
      "execution_count": null,
      "metadata": {
        "id": "Q93e0Wwgnxg8"
      },
      "outputs": [],
      "source": [
        "import pandas as pd\n",
        "import numpy as np\n",
        "import seaborn as sns\n",
        "\n",
        "import matplotlib as mpl\n",
        "import matplotlib.pyplot as plt\n",
        "\n",
        "import requests\n",
        "from io import StringIO\n",
        "\n",
        "from tensorflow import keras\n",
        "from tensorflow import nn\n",
        "\n",
        "from keras.models import Sequential\n",
        "from keras.layers import Dense, LSTM, Dropout\n",
        "from keras.callbacks import EarlyStopping\n",
        "from keras import optimizers\n",
        "\n",
        "from sklearn.preprocessing import StandardScaler\n",
        "from sklearn.metrics import mean_squared_error\n"
      ]
    },
    {
      "cell_type": "markdown",
      "source": [
        "Import data"
      ],
      "metadata": {
        "id": "0O_r50g2px3i"
      }
    },
    {
      "cell_type": "code",
      "source": [
        "orig_url2='https://drive.google.com/file/d/1BBmMNqARjiuM71WtrldCJ8WZesmfs14v/view?usp=sharing'\n",
        "\n",
        "file_id2 = orig_url2.split('/')[-2]\n",
        "dwn_url2='https://drive.google.com/uc?export=download&id=' + file_id2\n",
        "url2 = requests.get(dwn_url2).text\n",
        "csv_raw2 = StringIO(url2)\n",
        "df2 = pd.read_csv(csv_raw2)"
      ],
      "metadata": {
        "id": "VxFJXmimprxa"
      },
      "execution_count": null,
      "outputs": []
    },
    {
      "cell_type": "markdown",
      "source": [
        "Exploratory"
      ],
      "metadata": {
        "id": "dOtCcOQLq1JY"
      }
    },
    {
      "cell_type": "code",
      "source": [
        "df2.head()"
      ],
      "metadata": {
        "colab": {
          "base_uri": "https://localhost:8080/",
          "height": 206
        },
        "id": "UpRu20a6q3AI",
        "outputId": "374a9fbf-978b-415e-b2c8-f1de599134fe"
      },
      "execution_count": null,
      "outputs": [
        {
          "output_type": "execute_result",
          "data": {
            "text/plain": [
              "   tahun  wil_id                                            wilayah  usia_prod\n",
              "0   2013       1  ADM. KEPULAUAN SERIBUKEPULAUAN SERIBU SELATANP...       1846\n",
              "1   2013       2  ADM. KEPULAUAN SERIBUKEPULAUAN SERIBU SELATANP...       1520\n",
              "2   2013       3  ADM. KEPULAUAN SERIBUKEPULAUAN SERIBU SELATANP...       3336\n",
              "3   2013       4  ADM. KEPULAUAN SERIBUKEPULAUAN SERIBU UTARAPUL...       4396\n",
              "4   2013       5  ADM. KEPULAUAN SERIBUKEPULAUAN SERIBU UTARAPUL...       1446"
            ],
            "text/html": [
              "\n",
              "  <div id=\"df-474a3a2e-ede2-483a-bc92-f68d84dbb55c\">\n",
              "    <div class=\"colab-df-container\">\n",
              "      <div>\n",
              "<style scoped>\n",
              "    .dataframe tbody tr th:only-of-type {\n",
              "        vertical-align: middle;\n",
              "    }\n",
              "\n",
              "    .dataframe tbody tr th {\n",
              "        vertical-align: top;\n",
              "    }\n",
              "\n",
              "    .dataframe thead th {\n",
              "        text-align: right;\n",
              "    }\n",
              "</style>\n",
              "<table border=\"1\" class=\"dataframe\">\n",
              "  <thead>\n",
              "    <tr style=\"text-align: right;\">\n",
              "      <th></th>\n",
              "      <th>tahun</th>\n",
              "      <th>wil_id</th>\n",
              "      <th>wilayah</th>\n",
              "      <th>usia_prod</th>\n",
              "    </tr>\n",
              "  </thead>\n",
              "  <tbody>\n",
              "    <tr>\n",
              "      <th>0</th>\n",
              "      <td>2013</td>\n",
              "      <td>1</td>\n",
              "      <td>ADM. KEPULAUAN SERIBUKEPULAUAN SERIBU SELATANP...</td>\n",
              "      <td>1846</td>\n",
              "    </tr>\n",
              "    <tr>\n",
              "      <th>1</th>\n",
              "      <td>2013</td>\n",
              "      <td>2</td>\n",
              "      <td>ADM. KEPULAUAN SERIBUKEPULAUAN SERIBU SELATANP...</td>\n",
              "      <td>1520</td>\n",
              "    </tr>\n",
              "    <tr>\n",
              "      <th>2</th>\n",
              "      <td>2013</td>\n",
              "      <td>3</td>\n",
              "      <td>ADM. KEPULAUAN SERIBUKEPULAUAN SERIBU SELATANP...</td>\n",
              "      <td>3336</td>\n",
              "    </tr>\n",
              "    <tr>\n",
              "      <th>3</th>\n",
              "      <td>2013</td>\n",
              "      <td>4</td>\n",
              "      <td>ADM. KEPULAUAN SERIBUKEPULAUAN SERIBU UTARAPUL...</td>\n",
              "      <td>4396</td>\n",
              "    </tr>\n",
              "    <tr>\n",
              "      <th>4</th>\n",
              "      <td>2013</td>\n",
              "      <td>5</td>\n",
              "      <td>ADM. KEPULAUAN SERIBUKEPULAUAN SERIBU UTARAPUL...</td>\n",
              "      <td>1446</td>\n",
              "    </tr>\n",
              "  </tbody>\n",
              "</table>\n",
              "</div>\n",
              "      <button class=\"colab-df-convert\" onclick=\"convertToInteractive('df-474a3a2e-ede2-483a-bc92-f68d84dbb55c')\"\n",
              "              title=\"Convert this dataframe to an interactive table.\"\n",
              "              style=\"display:none;\">\n",
              "        \n",
              "  <svg xmlns=\"http://www.w3.org/2000/svg\" height=\"24px\"viewBox=\"0 0 24 24\"\n",
              "       width=\"24px\">\n",
              "    <path d=\"M0 0h24v24H0V0z\" fill=\"none\"/>\n",
              "    <path d=\"M18.56 5.44l.94 2.06.94-2.06 2.06-.94-2.06-.94-.94-2.06-.94 2.06-2.06.94zm-11 1L8.5 8.5l.94-2.06 2.06-.94-2.06-.94L8.5 2.5l-.94 2.06-2.06.94zm10 10l.94 2.06.94-2.06 2.06-.94-2.06-.94-.94-2.06-.94 2.06-2.06.94z\"/><path d=\"M17.41 7.96l-1.37-1.37c-.4-.4-.92-.59-1.43-.59-.52 0-1.04.2-1.43.59L10.3 9.45l-7.72 7.72c-.78.78-.78 2.05 0 2.83L4 21.41c.39.39.9.59 1.41.59.51 0 1.02-.2 1.41-.59l7.78-7.78 2.81-2.81c.8-.78.8-2.07 0-2.86zM5.41 20L4 18.59l7.72-7.72 1.47 1.35L5.41 20z\"/>\n",
              "  </svg>\n",
              "      </button>\n",
              "      \n",
              "  <style>\n",
              "    .colab-df-container {\n",
              "      display:flex;\n",
              "      flex-wrap:wrap;\n",
              "      gap: 12px;\n",
              "    }\n",
              "\n",
              "    .colab-df-convert {\n",
              "      background-color: #E8F0FE;\n",
              "      border: none;\n",
              "      border-radius: 50%;\n",
              "      cursor: pointer;\n",
              "      display: none;\n",
              "      fill: #1967D2;\n",
              "      height: 32px;\n",
              "      padding: 0 0 0 0;\n",
              "      width: 32px;\n",
              "    }\n",
              "\n",
              "    .colab-df-convert:hover {\n",
              "      background-color: #E2EBFA;\n",
              "      box-shadow: 0px 1px 2px rgba(60, 64, 67, 0.3), 0px 1px 3px 1px rgba(60, 64, 67, 0.15);\n",
              "      fill: #174EA6;\n",
              "    }\n",
              "\n",
              "    [theme=dark] .colab-df-convert {\n",
              "      background-color: #3B4455;\n",
              "      fill: #D2E3FC;\n",
              "    }\n",
              "\n",
              "    [theme=dark] .colab-df-convert:hover {\n",
              "      background-color: #434B5C;\n",
              "      box-shadow: 0px 1px 3px 1px rgba(0, 0, 0, 0.15);\n",
              "      filter: drop-shadow(0px 1px 2px rgba(0, 0, 0, 0.3));\n",
              "      fill: #FFFFFF;\n",
              "    }\n",
              "  </style>\n",
              "\n",
              "      <script>\n",
              "        const buttonEl =\n",
              "          document.querySelector('#df-474a3a2e-ede2-483a-bc92-f68d84dbb55c button.colab-df-convert');\n",
              "        buttonEl.style.display =\n",
              "          google.colab.kernel.accessAllowed ? 'block' : 'none';\n",
              "\n",
              "        async function convertToInteractive(key) {\n",
              "          const element = document.querySelector('#df-474a3a2e-ede2-483a-bc92-f68d84dbb55c');\n",
              "          const dataTable =\n",
              "            await google.colab.kernel.invokeFunction('convertToInteractive',\n",
              "                                                     [key], {});\n",
              "          if (!dataTable) return;\n",
              "\n",
              "          const docLinkHtml = 'Like what you see? Visit the ' +\n",
              "            '<a target=\"_blank\" href=https://colab.research.google.com/notebooks/data_table.ipynb>data table notebook</a>'\n",
              "            + ' to learn more about interactive tables.';\n",
              "          element.innerHTML = '';\n",
              "          dataTable['output_type'] = 'display_data';\n",
              "          await google.colab.output.renderOutput(dataTable, element);\n",
              "          const docLink = document.createElement('div');\n",
              "          docLink.innerHTML = docLinkHtml;\n",
              "          element.appendChild(docLink);\n",
              "        }\n",
              "      </script>\n",
              "    </div>\n",
              "  </div>\n",
              "  "
            ]
          },
          "metadata": {},
          "execution_count": 3
        }
      ]
    },
    {
      "cell_type": "code",
      "source": [
        "df2.shape"
      ],
      "metadata": {
        "colab": {
          "base_uri": "https://localhost:8080/"
        },
        "id": "4JRqQIFHWM8e",
        "outputId": "f46728e7-37b4-4689-d6d1-3562d0cbd5c5"
      },
      "execution_count": null,
      "outputs": [
        {
          "output_type": "execute_result",
          "data": {
            "text/plain": [
              "(2403, 4)"
            ]
          },
          "metadata": {},
          "execution_count": 126
        }
      ]
    },
    {
      "cell_type": "code",
      "source": [
        "df2['tahun'] = pd.to_datetime(df2['tahun'], format='%Y') "
      ],
      "metadata": {
        "id": "o-fvLgsPqxZr"
      },
      "execution_count": null,
      "outputs": []
    },
    {
      "cell_type": "code",
      "source": [
        "\n",
        "sns.lineplot(data = df2, x = 'tahun', y = 'usia_prod', hue = 'wil_id')\n",
        "plt.legend(loc='upper right')\n",
        "plt.show()\n"
      ],
      "metadata": {
        "colab": {
          "base_uri": "https://localhost:8080/",
          "height": 279
        },
        "id": "9yVFDir6q5mV",
        "outputId": "0ab59585-a839-40d6-877e-4f87d5283e56"
      },
      "execution_count": null,
      "outputs": [
        {
          "output_type": "display_data",
          "data": {
            "text/plain": [
              "<Figure size 432x288 with 1 Axes>"
            ],
            "image/png": "[encoded data removed]"
          },
          "metadata": {
            "needs_background": "light"
          }
        }
      ]
    },
    {
      "cell_type": "markdown",
      "source": [
        "Model"
      ],
      "metadata": {
        "id": "L0Rp4ovnsPcv"
      }
    },
    {
      "cell_type": "code",
      "source": [
        "window = 267"
      ],
      "metadata": {
        "id": "1mMLBfaqovFF"
      },
      "execution_count": null,
      "outputs": []
    },
    {
      "cell_type": "code",
      "source": [
        "# This value is the window size we are using\n",
        "index = window\n",
        "\n",
        "feature, target = [], []\n",
        "\n",
        "while(index < df2.shape[0]):\n",
        "    feature.append(df2.iloc[index - window: index]['usia_prod'].to_numpy())\n",
        "    target.append(df2.iloc[index][['usia_prod', 'tahun']].to_numpy())\n",
        "    index = index + 1\n",
        "feature = np.array(feature)\n",
        "target = np.array(target)   "
      ],
      "metadata": {
        "id": "ABgH2Qz6osJf"
      },
      "execution_count": null,
      "outputs": []
    },
    {
      "cell_type": "code",
      "source": [
        "size_test = int(df2['tahun'].value_counts().index.shape[0] * 0.8)\n",
        "separation_date = df2['tahun'].value_counts().index.sort_values()[size_test]"
      ],
      "metadata": {
        "id": "6ApVC69asyxh"
      },
      "execution_count": null,
      "outputs": []
    },
    {
      "cell_type": "code",
      "source": [
        "x_train, y_train, x_test, y_test = [], [], [], []\n",
        "for i,t in enumerate(target):\n",
        "    if t[1] < separation_date:\n",
        "        x_train.append(feature[i])\n",
        "        y_train.append(target[i][0])\n",
        "    else:\n",
        "        x_test.append(feature[i])\n",
        "        y_test.append(target[i][0])"
      ],
      "metadata": {
        "id": "Y5B5nLxoondP"
      },
      "execution_count": null,
      "outputs": []
    },
    {
      "cell_type": "code",
      "source": [
        "x_train, x_test = np.array(x_train), np.array(x_test)\n",
        "y_train, y_test = np.array(y_train).reshape(-1, 1), np.array(y_test).reshape(-1, 1)"
      ],
      "metadata": {
        "id": "A6UYgD6Kp_Xa"
      },
      "execution_count": null,
      "outputs": []
    },
    {
      "cell_type": "code",
      "source": [
        "scaler_feature = StandardScaler()\n",
        "scaler_feature.fit(x_train)\n",
        "x_train = scaler_feature.transform(x_train)\n",
        "x_test = scaler_feature.transform(x_test)\n",
        "\n",
        "# Reshaping features for the LSTM\n",
        "x_train, x_test = x_train.reshape(-1,window,1), x_test.reshape(-1,window,1)\n",
        "\n",
        "scaler_target = StandardScaler()\n",
        "scaler_target.fit(y_train)\n",
        "y_train = scaler_target.transform(y_train)\n",
        "y_test = scaler_target.transform(y_test)"
      ],
      "metadata": {
        "id": "dTUS7zM8qBdn"
      },
      "execution_count": null,
      "outputs": []
    },
    {
      "cell_type": "code",
      "source": [
        "model = keras.Sequential()\n",
        "model.add(keras.layers.LSTM(units = 128, return_sequences = True, input_shape=(x_train.shape[1], x_train.shape[2])))\n",
        "model.add(keras.layers.Dropout(0.2))\n",
        "\n",
        "model.add(keras.layers.LSTM(units = 128))\n",
        "model.add(keras.layers.Dropout(0.25))\n",
        "model.add(keras.layers.Dense(1))\n",
        "\n",
        "model.compile(loss='mean_squared_error', optimizer='adam')\n",
        "model.summary()"
      ],
      "metadata": {
        "colab": {
          "base_uri": "https://localhost:8080/"
        },
        "id": "-zNQXoehzmsz",
        "outputId": "0dc984af-12df-4c43-cabf-9cb34291ed16"
      },
      "execution_count": null,
      "outputs": [
        {
          "output_type": "stream",
          "name": "stdout",
          "text": [
            "Model: \"sequential_1\"\n",
            "_________________________________________________________________\n",
            " Layer (type)                Output Shape              Param #   \n",
            "=================================================================\n",
            " lstm_2 (LSTM)               (None, 267, 128)          66560     \n",
            "                                                                 \n",
            " dropout_2 (Dropout)         (None, 267, 128)          0         \n",
            "                                                                 \n",
            " lstm_3 (LSTM)               (None, 128)               131584    \n",
            "                                                                 \n",
            " dropout_3 (Dropout)         (None, 128)               0         \n",
            "                                                                 \n",
            " dense_1 (Dense)             (None, 1)                 129       \n",
            "                                                                 \n",
            "=================================================================\n",
            "Total params: 198,273\n",
            "Trainable params: 198,273\n",
            "Non-trainable params: 0\n",
            "_________________________________________________________________\n"
          ]
        }
      ]
    },
    {
      "cell_type": "code",
      "source": [
        "result = model.fit(x_train,y_train,validation_data=(x_test,y_test),epochs=10)"
      ],
      "metadata": {
        "colab": {
          "base_uri": "https://localhost:8080/"
        },
        "id": "ubZdzxASzqtq",
        "outputId": "1849c3c7-4840-43a7-b8d7-1cec6eaff575"
      },
      "execution_count": null,
      "outputs": [
        {
          "output_type": "stream",
          "name": "stdout",
          "text": [
            "Epoch 1/10\n",
            "51/51 [==============================] - 36s 645ms/step - loss: 0.8732 - val_loss: 0.9210\n",
            "Epoch 2/10\n",
            "51/51 [==============================] - 31s 604ms/step - loss: 0.7338 - val_loss: 0.8248\n",
            "Epoch 3/10\n",
            "51/51 [==============================] - 31s 604ms/step - loss: 0.6997 - val_loss: 0.8066\n",
            "Epoch 4/10\n",
            "51/51 [==============================] - 32s 631ms/step - loss: 0.6865 - val_loss: 0.7754\n",
            "Epoch 5/10\n",
            "51/51 [==============================] - 31s 610ms/step - loss: 0.6997 - val_loss: 0.7819\n",
            "Epoch 6/10\n",
            "51/51 [==============================] - 31s 611ms/step - loss: 0.7014 - val_loss: 0.7842\n",
            "Epoch 7/10\n",
            "51/51 [==============================] - 31s 611ms/step - loss: 0.6623 - val_loss: 0.7341\n",
            "Epoch 8/10\n",
            "51/51 [==============================] - 32s 629ms/step - loss: 0.6729 - val_loss: 0.7470\n",
            "Epoch 9/10\n",
            "51/51 [==============================] - 31s 610ms/step - loss: 0.6453 - val_loss: 0.7205\n",
            "Epoch 10/10\n",
            "51/51 [==============================] - 31s 608ms/step - loss: 0.6223 - val_loss: 0.7303\n"
          ]
        }
      ]
    },
    {
      "cell_type": "code",
      "source": [
        "# Function to print the results of the fit process\n",
        "def print_loss(result):\n",
        "    plt.plot(result.history['loss'])\n",
        "    plt.plot(result.history['val_loss'])\n",
        "    plt.legend(['Train', 'Test'])\n",
        "    plt.xlabel('Epochs')\n",
        "    plt.ylabel('Cost')\n",
        "    plt.show()\n",
        "\n",
        "print_loss(result)"
      ],
      "metadata": {
        "colab": {
          "base_uri": "https://localhost:8080/",
          "height": 279
        },
        "id": "4XLlWGau1n-L",
        "outputId": "5a870f55-f712-4548-ba90-c7a67b971e0c"
      },
      "execution_count": null,
      "outputs": [
        {
          "output_type": "display_data",
          "data": {
            "text/plain": [
              "<Figure size 432x288 with 1 Axes>"
            ],
            "image/png": "[encoded data removed]"
          },
          "metadata": {
            "needs_background": "light"
          }
        }
      ]
    },
    {
      "cell_type": "code",
      "source": [
        "y_predicted = model.predict(x_test)\n",
        "\n",
        "ax = sns.scatterplot(x=y_predicted[:,0], y=y_test[:,0])\n",
        "ax.set_ylabel('jml penduduk test')\n",
        "ax.set_xlabel('jml penduduk predicted')\n",
        "plt.show()"
      ],
      "metadata": {
        "colab": {
          "base_uri": "https://localhost:8080/",
          "height": 279
        },
        "id": "H9U2YW3Q1r6k",
        "outputId": "dd8bbd16-2beb-4119-a256-383dcbac7bd6"
      },
      "execution_count": null,
      "outputs": [
        {
          "output_type": "display_data",
          "data": {
            "text/plain": [
              "<Figure size 432x288 with 1 Axes>"
            ],
            "image/png": "[encoded data removed]"
          },
          "metadata": {
            "needs_background": "light"
          }
        }
      ]
    },
    {
      "cell_type": "code",
      "source": [
        "y_predicted = scaler_target.inverse_transform(y_predicted)"
      ],
      "metadata": {
        "id": "d2AeLfdy2Lys"
      },
      "execution_count": null,
      "outputs": []
    },
    {
      "cell_type": "code",
      "source": [
        "diff = y_predicted - y_test\n",
        "\n",
        "print(\"MSE:\", np.mean(diff**2))\n",
        "print(\"MAE:\", np.mean(abs(diff)))\n",
        "print(\"RMSE:\", np.sqrt(np.mean(diff**2)))"
      ],
      "metadata": {
        "colab": {
          "base_uri": "https://localhost:8080/"
        },
        "id": "InTMY_x79Nov",
        "outputId": "79afd391-e247-4be7-c2c1-308cc0112ad6"
      },
      "execution_count": null,
      "outputs": [
        {
          "output_type": "stream",
          "name": "stdout",
          "text": [
            "MSE: 946276680.44028\n",
            "MAE: 29166.71825247825\n",
            "RMSE: 30761.6104981563\n"
          ]
        }
      ]
    }
  ]
}
