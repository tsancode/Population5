{
  "nbformat": 4,
  "nbformat_minor": 0,
  "metadata": {
    "colab": {
      "name": "Rusun.ipynb",
      "provenance": [],
      "mount_file_id": "18G8Hwr4jcAp1IqbUhSjJLYpOIPCFVQt8",
      "authorship_tag": "ABX9TyN4tPolwJpLiGjvqz8Ee3Jv",
      "include_colab_link": true
    },
    "kernelspec": {
      "name": "python3",
      "display_name": "Python 3"
    },
    "language_info": {
      "name": "python"
    }
  },
  "cells": [
    {
      "cell_type": "markdown",
      "metadata": {
        "id": "view-in-github",
        "colab_type": "text"
      },
      "source": [
        "<a href=\"https://colab.research.google.com/github/tsancode/Population5/blob/main/code/Rusun.ipynb\" target=\"_parent\"><img src=\"https://colab.research.google.com/assets/colab-badge.svg\" alt=\"Open In Colab\"/></a>"
      ]
    },
    {
      "cell_type": "markdown",
      "source": [
        "# Visualisasi Data Perkembangan Dan Pembangunan Rumah Susun DKI Jakarta\n",
        "\n",
        "Data diperoleh dari [Data Jakarta](https://data.jakarta.go.id/dataset/data-perkembangan-dan-pembangunan-rumah-susun)\n",
        "\n",
        "Terdapat 2 dataset yaitu tahun 2014 dan 2018"
      ],
      "metadata": {
        "id": "DAkrIuUbh_m2"
      }
    },
    {
      "cell_type": "code",
      "execution_count": null,
      "metadata": {
        "id": "dZuW4VKdhkzv"
      },
      "outputs": [],
      "source": [
        "import tensorflow as tf\n",
        "import numpy as np\n",
        "import pandas as pd\n",
        "import requests\n",
        "from io import StringIO\n",
        "import matplotlib.pyplot as plt"
      ]
    },
    {
      "cell_type": "markdown",
      "source": [
        "## Define data"
      ],
      "metadata": {
        "id": "Bjg_ZO6lh-Km"
      }
    },
    {
      "cell_type": "code",
      "source": [
        "dwn_url2014='https://data.jakarta.go.id/dataset/ca754029-6273-49ca-a896-70478ad64174/resource/caee49dd-7c45-4dae-93a8-21f849127f31/download/Data-Perkembangan-Dan-Pembangunan-Rumah-Susun-Tahun-2014.csv'\n",
        "url2014 = requests.get(dwn_url2014).text\n",
        "csv_raw2014 = StringIO(url2014)\n",
        "df2014 = pd.read_csv(csv_raw2014)"
      ],
      "metadata": {
        "id": "8wxQGR7Ghw_O"
      },
      "execution_count": null,
      "outputs": []
    },
    {
      "cell_type": "code",
      "source": [
        "#orig_url2018='https://drive.google.com/file/d/1LasQV6oHhyVpSikPVi0Q1lJIE_nVJQMU/view?usp=sharing'\n",
        "\n",
        "#file_id2018 = orig_url2021.split('/')[-2]\n",
        "dwn_url2018='https://data.jakarta.go.id/dataset/ca754029-6273-49ca-a896-70478ad64174/resource/0b3516ad-25ed-4b47-ad33-cb6fe8e03cf7/download/Data-perkembangan-dan-Pembangunan-Rumah-susun-Tahun-2018.csv'\n",
        "#'https://drive.google.com/uc?export=download&id=' + file_id2018\n",
        "url2018 = requests.get(dwn_url2018).text\n",
        "csv_raw2018 = StringIO(url2018)\n",
        "df2018 = pd.read_csv(csv_raw2018)"
      ],
      "metadata": {
        "id": "QvyR6vTVh8Re"
      },
      "execution_count": null,
      "outputs": []
    },
    {
      "cell_type": "markdown",
      "source": [
        "## Exploratory data"
      ],
      "metadata": {
        "id": "QuRALbL-oWbV"
      }
    },
    {
      "cell_type": "code",
      "source": [
        "df2014.head(3)"
      ],
      "metadata": {
        "colab": {
          "base_uri": "https://localhost:8080/",
          "height": 240
        },
        "id": "bET749YkoVHQ",
        "outputId": "71ed08a6-4b58-4cf1-d5f3-ad9acb7e8998"
      },
      "execution_count": null,
      "outputs": [
        {
          "output_type": "execute_result",
          "data": {
            "text/plain": [
              "                                            kegiatan  \\\n",
              "0  Penyelesaian Pembangunan Rumah Susun KS Tubun,...   \n",
              "1  Pembangunan Rumah Susun Jatinegara Kaum Blok 1...   \n",
              "2  Pembangunan Rumah Susun Tambora Tower A, B dan...   \n",
              "\n",
              "                                  lokasi_pembangunan           kelurahan  \\\n",
              "0  Jl. KS Tubun, Kota Bambu Selatan, Pal Merah, J...  Kota Bambu Selatan   \n",
              "1  Jl. Raya Bekasi Timur, Jatinegara Kaum, Pulo G...     Jatinegara Kaum   \n",
              "2           Jl. Angke, Angke, Tambora, Jakarta Barat               Angke   \n",
              "\n",
              "     kecamatan        wilayah  jumlah_unit status_kepemilikan  anggaran_rupiah  \n",
              "0    Pal Merah  Jakarta Barat          524               Sewa      95000000000  \n",
              "1  Pulo Gadung  Jakarta Timur          200               Sewa      29591000000  \n",
              "2      Tambora  Jakarta Barat          549               Sewa     190163050000  "
            ],
            "text/html": [
              "\n",
              "  <div id=\"df-e3c3b56e-ee77-471f-80a3-faded5788f30\">\n",
              "    <div class=\"colab-df-container\">\n",
              "      <div>\n",
              "<style scoped>\n",
              "    .dataframe tbody tr th:only-of-type {\n",
              "        vertical-align: middle;\n",
              "    }\n",
              "\n",
              "    .dataframe tbody tr th {\n",
              "        vertical-align: top;\n",
              "    }\n",
              "\n",
              "    .dataframe thead th {\n",
              "        text-align: right;\n",
              "    }\n",
              "</style>\n",
              "<table border=\"1\" class=\"dataframe\">\n",
              "  <thead>\n",
              "    <tr style=\"text-align: right;\">\n",
              "      <th></th>\n",
              "      <th>kegiatan</th>\n",
              "      <th>lokasi_pembangunan</th>\n",
              "      <th>kelurahan</th>\n",
              "      <th>kecamatan</th>\n",
              "      <th>wilayah</th>\n",
              "      <th>jumlah_unit</th>\n",
              "      <th>status_kepemilikan</th>\n",
              "      <th>anggaran_rupiah</th>\n",
              "    </tr>\n",
              "  </thead>\n",
              "  <tbody>\n",
              "    <tr>\n",
              "      <th>0</th>\n",
              "      <td>Penyelesaian Pembangunan Rumah Susun KS Tubun,...</td>\n",
              "      <td>Jl. KS Tubun, Kota Bambu Selatan, Pal Merah, J...</td>\n",
              "      <td>Kota Bambu Selatan</td>\n",
              "      <td>Pal Merah</td>\n",
              "      <td>Jakarta Barat</td>\n",
              "      <td>524</td>\n",
              "      <td>Sewa</td>\n",
              "      <td>95000000000</td>\n",
              "    </tr>\n",
              "    <tr>\n",
              "      <th>1</th>\n",
              "      <td>Pembangunan Rumah Susun Jatinegara Kaum Blok 1...</td>\n",
              "      <td>Jl. Raya Bekasi Timur, Jatinegara Kaum, Pulo G...</td>\n",
              "      <td>Jatinegara Kaum</td>\n",
              "      <td>Pulo Gadung</td>\n",
              "      <td>Jakarta Timur</td>\n",
              "      <td>200</td>\n",
              "      <td>Sewa</td>\n",
              "      <td>29591000000</td>\n",
              "    </tr>\n",
              "    <tr>\n",
              "      <th>2</th>\n",
              "      <td>Pembangunan Rumah Susun Tambora Tower A, B dan...</td>\n",
              "      <td>Jl. Angke, Angke, Tambora, Jakarta Barat</td>\n",
              "      <td>Angke</td>\n",
              "      <td>Tambora</td>\n",
              "      <td>Jakarta Barat</td>\n",
              "      <td>549</td>\n",
              "      <td>Sewa</td>\n",
              "      <td>190163050000</td>\n",
              "    </tr>\n",
              "  </tbody>\n",
              "</table>\n",
              "</div>\n",
              "      <button class=\"colab-df-convert\" onclick=\"convertToInteractive('df-e3c3b56e-ee77-471f-80a3-faded5788f30')\"\n",
              "              title=\"Convert this dataframe to an interactive table.\"\n",
              "              style=\"display:none;\">\n",
              "        \n",
              "  <svg xmlns=\"http://www.w3.org/2000/svg\" height=\"24px\"viewBox=\"0 0 24 24\"\n",
              "       width=\"24px\">\n",
              "    <path d=\"M0 0h24v24H0V0z\" fill=\"none\"/>\n",
              "    <path d=\"M18.56 5.44l.94 2.06.94-2.06 2.06-.94-2.06-.94-.94-2.06-.94 2.06-2.06.94zm-11 1L8.5 8.5l.94-2.06 2.06-.94-2.06-.94L8.5 2.5l-.94 2.06-2.06.94zm10 10l.94 2.06.94-2.06 2.06-.94-2.06-.94-.94-2.06-.94 2.06-2.06.94z\"/><path d=\"M17.41 7.96l-1.37-1.37c-.4-.4-.92-.59-1.43-.59-.52 0-1.04.2-1.43.59L10.3 9.45l-7.72 7.72c-.78.78-.78 2.05 0 2.83L4 21.41c.39.39.9.59 1.41.59.51 0 1.02-.2 1.41-.59l7.78-7.78 2.81-2.81c.8-.78.8-2.07 0-2.86zM5.41 20L4 18.59l7.72-7.72 1.47 1.35L5.41 20z\"/>\n",
              "  </svg>\n",
              "      </button>\n",
              "      \n",
              "  <style>\n",
              "    .colab-df-container {\n",
              "      display:flex;\n",
              "      flex-wrap:wrap;\n",
              "      gap: 12px;\n",
              "    }\n",
              "\n",
              "    .colab-df-convert {\n",
              "      background-color: #E8F0FE;\n",
              "      border: none;\n",
              "      border-radius: 50%;\n",
              "      cursor: pointer;\n",
              "      display: none;\n",
              "      fill: #1967D2;\n",
              "      height: 32px;\n",
              "      padding: 0 0 0 0;\n",
              "      width: 32px;\n",
              "    }\n",
              "\n",
              "    .colab-df-convert:hover {\n",
              "      background-color: #E2EBFA;\n",
              "      box-shadow: 0px 1px 2px rgba(60, 64, 67, 0.3), 0px 1px 3px 1px rgba(60, 64, 67, 0.15);\n",
              "      fill: #174EA6;\n",
              "    }\n",
              "\n",
              "    [theme=dark] .colab-df-convert {\n",
              "      background-color: #3B4455;\n",
              "      fill: #D2E3FC;\n",
              "    }\n",
              "\n",
              "    [theme=dark] .colab-df-convert:hover {\n",
              "      background-color: #434B5C;\n",
              "      box-shadow: 0px 1px 3px 1px rgba(0, 0, 0, 0.15);\n",
              "      filter: drop-shadow(0px 1px 2px rgba(0, 0, 0, 0.3));\n",
              "      fill: #FFFFFF;\n",
              "    }\n",
              "  </style>\n",
              "\n",
              "      <script>\n",
              "        const buttonEl =\n",
              "          document.querySelector('#df-e3c3b56e-ee77-471f-80a3-faded5788f30 button.colab-df-convert');\n",
              "        buttonEl.style.display =\n",
              "          google.colab.kernel.accessAllowed ? 'block' : 'none';\n",
              "\n",
              "        async function convertToInteractive(key) {\n",
              "          const element = document.querySelector('#df-e3c3b56e-ee77-471f-80a3-faded5788f30');\n",
              "          const dataTable =\n",
              "            await google.colab.kernel.invokeFunction('convertToInteractive',\n",
              "                                                     [key], {});\n",
              "          if (!dataTable) return;\n",
              "\n",
              "          const docLinkHtml = 'Like what you see? Visit the ' +\n",
              "            '<a target=\"_blank\" href=https://colab.research.google.com/notebooks/data_table.ipynb>data table notebook</a>'\n",
              "            + ' to learn more about interactive tables.';\n",
              "          element.innerHTML = '';\n",
              "          dataTable['output_type'] = 'display_data';\n",
              "          await google.colab.output.renderOutput(dataTable, element);\n",
              "          const docLink = document.createElement('div');\n",
              "          docLink.innerHTML = docLinkHtml;\n",
              "          element.appendChild(docLink);\n",
              "        }\n",
              "      </script>\n",
              "    </div>\n",
              "  </div>\n",
              "  "
            ]
          },
          "metadata": {},
          "execution_count": 5
        }
      ]
    },
    {
      "cell_type": "code",
      "source": [
        "df2014.columns"
      ],
      "metadata": {
        "colab": {
          "base_uri": "https://localhost:8080/"
        },
        "id": "mvnCoXisofo0",
        "outputId": "e9571de3-b3b3-4702-c009-a11237412509"
      },
      "execution_count": null,
      "outputs": [
        {
          "output_type": "execute_result",
          "data": {
            "text/plain": [
              "Index(['kegiatan', 'lokasi_pembangunan', 'kelurahan', 'kecamatan', 'wilayah',\n",
              "       'jumlah_unit', 'status_kepemilikan', 'anggaran_rupiah'],\n",
              "      dtype='object')"
            ]
          },
          "metadata": {},
          "execution_count": 7
        }
      ]
    },
    {
      "cell_type": "code",
      "source": [
        "df2014.kegiatan.unique()"
      ],
      "metadata": {
        "colab": {
          "base_uri": "https://localhost:8080/"
        },
        "id": "0CixMxRooi2i",
        "outputId": "c42c084d-30dd-4897-979a-11511170e2e5"
      },
      "execution_count": null,
      "outputs": [
        {
          "output_type": "execute_result",
          "data": {
            "text/plain": [
              "array(['Penyelesaian Pembangunan Rumah Susun KS Tubun, Jakarta Barat',\n",
              "       'Pembangunan Rumah Susun Jatinegara Kaum Blok 1 dan 2 (Multi Years TA.2013-2014)',\n",
              "       'Pembangunan Rumah Susun Tambora Tower A, B dan C (Multi Years TA.2013-2014)',\n",
              "       'Pembangunan Rumah Susun Pulo Gebang Blok 5 & 6 (Multi Years TA.2013-2014)',\n",
              "       'Pembangunan Cipinang Besar Selatan Blok 4 & 5 (Multi Years TA.2013- 2014',\n",
              "       'Pembangunan Rumah Susun untuk Lokasi Binaan (Lokbin) Rawa Buaya',\n",
              "       'Pembangunan Rumah Susun untuk Lokasi Binaan (Lokbin) Semper',\n",
              "       'Pembangunan Rumah Susun Pinus Elok 1 Blok',\n",
              "       'Pembangunan Rumah Susun Rawa Bebek, Jakarta Timur',\n",
              "       'Pembangunan Rumah Susun Jl. Raya Bekasi Km.2, Jakarta Timur',\n",
              "       'Pembangunan Rumah Susun Cakung Barat, Jakarta Timur',\n",
              "       'Pembangunan Rumah Susun Jatinegara Kaum, Jakarta Timur '],\n",
              "      dtype=object)"
            ]
          },
          "metadata": {},
          "execution_count": 8
        }
      ]
    },
    {
      "cell_type": "code",
      "source": [
        "df2014.shape"
      ],
      "metadata": {
        "colab": {
          "base_uri": "https://localhost:8080/"
        },
        "id": "bkp8_x67pSOZ",
        "outputId": "3236e532-d6ae-4d75-8061-4fb38e78b530"
      },
      "execution_count": null,
      "outputs": [
        {
          "output_type": "execute_result",
          "data": {
            "text/plain": [
              "(12, 8)"
            ]
          },
          "metadata": {},
          "execution_count": 13
        }
      ]
    },
    {
      "cell_type": "markdown",
      "source": [
        "Data Pembangunan Rusun pada Tahun 2014 hanya 11."
      ],
      "metadata": {
        "id": "Ky_lZc2uptX0"
      }
    },
    {
      "cell_type": "code",
      "source": [
        "df2018.shape"
      ],
      "metadata": {
        "colab": {
          "base_uri": "https://localhost:8080/"
        },
        "id": "dMH0NQOxpklL",
        "outputId": "aa7b7159-fa40-40c5-aac5-70e5c983bf21"
      },
      "execution_count": null,
      "outputs": [
        {
          "output_type": "execute_result",
          "data": {
            "text/plain": [
              "(12, 8)"
            ]
          },
          "metadata": {},
          "execution_count": 14
        }
      ]
    },
    {
      "cell_type": "markdown",
      "source": [
        "Data Pembangunan Rusun pada Tahun 2018 hanya 11.\n",
        "Data tidak relevan, sehingga harus mencari data lain."
      ],
      "metadata": {
        "id": "RzLt6gyKqb5l"
      }
    },
    {
      "cell_type": "markdown",
      "source": [
        "# Data Rumah Susun Sederhana Menurut Lokasi Luas Area Tipe dan Kota Administrasi di Provinsi DKI Jakarta\n",
        "\n",
        "Source :\n",
        "[Data BPS Rumah Susun DKI Jakarta 2017-2018 dan 2019-2021](https://jakarta.bps.go.id/indicator/4/808/1/jumlah-rumah-susun-sederhana-menurut-lokasi-luas-area-tipe-dan-kota-administrasi-di-provinsi-dki-jakarta.html)\n",
        "\n",
        "[Data Statistik BPS Rumah Susun Sederhana DKI Jakarta 2020](https://statistik.jakarta.go.id/rumah-susun-sederhana-di-dki-jakarta-tahun-2020/)\n"
      ],
      "metadata": {
        "id": "xca1Z6TYqp1R"
      }
    },
    {
      "cell_type": "code",
      "source": [
        "import pandas as pd\n",
        "import numpy as np\n",
        "import seaborn as sns\n",
        "\n",
        "import matplotlib as mpl\n",
        "import matplotlib.pyplot as plt\n",
        "\n",
        "import requests\n",
        "from io import StringIO\n",
        "\n",
        "from tensorflow import keras\n",
        "from tensorflow import nn\n",
        "\n",
        "from keras.models import Sequential\n",
        "from keras.layers import Dense, LSTM, Dropout\n",
        "from keras.callbacks import EarlyStopping\n",
        "from keras import optimizers\n",
        "\n",
        "from sklearn.preprocessing import StandardScaler\n",
        "from sklearn.metrics import mean_squared_error"
      ],
      "metadata": {
        "id": "5Rd3TUBY0qhP"
      },
      "execution_count": 77,
      "outputs": []
    },
    {
      "cell_type": "code",
      "source": [
        "df = pd.read_csv('/content/Jumlah Rumah Susun Sederhana Menurut Lokasi Luas Area Tipe dan Kota Administrasi di Provinsi DKI Jakarta 2017-2020.csv')\n",
        "df.head(2)"
      ],
      "metadata": {
        "colab": {
          "base_uri": "https://localhost:8080/",
          "height": 112
        },
        "id": "ZiJv181o1dFn",
        "outputId": "d3afe0bd-703a-4f46-f888-a630c1fc842f"
      },
      "execution_count": 78,
      "outputs": [
        {
          "output_type": "execute_result",
          "data": {
            "text/plain": [
              "   id_wil        Wilayah  Tahun  Lokasi  Jumlah Unit  Jumlah Blok Jumlah Tower\n",
              "0       1  Jakarta Barat   2017       6         2465           18            5\n",
              "1       2  Jakarta Pusat   2017       9         2786           21            3"
            ],
            "text/html": [
              "\n",
              "  <div id=\"df-3eed20a0-44d2-4a8c-96be-e1d4d4fa9aa5\">\n",
              "    <div class=\"colab-df-container\">\n",
              "      <div>\n",
              "<style scoped>\n",
              "    .dataframe tbody tr th:only-of-type {\n",
              "        vertical-align: middle;\n",
              "    }\n",
              "\n",
              "    .dataframe tbody tr th {\n",
              "        vertical-align: top;\n",
              "    }\n",
              "\n",
              "    .dataframe thead th {\n",
              "        text-align: right;\n",
              "    }\n",
              "</style>\n",
              "<table border=\"1\" class=\"dataframe\">\n",
              "  <thead>\n",
              "    <tr style=\"text-align: right;\">\n",
              "      <th></th>\n",
              "      <th>id_wil</th>\n",
              "      <th>Wilayah</th>\n",
              "      <th>Tahun</th>\n",
              "      <th>Lokasi</th>\n",
              "      <th>Jumlah Unit</th>\n",
              "      <th>Jumlah Blok</th>\n",
              "      <th>Jumlah Tower</th>\n",
              "    </tr>\n",
              "  </thead>\n",
              "  <tbody>\n",
              "    <tr>\n",
              "      <th>0</th>\n",
              "      <td>1</td>\n",
              "      <td>Jakarta Barat</td>\n",
              "      <td>2017</td>\n",
              "      <td>6</td>\n",
              "      <td>2465</td>\n",
              "      <td>18</td>\n",
              "      <td>5</td>\n",
              "    </tr>\n",
              "    <tr>\n",
              "      <th>1</th>\n",
              "      <td>2</td>\n",
              "      <td>Jakarta Pusat</td>\n",
              "      <td>2017</td>\n",
              "      <td>9</td>\n",
              "      <td>2786</td>\n",
              "      <td>21</td>\n",
              "      <td>3</td>\n",
              "    </tr>\n",
              "  </tbody>\n",
              "</table>\n",
              "</div>\n",
              "      <button class=\"colab-df-convert\" onclick=\"convertToInteractive('df-3eed20a0-44d2-4a8c-96be-e1d4d4fa9aa5')\"\n",
              "              title=\"Convert this dataframe to an interactive table.\"\n",
              "              style=\"display:none;\">\n",
              "        \n",
              "  <svg xmlns=\"http://www.w3.org/2000/svg\" height=\"24px\"viewBox=\"0 0 24 24\"\n",
              "       width=\"24px\">\n",
              "    <path d=\"M0 0h24v24H0V0z\" fill=\"none\"/>\n",
              "    <path d=\"M18.56 5.44l.94 2.06.94-2.06 2.06-.94-2.06-.94-.94-2.06-.94 2.06-2.06.94zm-11 1L8.5 8.5l.94-2.06 2.06-.94-2.06-.94L8.5 2.5l-.94 2.06-2.06.94zm10 10l.94 2.06.94-2.06 2.06-.94-2.06-.94-.94-2.06-.94 2.06-2.06.94z\"/><path d=\"M17.41 7.96l-1.37-1.37c-.4-.4-.92-.59-1.43-.59-.52 0-1.04.2-1.43.59L10.3 9.45l-7.72 7.72c-.78.78-.78 2.05 0 2.83L4 21.41c.39.39.9.59 1.41.59.51 0 1.02-.2 1.41-.59l7.78-7.78 2.81-2.81c.8-.78.8-2.07 0-2.86zM5.41 20L4 18.59l7.72-7.72 1.47 1.35L5.41 20z\"/>\n",
              "  </svg>\n",
              "      </button>\n",
              "      \n",
              "  <style>\n",
              "    .colab-df-container {\n",
              "      display:flex;\n",
              "      flex-wrap:wrap;\n",
              "      gap: 12px;\n",
              "    }\n",
              "\n",
              "    .colab-df-convert {\n",
              "      background-color: #E8F0FE;\n",
              "      border: none;\n",
              "      border-radius: 50%;\n",
              "      cursor: pointer;\n",
              "      display: none;\n",
              "      fill: #1967D2;\n",
              "      height: 32px;\n",
              "      padding: 0 0 0 0;\n",
              "      width: 32px;\n",
              "    }\n",
              "\n",
              "    .colab-df-convert:hover {\n",
              "      background-color: #E2EBFA;\n",
              "      box-shadow: 0px 1px 2px rgba(60, 64, 67, 0.3), 0px 1px 3px 1px rgba(60, 64, 67, 0.15);\n",
              "      fill: #174EA6;\n",
              "    }\n",
              "\n",
              "    [theme=dark] .colab-df-convert {\n",
              "      background-color: #3B4455;\n",
              "      fill: #D2E3FC;\n",
              "    }\n",
              "\n",
              "    [theme=dark] .colab-df-convert:hover {\n",
              "      background-color: #434B5C;\n",
              "      box-shadow: 0px 1px 3px 1px rgba(0, 0, 0, 0.15);\n",
              "      filter: drop-shadow(0px 1px 2px rgba(0, 0, 0, 0.3));\n",
              "      fill: #FFFFFF;\n",
              "    }\n",
              "  </style>\n",
              "\n",
              "      <script>\n",
              "        const buttonEl =\n",
              "          document.querySelector('#df-3eed20a0-44d2-4a8c-96be-e1d4d4fa9aa5 button.colab-df-convert');\n",
              "        buttonEl.style.display =\n",
              "          google.colab.kernel.accessAllowed ? 'block' : 'none';\n",
              "\n",
              "        async function convertToInteractive(key) {\n",
              "          const element = document.querySelector('#df-3eed20a0-44d2-4a8c-96be-e1d4d4fa9aa5');\n",
              "          const dataTable =\n",
              "            await google.colab.kernel.invokeFunction('convertToInteractive',\n",
              "                                                     [key], {});\n",
              "          if (!dataTable) return;\n",
              "\n",
              "          const docLinkHtml = 'Like what you see? Visit the ' +\n",
              "            '<a target=\"_blank\" href=https://colab.research.google.com/notebooks/data_table.ipynb>data table notebook</a>'\n",
              "            + ' to learn more about interactive tables.';\n",
              "          element.innerHTML = '';\n",
              "          dataTable['output_type'] = 'display_data';\n",
              "          await google.colab.output.renderOutput(dataTable, element);\n",
              "          const docLink = document.createElement('div');\n",
              "          docLink.innerHTML = docLinkHtml;\n",
              "          element.appendChild(docLink);\n",
              "        }\n",
              "      </script>\n",
              "    </div>\n",
              "  </div>\n",
              "  "
            ]
          },
          "metadata": {},
          "execution_count": 78
        }
      ]
    },
    {
      "cell_type": "code",
      "source": [
        "df.shape"
      ],
      "metadata": {
        "colab": {
          "base_uri": "https://localhost:8080/"
        },
        "id": "CyxJJVP72NES",
        "outputId": "e8ba51a4-f1f2-453d-ad47-db2e506d9590"
      },
      "execution_count": 79,
      "outputs": [
        {
          "output_type": "execute_result",
          "data": {
            "text/plain": [
              "(25, 7)"
            ]
          },
          "metadata": {},
          "execution_count": 79
        }
      ]
    },
    {
      "cell_type": "code",
      "source": [
        "df.info()"
      ],
      "metadata": {
        "colab": {
          "base_uri": "https://localhost:8080/"
        },
        "id": "Z9oUyLFC2Op7",
        "outputId": "2f6670b0-1470-40b4-e083-fb3729c2de13"
      },
      "execution_count": 80,
      "outputs": [
        {
          "output_type": "stream",
          "name": "stdout",
          "text": [
            "<class 'pandas.core.frame.DataFrame'>\n",
            "RangeIndex: 25 entries, 0 to 24\n",
            "Data columns (total 7 columns):\n",
            " #   Column        Non-Null Count  Dtype \n",
            "---  ------        --------------  ----- \n",
            " 0   id_wil        25 non-null     int64 \n",
            " 1   Wilayah       25 non-null     object\n",
            " 2   Tahun         25 non-null     int64 \n",
            " 3   Lokasi        25 non-null     int64 \n",
            " 4   Jumlah Unit   25 non-null     int64 \n",
            " 5   Jumlah Blok   25 non-null     int64 \n",
            " 6   Jumlah Tower  25 non-null     object\n",
            "dtypes: int64(5), object(2)\n",
            "memory usage: 1.5+ KB\n"
          ]
        }
      ]
    },
    {
      "cell_type": "code",
      "source": [
        "df['Tahun'] = pd.to_datetime(df['Tahun'], format='%Y')"
      ],
      "metadata": {
        "id": "S4oDeZxg2WjZ"
      },
      "execution_count": 81,
      "outputs": []
    },
    {
      "cell_type": "code",
      "source": [
        "sns.lineplot(data = df, x = 'Tahun', y = 'Jumlah Unit', hue = 'Wilayah')\n",
        "plt.legend(loc='upper right')\n",
        "plt.show()"
      ],
      "metadata": {
        "colab": {
          "base_uri": "https://localhost:8080/",
          "height": 279
        },
        "id": "OfBpqC7Y21-Q",
        "outputId": "34113bd2-9491-43ae-e0b4-10b91a885e72"
      },
      "execution_count": 82,
      "outputs": [
        {
          "output_type": "display_data",
          "data": {
            "text/plain": [
              "<Figure size 432x288 with 1 Axes>"
            ],
            "image/png": "[encoded data removed]"
          },
          "metadata": {
            "needs_background": "light"
          }
        }
      ]
    },
    {
      "cell_type": "markdown",
      "source": [
        "## Model"
      ],
      "metadata": {
        "id": "9joYoP8i4Mox"
      }
    },
    {
      "cell_type": "code",
      "source": [
        "df['Wilayah'].unique()"
      ],
      "metadata": {
        "colab": {
          "base_uri": "https://localhost:8080/"
        },
        "id": "Cns3U6MAIxQ0",
        "outputId": "370871c1-6f46-41d0-f56a-ca9a369b8786"
      },
      "execution_count": 83,
      "outputs": [
        {
          "output_type": "execute_result",
          "data": {
            "text/plain": [
              "array(['Jakarta Barat', 'Jakarta Pusat', 'Jakarta Selatan',\n",
              "       'Jakarta Timur', 'Jakarta Utara'], dtype=object)"
            ]
          },
          "metadata": {},
          "execution_count": 83
        }
      ]
    },
    {
      "cell_type": "code",
      "source": [
        "window = 5\n",
        "# banyak wilayah"
      ],
      "metadata": {
        "id": "uEPzX5DF4Oc-"
      },
      "execution_count": 84,
      "outputs": []
    },
    {
      "cell_type": "code",
      "source": [
        "# This value is the window size we are using\n",
        "index = window\n",
        "\n",
        "feature, target = [], []\n",
        "\n",
        "while(index < df.shape[0]):\n",
        "    feature.append(df.iloc[index - window: index]['Jumlah Unit'].to_numpy())\n",
        "    target.append(df.iloc[index][['id_wil' , 'Tahun']].to_numpy())\n",
        "    index = index + 1\n",
        "feature = np.array(feature)\n",
        "target = np.array(target)"
      ],
      "metadata": {
        "id": "TJvLOlzk4Qkn"
      },
      "execution_count": 85,
      "outputs": []
    },
    {
      "cell_type": "code",
      "source": [
        "size_test = int(df['Tahun'].value_counts().index.shape[0] * 0.8)\n",
        "separation_date = df['Tahun'].value_counts().index.sort_values()[size_test]"
      ],
      "metadata": {
        "id": "9DynnJal4qUC"
      },
      "execution_count": 86,
      "outputs": []
    },
    {
      "cell_type": "code",
      "source": [
        "x_train, y_train, x_test, y_test = [], [], [], []\n",
        "for i,t in enumerate(target):\n",
        "    if t[1] < separation_date:\n",
        "        x_train.append(feature[i])\n",
        "        y_train.append(target[i][0])\n",
        "    else:\n",
        "        x_test.append(feature[i])\n",
        "        y_test.append(target[i][0])"
      ],
      "metadata": {
        "id": "ebt15I2O41Fi"
      },
      "execution_count": 87,
      "outputs": []
    },
    {
      "cell_type": "code",
      "source": [
        "x_train, x_test = np.array(x_train), np.array(x_test)\n",
        "y_train, y_test = np.array(y_train).reshape(-1, 1), np.array(y_test).reshape(-1, 1)"
      ],
      "metadata": {
        "id": "w72Bscfl445C"
      },
      "execution_count": 88,
      "outputs": []
    },
    {
      "cell_type": "code",
      "source": [
        "scaler_feature = StandardScaler()\n",
        "scaler_feature.fit(x_train)\n",
        "x_train = scaler_feature.transform(x_train)\n",
        "x_test = scaler_feature.transform(x_test)\n",
        "\n",
        "# Reshaping features for the LSTM\n",
        "x_train, x_test = x_train.reshape(-1,window,1), x_test.reshape(-1,window,1)\n",
        "\n",
        "scaler_target = StandardScaler()\n",
        "scaler_target.fit(y_train)\n",
        "y_train = scaler_target.transform(y_train)\n",
        "y_test = scaler_target.transform(y_test)"
      ],
      "metadata": {
        "id": "0jMnFNd647pm"
      },
      "execution_count": 89,
      "outputs": []
    },
    {
      "cell_type": "code",
      "source": [
        "model = keras.Sequential()\n",
        "model.add(keras.layers.LSTM(units = 128, return_sequences = True, input_shape=(x_train.shape[1], x_train.shape[2])))\n",
        "model.add(keras.layers.Dropout(0.2))\n",
        "\n",
        "model.add(keras.layers.LSTM(units = 128))\n",
        "model.add(keras.layers.Dropout(0.25))\n",
        "model.add(keras.layers.Dense(1))\n",
        "\n",
        "model.compile(loss='mean_squared_error', optimizer='adam')\n",
        "model.summary()"
      ],
      "metadata": {
        "id": "Y-yjCb8G4-Oq",
        "colab": {
          "base_uri": "https://localhost:8080/"
        },
        "outputId": "326f95d5-68bf-4b93-b782-94844c8c073d"
      },
      "execution_count": 90,
      "outputs": [
        {
          "output_type": "stream",
          "name": "stdout",
          "text": [
            "Model: \"sequential_1\"\n",
            "_________________________________________________________________\n",
            " Layer (type)                Output Shape              Param #   \n",
            "=================================================================\n",
            " lstm (LSTM)                 (None, 5, 128)            66560     \n",
            "                                                                 \n",
            " dropout (Dropout)           (None, 5, 128)            0         \n",
            "                                                                 \n",
            " lstm_1 (LSTM)               (None, 128)               131584    \n",
            "                                                                 \n",
            " dropout_1 (Dropout)         (None, 128)               0         \n",
            "                                                                 \n",
            " dense (Dense)               (None, 1)                 129       \n",
            "                                                                 \n",
            "=================================================================\n",
            "Total params: 198,273\n",
            "Trainable params: 198,273\n",
            "Non-trainable params: 0\n",
            "_________________________________________________________________\n"
          ]
        }
      ]
    },
    {
      "cell_type": "code",
      "source": [
        "result = model.fit(x_train,y_train,validation_data=(x_test,y_test),epochs=10)"
      ],
      "metadata": {
        "id": "n7kZsvF_5egt",
        "colab": {
          "base_uri": "https://localhost:8080/"
        },
        "outputId": "9ed01445-46ac-4357-ac78-73a132fa38f4"
      },
      "execution_count": 91,
      "outputs": [
        {
          "output_type": "stream",
          "name": "stdout",
          "text": [
            "Epoch 1/10\n",
            "1/1 [==============================] - 5s 5s/step - loss: 0.9974 - val_loss: 0.9815\n",
            "Epoch 2/10\n",
            "1/1 [==============================] - 0s 50ms/step - loss: 0.9794 - val_loss: 0.9633\n",
            "Epoch 3/10\n",
            "1/1 [==============================] - 0s 46ms/step - loss: 0.9642 - val_loss: 0.9434\n",
            "Epoch 4/10\n",
            "1/1 [==============================] - 0s 48ms/step - loss: 0.9544 - val_loss: 0.9209\n",
            "Epoch 5/10\n",
            "1/1 [==============================] - 0s 49ms/step - loss: 0.9241 - val_loss: 0.8951\n",
            "Epoch 6/10\n",
            "1/1 [==============================] - 0s 46ms/step - loss: 0.8971 - val_loss: 0.8650\n",
            "Epoch 7/10\n",
            "1/1 [==============================] - 0s 48ms/step - loss: 0.8836 - val_loss: 0.8302\n",
            "Epoch 8/10\n",
            "1/1 [==============================] - 0s 45ms/step - loss: 0.8469 - val_loss: 0.7902\n",
            "Epoch 9/10\n",
            "1/1 [==============================] - 0s 47ms/step - loss: 0.8041 - val_loss: 0.7446\n",
            "Epoch 10/10\n",
            "1/1 [==============================] - 0s 44ms/step - loss: 0.7564 - val_loss: 0.6933\n"
          ]
        }
      ]
    },
    {
      "cell_type": "code",
      "source": [
        "# Function to print the results of the fit process\n",
        "def print_loss(result):\n",
        "    plt.plot(result.history['loss'])\n",
        "    plt.plot(result.history['val_loss'])\n",
        "    plt.legend(['Train', 'Test'])\n",
        "    plt.xlabel('Epochs')\n",
        "    plt.ylabel('Cost')\n",
        "    plt.show()\n",
        "\n",
        "print_loss(result)"
      ],
      "metadata": {
        "id": "LeWLeKlQ5lbn",
        "colab": {
          "base_uri": "https://localhost:8080/",
          "height": 279
        },
        "outputId": "af3b94ae-f864-46d1-cf46-40911302fe72"
      },
      "execution_count": 92,
      "outputs": [
        {
          "output_type": "display_data",
          "data": {
            "text/plain": [
              "<Figure size 432x288 with 1 Axes>"
            ],
            "image/png": "[encoded data removed]"
          },
          "metadata": {
            "needs_background": "light"
          }
        }
      ]
    },
    {
      "cell_type": "code",
      "source": [
        "y_predicted = model.predict(x_test)\n",
        "\n",
        "ax = sns.scatterplot(x=y_predicted[:,0], y=y_test[:,0])\n",
        "ax.set_ylabel('jumlah unit test')\n",
        "ax.set_xlabel('jumlah unit predicted')\n",
        "plt.show()"
      ],
      "metadata": {
        "id": "t-htqQUN5vnW",
        "colab": {
          "base_uri": "https://localhost:8080/",
          "height": 279
        },
        "outputId": "c03044e2-61b4-4970-bf91-44a942e9f2f9"
      },
      "execution_count": 93,
      "outputs": [
        {
          "output_type": "display_data",
          "data": {
            "text/plain": [
              "<Figure size 432x288 with 1 Axes>"
            ],
            "image/png": "[encoded data removed]"
          },
          "metadata": {
            "needs_background": "light"
          }
        }
      ]
    },
    {
      "cell_type": "code",
      "source": [
        "y_predicted = scaler_target.inverse_transform(y_predicted)"
      ],
      "metadata": {
        "id": "5YdOOGeT53Gl"
      },
      "execution_count": 94,
      "outputs": []
    },
    {
      "cell_type": "code",
      "source": [
        "diff = y_predicted - y_test\n",
        "\n",
        "print(\"MSE:\", np.mean(diff**2))\n",
        "print(\"MAE:\", np.mean(abs(diff)))\n",
        "print(\"RMSE:\", np.sqrt(np.mean(diff**2)))"
      ],
      "metadata": {
        "id": "oB_jKJnJ59Eg",
        "colab": {
          "base_uri": "https://localhost:8080/"
        },
        "outputId": "1bd2c884-8db8-470e-d766-da299e84a120"
      },
      "execution_count": 95,
      "outputs": [
        {
          "output_type": "stream",
          "name": "stdout",
          "text": [
            "MSE: 10.186682122851035\n",
            "MAE: 3.0968608379364015\n",
            "RMSE: 3.191658208964587\n"
          ]
        }
      ]
    }
  ]
}
